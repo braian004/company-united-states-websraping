{
 "cells": [
  {
   "cell_type": "code",
   "execution_count": 425,
   "metadata": {},
   "outputs": [],
   "source": [
    "import pandas as pd\n",
    "from bs4 import BeautifulSoup\n",
    "from lxml import etree\n",
    "import requests"
   ]
  },
  {
   "cell_type": "code",
   "execution_count": 426,
   "metadata": {},
   "outputs": [],
   "source": [
    "url_georgia = \"https://www.visitingangels.com/senior-home-care-georgia-ga\""
   ]
  },
  {
   "cell_type": "code",
   "execution_count": 427,
   "metadata": {},
   "outputs": [],
   "source": [
    "r = requests.get(url_georgia)\n",
    "r.status_code\n",
    "soup = BeautifulSoup(r.content,'html.parser')"
   ]
  },
  {
   "cell_type": "code",
   "execution_count": null,
   "metadata": {},
   "outputs": [],
   "source": [
    "stados =['Alabama',\n",
    " 'Alaska',\n",
    " 'Arizona',\n",
    " 'Arkansas',\n",
    " 'California',\n",
    " 'Colorado',\n",
    " 'Connecticut',\n",
    " 'Delaware',\n",
    " 'District of Columbia',\n",
    " 'Florida',\n",
    " 'Georgia',\n",
    " 'Hawaii',\n",
    " 'Idaho',\n",
    " 'Illinois',\n",
    " 'Indiana',\n",
    " 'Iowa',\n",
    " 'Kansas',\n",
    " 'Kentucky',\n",
    " 'Louisiana',\n",
    " 'Maine',\n",
    " 'Maryland',\n",
    " 'Massachusetts',\n",
    " 'Michigan',\n",
    " 'Minnesota',\n",
    " 'Mississippi',\n",
    " 'Missouri',\n",
    " 'Montana',\n",
    " 'Nebraska',\n",
    " 'Nevada',\n",
    " 'New Hampshire',\n",
    " 'New Jersey',\n",
    " 'New Mexico',\n",
    " 'New York',\n",
    " 'North Carolina',\n",
    " 'North Dakota',\n",
    " 'Ohio',\n",
    " 'Oklahoma',\n",
    " 'Oregon',\n",
    " 'Pennsylvania',\n",
    " 'Rhode Island',\n",
    " 'South Carolina',\n",
    " 'South Dakota',\n",
    " 'Tennessee',\n",
    " 'Texas',\n",
    " 'Utah',\n",
    " 'Vermont',\n",
    " 'Virginia',\n",
    " 'Washington',\n",
    " 'West Virginia',\n",
    " 'Wisconsin',\n",
    " 'Wyoming']\n"
   ]
  },
  {
   "cell_type": "code",
   "execution_count": null,
   "metadata": {},
   "outputs": [
    {
     "name": "stdout",
     "output_type": "stream",
     "text": [
      "51\n"
     ]
    }
   ],
   "source": [
    "print(len(stados))"
   ]
  },
  {
   "cell_type": "code",
   "execution_count": 316,
   "metadata": {},
   "outputs": [
    {
     "name": "stdout",
     "output_type": "stream",
     "text": [
      "['https://www.visitingangels.com/senior-home-care-Alabama-', 'https://www.visitingangels.com/senior-home-care-Alaska-', 'https://www.visitingangels.com/senior-home-care-Arizona-', 'https://www.visitingangels.com/senior-home-care-Arkansas-', 'https://www.visitingangels.com/senior-home-care-California-', 'https://www.visitingangels.com/senior-home-care-Colorado-', 'https://www.visitingangels.com/senior-home-care-Connecticut-', 'https://www.visitingangels.com/senior-home-care-Delaware-', 'https://www.visitingangels.com/senior-home-care-District of Columbia-', 'https://www.visitingangels.com/senior-home-care-Florida-', 'https://www.visitingangels.com/senior-home-care-Georgia-', 'https://www.visitingangels.com/senior-home-care-Hawaii-', 'https://www.visitingangels.com/senior-home-care-Idaho-', 'https://www.visitingangels.com/senior-home-care-Illinois-', 'https://www.visitingangels.com/senior-home-care-Indiana-', 'https://www.visitingangels.com/senior-home-care-Iowa-', 'https://www.visitingangels.com/senior-home-care-Kansas-', 'https://www.visitingangels.com/senior-home-care-Kentucky-', 'https://www.visitingangels.com/senior-home-care-Louisiana-', 'https://www.visitingangels.com/senior-home-care-Maine-', 'https://www.visitingangels.com/senior-home-care-Maryland-', 'https://www.visitingangels.com/senior-home-care-Massachusetts-', 'https://www.visitingangels.com/senior-home-care-Michigan-', 'https://www.visitingangels.com/senior-home-care-Minnesota-', 'https://www.visitingangels.com/senior-home-care-Mississippi-', 'https://www.visitingangels.com/senior-home-care-Missouri-', 'https://www.visitingangels.com/senior-home-care-Montana-', 'https://www.visitingangels.com/senior-home-care-Nebraska-', 'https://www.visitingangels.com/senior-home-care-Nevada-', 'https://www.visitingangels.com/senior-home-care-New Hampshire-', 'https://www.visitingangels.com/senior-home-care-New Jersey-', 'https://www.visitingangels.com/senior-home-care-New Mexico-', 'https://www.visitingangels.com/senior-home-care-New York-', 'https://www.visitingangels.com/senior-home-care-North Carolina-', 'https://www.visitingangels.com/senior-home-care-North Dakota-', 'https://www.visitingangels.com/senior-home-care-Ohio-', 'https://www.visitingangels.com/senior-home-care-Oklahoma-', 'https://www.visitingangels.com/senior-home-care-Oregon-', 'https://www.visitingangels.com/senior-home-care-Pennsylvania-', 'https://www.visitingangels.com/senior-home-care-Rhode Island-', 'https://www.visitingangels.com/senior-home-care-South Carolina-', 'https://www.visitingangels.com/senior-home-care-South Dakota-', 'https://www.visitingangels.com/senior-home-care-Tennessee-', 'https://www.visitingangels.com/senior-home-care-Texas-', 'https://www.visitingangels.com/senior-home-care-Utah-', 'https://www.visitingangels.com/senior-home-care-Vermont-', 'https://www.visitingangels.com/senior-home-care-Virginia-', 'https://www.visitingangels.com/senior-home-care-Washington-', 'https://www.visitingangels.com/senior-home-care-West Virginia-', 'https://www.visitingangels.com/senior-home-care-Wisconsin-', 'https://www.visitingangels.com/senior-home-care-Wyoming-']\n"
     ]
    }
   ],
   "source": [
    "url_base = 'https://www.visitingangels.com/senior-home-care-{}-'\n",
    "url_modificada = []\n",
    "for i in stados:\n",
    "    url_modificada.append(url_base.format(i))\n",
    "print(url_modificada)"
   ]
  },
  {
   "cell_type": "code",
   "execution_count": 317,
   "metadata": {},
   "outputs": [],
   "source": [
    "url_modificada1 = [url.lower().replace(' ', '-') for url in url_modificada]"
   ]
  },
  {
   "cell_type": "code",
   "execution_count": 318,
   "metadata": {},
   "outputs": [
    {
     "name": "stdout",
     "output_type": "stream",
     "text": [
      "['New Hampshire', 'New Jersey', 'New Mexico', 'New York', 'North Carolina', 'North Dakota', 'Rhode Island', 'South Carolina', 'South Dakota', 'West Virginia']\n",
      "['District of Columbia']\n"
     ]
    }
   ],
   "source": [
    "# Inicializar listas vacías para palabras con un espacio y dos espacios\n",
    "con_un_espacio = []\n",
    "con_dos_espacios = []\n",
    "\n",
    "# Dividir la lista en las dos categorías\n",
    "for palabra in stados:\n",
    "    if ' ' in palabra:\n",
    "        if palabra.count(' ') == 1:\n",
    "            con_un_espacio.append(palabra)\n",
    "        elif palabra.count(' ') == 2:\n",
    "            con_dos_espacios.append(palabra)\n",
    "       \n",
    "# Imprimir las listas resultantes\n",
    "print(con_un_espacio)\n",
    "print(con_dos_espacios)\n"
   ]
  },
  {
   "cell_type": "code",
   "execution_count": 319,
   "metadata": {},
   "outputs": [
    {
     "name": "stdout",
     "output_type": "stream",
     "text": [
      "['Mississippi', 'Indiana', 'Kentucky', 'Montana', 'Vermont', 'Oklahoma', 'Minnesota', 'Kansas', 'Missouri', 'Michigan', 'California', 'Pennsylvania', 'Tennessee', 'Wisconsin', 'Arizona', 'Alaska', 'Virginia', 'Maryland', 'Oregon', 'Maine', 'Hawaii', 'Utah', 'Nebraska', 'Delaware', 'Iowa', 'Texas', 'Colorado', 'Arkansas', 'Idaho', 'Louisiana', 'Massachusetts', 'Illinois', 'Alabama', 'Florida', 'Connecticut', 'Ohio', 'Wyoming', 'Nevada', 'Washington', 'Georgia']\n"
     ]
    }
   ],
   "source": [
    "set_stados = set(stados)\n",
    "set_con_un_espacio = set(con_un_espacio)\n",
    "set_con_dos_espacios = set(con_dos_espacios)\n",
    "\n",
    "# Obtener los datos distintos a con_un_espacio y con_dos_espacios\n",
    "sin_espacio = list(set_stados - set_con_un_espacio - set_con_dos_espacios)\n",
    "\n",
    "# Imprimir los datos finales\n",
    "print(sin_espacio)\n"
   ]
  },
  {
   "cell_type": "code",
   "execution_count": 383,
   "metadata": {},
   "outputs": [
    {
     "name": "stdout",
     "output_type": "stream",
     "text": [
      "40\n",
      "['new hampshire', 'new jersey', 'new mexico', 'new york', 'north carolina', 'north dakota', 'rhode island', 'south carolina', 'south dakota', 'west virginia']\n",
      "1\n"
     ]
    }
   ],
   "source": [
    "result_lower_sin_espacion = [i.lower() for i in sin_espacio]\n",
    "print(len(result_lower_sin_espacion))\n",
    "result_lower_con_un_espacio = [i.lower() for i in con_un_espacio]\n",
    "print(result_lower_con_un_espacio)\n",
    "result_lower_con_dos_espacios = [i.lower() for i in con_dos_espacios]\n",
    "print(len(result_lower_con_dos_espacios))"
   ]
  },
  {
   "cell_type": "code",
   "execution_count": 394,
   "metadata": {},
   "outputs": [],
   "source": [
    "# Obtener la primera y la última letra de cada palabra en la lista\n",
    "result_execcion1 = [(i[0]+i[1])for i in result_lower_sin_espacion]\n",
    "result1 = [(i[0]+i[-1])for i in result_lower_sin_espacion]\n",
    "result2 = [(palabra.split()[0][0]+palabra.split()[1][0]) for palabra in result_lower_con_un_espacio]\n",
    "result3 = [(palabra.split()[0][0]+palabra.split()[2][0]) for palabra in result_lower_con_dos_espacios]"
   ]
  },
  {
   "cell_type": "code",
   "execution_count": 396,
   "metadata": {},
   "outputs": [
    {
     "name": "stdout",
     "output_type": "stream",
     "text": [
      "40\n",
      "40\n",
      "10\n",
      "1\n"
     ]
    }
   ],
   "source": [
    "url2 = 'https://www.visitingangels.com/senior-home-care-{}-{}'\n",
    "urls_combinadas_execcion1 = [url2.format(lower.lower(), upper.lower()) for lower, upper in zip(sin_espacio, result_execcion1)]\n",
    "urls_combinadas1 = [url2.format(lower.lower(), upper.lower()) for lower, upper in zip(sin_espacio, result1)]\n",
    "urls_combinadas2 = [url2.format(lower.lower(), upper.lower()) for lower, upper in zip(con_un_espacio, result2)]\n",
    "urls_combinadas3 = [url2.format(lower.lower(), upper.lower()) for lower, upper in zip(con_dos_espacios, result3)]\n",
    "\n",
    "# Imprimir las URLs combinadas\n",
    "print(len(urls_combinadas_execcion1))\n",
    "print(len(urls_combinadas1))\n",
    "print(len(urls_combinadas2))\n",
    "print(len(urls_combinadas3))"
   ]
  },
  {
   "cell_type": "code",
   "execution_count": 460,
   "metadata": {},
   "outputs": [],
   "source": [
    "url_all = urls_combinadas_execcion1+urls_combinadas1+urls_combinadas2+urls_combinadas3"
   ]
  },
  {
   "cell_type": "code",
   "execution_count": 473,
   "metadata": {},
   "outputs": [],
   "source": [
    "url_all = [i.replace(' ', '-') for i in url_all]"
   ]
  },
  {
   "cell_type": "code",
   "execution_count": 469,
   "metadata": {},
   "outputs": [
    {
     "name": "stdout",
     "output_type": "stream",
     "text": [
      "['/senior-homecare-adrian-michigan-49221_1060', '/senior-homecare-ann-arbor-michigan-48108_749', '/senior-homecare-brighton-michigan-48116_63', '/senior-homecare-charlotte-michigan-48813_1131', '/senior-homecare-chelsea-michigan-48118_1202', '/senior-homecare-clarkston-michigan-48346_717', '/senior-homecare-dearborn-michigan-48120_1105', '/senior-homecare-east-lansing-michigan-48823_1252', '/senior-homecare-farmington-hills-michigan-48335_935', '/senior-homecare-ferndale-michigan-48820_1306', '/senior-homecare-frankenmuth-michigan-48734_61', '/senior-homecare-grand-rapids-michigan-49506_60', '/senior-homecare-grosse-pointe-woods-michigan-48236_1232', '/senior-homecare-livonia-michigan-48150_552', '/senior-homecare-monroe-michigan-48161_837', '/senior-homecare-novi-michigan-48377_1207', '/senior-homecare-okemos-michigan-48864_730', '/senior-homecare-owosso-michigan-48867_1250', '/senior-homecare-plainwell-michigan-49080_1137', '/senior-homecare-port-huron-michigan-48060_541', '/senior-homecare-portage-michigan-49002_1061', '/senior-homecare-rochester-hills-michigan-48309_832', '/senior-homecare-sterling-heights-michigan-48314_252', '/senior-homecare-mishawaka-indiana-46545_696']\n",
      "['/senior-homecare-anderson-indiana-46012_665', '/senior-homecare-bloomington-indiana-47404_737', '/senior-homecare-carmel-indiana-46032_1117', '/senior-homecare-columbus-indiana-47201_1254', '/senior-homecare-evansville-indiana-47708_1049', '/senior-homecare-frankfort-indiana-46041_814', '/senior-homecare-ft-wayne-indiana-46804_509', '/senior-homecare-greencastle-indiana-46135_636', '/senior-homecare-greenfield-indiana-46140_1269', '/senior-homecare-greenwood-indiana-46143_629', '/senior-homecare-indianapolis-indiana-46240_1012', '/senior-homecare-mishawaka-indiana-46545_696', '/senior-homecare-nappanee-indiana-46550_838', '/senior-homecare-new-albany-indiana-47150_1106', '/senior-homecare-schererville-indiana-46375_660', '/senior-homecare-scottsburg-indiana-47170_1236', '/senior-homecare-seymour-indiana-47274_1193', '/senior-homecare-terre-haute-indiana-47803_902']\n",
      "[]\n",
      "['/senior-homecare-columbia-missouri-65203_1197', '/senior-homecare-creve-coeur-missouri-63141_1231', '/senior-homecare-farmington-missouri-63640_1121', '/senior-homecare-north-kansas-city-missouri-64119_1228', '/senior-homecare-joplin-missouri-64804_564', '/senior-homecare-kansas-city-missouri-64114_1282', '/senior-homecare-o39fallon-missouri-63366_815', '/senior-homecare-springfield-missouri-65804_789', '/senior-homecare-st-louis-missouri-63123_949', '/senior-homecare-st-charles-missouri-63303_450', '/senior-homecare-webster-groves-missouri-63119_948', '/senior-homecare-overland-park-kansas-66212_743']\n",
      "[]\n",
      "['/senior-homecare-bartlesville-oklahoma-74006_676', '/senior-homecare-edmond-oklahoma-73003_1075', '/senior-homecare-lawton-oklahoma-73505_987', '/senior-homecare-midwest-city-oklahoma-73130_720', '/senior-homecare-southwest-oklahoma-city-oklahoma-73170_1164', '/senior-homecare-tulsa-oklahoma-74120_416', '/senior-homecare-yukon-oklahoma-73099_87']\n",
      "['/senior-homecare-adrian-michigan-49221_1060', '/senior-homecare-ann-arbor-michigan-48108_749', '/senior-homecare-brighton-michigan-48116_63', '/senior-homecare-charlotte-michigan-48813_1131', '/senior-homecare-chelsea-michigan-48118_1202', '/senior-homecare-clarkston-michigan-48346_717', '/senior-homecare-dearborn-michigan-48120_1105', '/senior-homecare-east-lansing-michigan-48823_1252', '/senior-homecare-farmington-hills-michigan-48335_935', '/senior-homecare-ferndale-michigan-48820_1306', '/senior-homecare-frankenmuth-michigan-48734_61', '/senior-homecare-grand-rapids-michigan-49506_60', '/senior-homecare-grosse-pointe-woods-michigan-48236_1232', '/senior-homecare-livonia-michigan-48150_552', '/senior-homecare-monroe-michigan-48161_837', '/senior-homecare-novi-michigan-48377_1207', '/senior-homecare-okemos-michigan-48864_730', '/senior-homecare-owosso-michigan-48867_1250', '/senior-homecare-plainwell-michigan-49080_1137', '/senior-homecare-port-huron-michigan-48060_541', '/senior-homecare-portage-michigan-49002_1061', '/senior-homecare-rochester-hills-michigan-48309_832', '/senior-homecare-sterling-heights-michigan-48314_252', '/senior-homecare-mishawaka-indiana-46545_696']\n",
      "[]\n",
      "['/senior-homecare-adrian-michigan-49221_1060', '/senior-homecare-ann-arbor-michigan-48108_749', '/senior-homecare-brighton-michigan-48116_63', '/senior-homecare-charlotte-michigan-48813_1131', '/senior-homecare-chelsea-michigan-48118_1202', '/senior-homecare-clarkston-michigan-48346_717', '/senior-homecare-dearborn-michigan-48120_1105', '/senior-homecare-east-lansing-michigan-48823_1252', '/senior-homecare-farmington-hills-michigan-48335_935', '/senior-homecare-ferndale-michigan-48820_1306', '/senior-homecare-frankenmuth-michigan-48734_61', '/senior-homecare-grand-rapids-michigan-49506_60', '/senior-homecare-grosse-pointe-woods-michigan-48236_1232', '/senior-homecare-livonia-michigan-48150_552', '/senior-homecare-monroe-michigan-48161_837', '/senior-homecare-novi-michigan-48377_1207', '/senior-homecare-okemos-michigan-48864_730', '/senior-homecare-owosso-michigan-48867_1250', '/senior-homecare-plainwell-michigan-49080_1137', '/senior-homecare-port-huron-michigan-48060_541', '/senior-homecare-portage-michigan-49002_1061', '/senior-homecare-rochester-hills-michigan-48309_832', '/senior-homecare-sterling-heights-michigan-48314_252', '/senior-homecare-mishawaka-indiana-46545_696']\n",
      "['/senior-homecare-adrian-michigan-49221_1060', '/senior-homecare-ann-arbor-michigan-48108_749', '/senior-homecare-brighton-michigan-48116_63', '/senior-homecare-charlotte-michigan-48813_1131', '/senior-homecare-chelsea-michigan-48118_1202', '/senior-homecare-clarkston-michigan-48346_717', '/senior-homecare-dearborn-michigan-48120_1105', '/senior-homecare-east-lansing-michigan-48823_1252', '/senior-homecare-farmington-hills-michigan-48335_935', '/senior-homecare-ferndale-michigan-48820_1306', '/senior-homecare-frankenmuth-michigan-48734_61', '/senior-homecare-grand-rapids-michigan-49506_60', '/senior-homecare-grosse-pointe-woods-michigan-48236_1232', '/senior-homecare-livonia-michigan-48150_552', '/senior-homecare-monroe-michigan-48161_837', '/senior-homecare-novi-michigan-48377_1207', '/senior-homecare-okemos-michigan-48864_730', '/senior-homecare-owosso-michigan-48867_1250', '/senior-homecare-plainwell-michigan-49080_1137', '/senior-homecare-port-huron-michigan-48060_541', '/senior-homecare-portage-michigan-49002_1061', '/senior-homecare-rochester-hills-michigan-48309_832', '/senior-homecare-sterling-heights-michigan-48314_252', '/senior-homecare-mishawaka-indiana-46545_696']\n",
      "['/senior-homecare-alameda-california-94501_1089', '/senior-homecare-anaheim-california-92805_1042', '/senior-homecare-burlingame-california-94010_510', '/senior-homecare-camarillo-california-93010_734', '/senior-homecare-cameron-park-california-95682_572', '/senior-homecare-carpinteria-california-93013_780', '/senior-homecare-cerritos-california-90703_1040', '/senior-homecare-chino-california-91710_662', '/senior-homecare-chula-vista-california-91911_1004', '/senior-homecare-el-cajon-california-92020_1006', '/senior-homecare-eureka-california-95501_386', '/senior-homecare-fremont-california-94538_1125', '/senior-homecare-fresno-california-93711_977', '/senior-homecare-garden-grove-california-92841_1276', '/senior-homecare-gilroy-california-95020_356', '/senior-homecare-glendale-california-91205_886', '/senior-homecare-glendora-california-91741_1157', '/senior-homecare-huntington-beach-california-92648_1126', '/senior-homecare-la-jolla-california-92037_1277', '/senior-homecare-la-mesa-california-91942_1038', '/senior-homecare-lake-forest-california-92630_1168', '/senior-homecare-lindsay-california-93247_1270', '/senior-homecare-livermore-california-94551_1278', '/senior-homecare-long-beach-california-90814_210', '/senior-homecare-beverly-hills-california-90035_1264', '/senior-homecare-los-angeles-california-90045_415', '/senior-homecare-murrieta-california-92562_191', '/senior-homecare-newport-beach-california-92663_1046', '/senior-homecare-orange-california-92867_1293', '/senior-homecare-pasadena-california-91105_887', '/senior-homecare-pinole-california-94564_917', '/senior-homecare-redding-california-96002_492', '/senior-homecare-redlands-california-92374_452', '/senior-homecare-san-jose-and-redwood-city-california-94063_290', '/senior-homecare-reseda-california-91335_973', '/senior-homecare-riverside-california-92509_209', '/senior-homecare-rocklin-california-95677_1192', '/senior-homecare-rolling-hills-estates-california-90274_1323', '/senior-homecare-midtown-sacramento-california-95818_932', '/senior-homecare-sacramento-california-95821_15', '/senior-homecare-san-diego-california-92108_1088', '/senior-homecare-poway-california-92131_1281', '/senior-homecare-redwood-city-california-95129_9', '/senior-homecare-san-jose-california-95125_1093', '/senior-homecare-san-luis-obispo-california-93401_571', '/senior-homecare-san-marcos-california-92069_1025', '/senior-homecare-san-pedro-california-90731_1152', '/senior-homecare-santa-monica-california-90401_990', '/senior-homecare-scotts-valley-california-95066_264', '/senior-homecare-simi-valley-california-93065_1091', '/senior-homecare-sunnyvale-california-94087_158', '/senior-homecare-toluca-lake-california-91602_448', '/senior-homecare-torrance-california-90503_626', '/senior-homecare-tustin-california-92780_1301', '/senior-homecare-upland-california-91786_1107', '/senior-homecare-valencia-california-91355_322', '/senior-homecare-victorville-california-92392_1326', '/senior-homecare-whittier-california-90603_1291', '/senior-homecare-woodland-hills-california-91364_756']\n",
      "[]\n",
      "[]\n",
      "['/senior-homecare-altoona-wisconsin-54720_791', '/senior-homecare-appleton-wisconsin-54914_957', '/senior-homecare-beaver-dam-wisconsin-53916_943', '/senior-homecare-depere-wisconsin-54115_1300', '/senior-homecare-fond-du-lac-wisconsin-54935_956', '/senior-homecare-fort-atkinson-wisconsin-53538_125', '/senior-homecare-germantown-wisconsin-53022_126', '/senior-homecare-madison-wisconsin-53713_763', '/senior-homecare-milwaukee-wisconsin-53213_699', '/senior-homecare-oshkosh-wisconsin-54901_958', '/senior-homecare-pewaukee-wisconsin-53072_1112', '/senior-homecare-sheboygan-wisconsin-53081_1083']\n",
      "['/senior-homecare-benton-arkansas-72019_1262', '/senior-homecare-conway-arkansas-72032_1109', '/senior-homecare-fort-smith-arkansas-72901_1322', '/senior-homecare-hot-springs-arkansas-71901_1116', '/senior-homecare-jonesboro-arkansas-72401_619', '/senior-homecare-little-rock-arkansas-72211_591', '/senior-homecare-lowell-arkansas-72745_1321']\n",
      "['/senior-homecare-anniston-alabama-36207_1138', '/senior-homecare-birmingham-alabama-35235_911', '/senior-homecare-south-birmingham-alabama-35216_1257', '/senior-homecare-cullman-alabama-35055_744', '/senior-homecare-daphne-alabama-36526_1008', '/senior-homecare-florence-alabama-35630_1155', '/senior-homecare-foley-alabama-36535_1191', '/senior-homecare-gadsden-alabama-35901_1067', '/senior-homecare-huntsville-alabama-35802_1036', '/senior-homecare-jasper-alabama-35501_1209', '/senior-homecare-mobile-alabama-36608_1082', '/senior-homecare-montgomery-alabama-36106_919', '/senior-homecare-northport-alabama-35473_748', '/senior-homecare-columbus-georgia-31901_1071']\n",
      "[]\n",
      "['/senior-homecare-acton-massachusetts-01720_440', '/senior-homecare-boston-massachusetts-02108_1213', '/senior-homecare-chelmsford-massachusetts-01824_1144', '/senior-homecare-chelsea-massachusetts-02150_1064', '/senior-homecare-danvers-massachusetts-01915_1170', '/senior-homecare-harwich-massachusetts-02645_545', '/senior-homecare-leominster-massachusetts-01453_1167', '/senior-homecare-marshfield-massachusetts-02050_1265', '/senior-homecare-medford-massachusetts-02155_595', '/senior-homecare-milford-massachusetts-01757_916', '/senior-homecare-n-attleboro-massachusetts-02760_53', '/senior-homecare-new-bedford-massachusetts-02740_823', '/senior-homecare-newburyport-massachusetts-01950_1274', '/senior-homecare-newton-massachusetts-02458_1188', '/senior-homecare-palmer-massachusetts-01069_1302', '/senior-homecare-pittsfield-massachusetts-01201_986', '/senior-homecare-raynham-massachusetts-02767_1039', '/senior-homecare-shelburne-falls-massachusetts-01370_1184', '/senior-homecare-southbridge-massachusetts-01550_672', '/senior-homecare-sudbury-massachusetts-01776_373', '/senior-homecare-west-springfield-massachusetts-01089_51', '/senior-homecare-worcester-massachusetts-01609_321']\n",
      "['/senior-homecare-albany-oregon-97321_200', '/senior-homecare-bend-oregon-97702_436', '/senior-homecare-eugene-oregon-97401_594', '/senior-homecare-gresham-oregon-97030_437', '/senior-homecare-medford-oregon-97504_813', '/senior-homecare-newberg-oregon-97132_286', '/senior-homecare-west-and-southeast-portland-oregon-97225_1023', '/senior-homecare-northern-and-upper-south-east-portland-oregon-97211_1005', '/senior-homecare-west-linn-oregon-97068_1160']\n",
      "['/senior-homecare-acton-massachusetts-01720_440', '/senior-homecare-boston-massachusetts-02108_1213', '/senior-homecare-chelmsford-massachusetts-01824_1144', '/senior-homecare-chelsea-massachusetts-02150_1064', '/senior-homecare-danvers-massachusetts-01915_1170', '/senior-homecare-harwich-massachusetts-02645_545', '/senior-homecare-leominster-massachusetts-01453_1167', '/senior-homecare-marshfield-massachusetts-02050_1265', '/senior-homecare-medford-massachusetts-02155_595', '/senior-homecare-milford-massachusetts-01757_916', '/senior-homecare-n-attleboro-massachusetts-02760_53', '/senior-homecare-new-bedford-massachusetts-02740_823', '/senior-homecare-newburyport-massachusetts-01950_1274', '/senior-homecare-newton-massachusetts-02458_1188', '/senior-homecare-palmer-massachusetts-01069_1302', '/senior-homecare-pittsfield-massachusetts-01201_986', '/senior-homecare-raynham-massachusetts-02767_1039', '/senior-homecare-shelburne-falls-massachusetts-01370_1184', '/senior-homecare-southbridge-massachusetts-01550_672', '/senior-homecare-sudbury-massachusetts-01776_373', '/senior-homecare-west-springfield-massachusetts-01089_51', '/senior-homecare-worcester-massachusetts-01609_321']\n",
      "[]\n",
      "['/senior-homecare-bountiful-utah-84010_1268', '/senior-homecare-layton-utah-84041_1267', '/senior-homecare-provo-utah-84604_1243', '/senior-homecare-salt-lake-city-utah-84124_991', '/senior-homecare-west-salt-lake-utah-84119_1102', '/senior-homecare-south-jordan-utah-84095_1161', '/senior-homecare-st-george-utah-84790_798']\n",
      "['/senior-homecare-bellevue-nebraska-68005_1063', '/senior-homecare-lincoln-nebraska-68510_1076', '/senior-homecare-norfolk-nebraska-68701_1251', '/senior-homecare-sioux-city-iowa-51108_945']\n",
      "['/senior-homecare-middletown-delaware-19709_1211', '/senior-homecare-milton-delaware-19968_1186', '/senior-homecare-wilmington-delaware-19803_768']\n",
      "[]\n",
      "[]\n",
      "['/senior-homecare-aurora-colorado-80011_1086', '/senior-homecare-brighton-colorado-80601_1090', '/senior-homecare-broomfield-colorado-80021_1246', '/senior-homecare-colorado-springs-colorado-80907_711', '/senior-homecare-eagle-colorado-81631_778', '/senior-homecare-grand-junction-colorado-81501_1255', '/senior-homecare-littleton-colorado-80120_1239', '/senior-homecare-longmont-colorado-80501_1245', '/senior-homecare-loveland-colorado-80538_1272', '/senior-homecare-pagosa-springs-colorado-81147_658', '/senior-homecare-pueblo-colorado-81003_1041', '/senior-homecare-wheat-ridge-colorado-80033_1244']\n",
      "['/senior-homecare-benton-arkansas-72019_1262', '/senior-homecare-conway-arkansas-72032_1109', '/senior-homecare-fort-smith-arkansas-72901_1322', '/senior-homecare-hot-springs-arkansas-71901_1116', '/senior-homecare-jonesboro-arkansas-72401_619', '/senior-homecare-little-rock-arkansas-72211_591', '/senior-homecare-lowell-arkansas-72745_1321']\n",
      "['/senior-homecare-coeur-d39alene-idaho-83814_1266', '/senior-homecare-idaho-falls-idaho-83404_904', '/senior-homecare-meridian-idaho-83642_1056', '/senior-homecare-pocatello-idaho-83201_1022']\n",
      "[]\n",
      "['/senior-homecare-acton-massachusetts-01720_440', '/senior-homecare-boston-massachusetts-02108_1213', '/senior-homecare-chelmsford-massachusetts-01824_1144', '/senior-homecare-chelsea-massachusetts-02150_1064', '/senior-homecare-danvers-massachusetts-01915_1170', '/senior-homecare-harwich-massachusetts-02645_545', '/senior-homecare-leominster-massachusetts-01453_1167', '/senior-homecare-marshfield-massachusetts-02050_1265', '/senior-homecare-medford-massachusetts-02155_595', '/senior-homecare-milford-massachusetts-01757_916', '/senior-homecare-n-attleboro-massachusetts-02760_53', '/senior-homecare-new-bedford-massachusetts-02740_823', '/senior-homecare-newburyport-massachusetts-01950_1274', '/senior-homecare-newton-massachusetts-02458_1188', '/senior-homecare-palmer-massachusetts-01069_1302', '/senior-homecare-pittsfield-massachusetts-01201_986', '/senior-homecare-raynham-massachusetts-02767_1039', '/senior-homecare-shelburne-falls-massachusetts-01370_1184', '/senior-homecare-southbridge-massachusetts-01550_672', '/senior-homecare-sudbury-massachusetts-01776_373', '/senior-homecare-west-springfield-massachusetts-01089_51', '/senior-homecare-worcester-massachusetts-01609_321']\n",
      "['/senior-homecare-arlington-heights-illinois-60005_363', '/senior-homecare-barrington-illinois-60010_971', '/senior-homecare-crystal-lake-illinois-60014_664', '/senior-homecare-dekalb-illinois-60115_589', '/senior-homecare-effingham-illinois-62401_1085', '/senior-homecare-elmwood-park-illinois-60707_383', '/senior-homecare-glen-carbon-illinois-62034_872', '/senior-homecare-libertyville-illinois-60048_1205', '/senior-homecare-naperville-illinois-60563_1237', '/senior-homecare-niles-illinois-60714_673', '/senior-homecare-northbrook-illinois-60062_1313', '/senior-homecare-okawville-illinois-62271_1177', '/senior-homecare-orland-park-illinois-60467_1073', '/senior-homecare-la-grange-illinois-60487_1175', '/senior-homecare-peoria-illinois-61615_1048', '/senior-homecare-plainfield-illinois-60544_688', '/senior-homecare-rockford-illinois-61108_1288', '/senior-homecare-savoy-illinois-61874_1310', '/senior-homecare-south-elgin-illinois-60177_1311', '/senior-homecare-springfield-illinois-62704_1098', '/senior-homecare-waterloo-illinois-62298_388']\n",
      "['/senior-homecare-anniston-alabama-36207_1138', '/senior-homecare-birmingham-alabama-35235_911', '/senior-homecare-south-birmingham-alabama-35216_1257', '/senior-homecare-cullman-alabama-35055_744', '/senior-homecare-daphne-alabama-36526_1008', '/senior-homecare-florence-alabama-35630_1155', '/senior-homecare-foley-alabama-36535_1191', '/senior-homecare-gadsden-alabama-35901_1067', '/senior-homecare-huntsville-alabama-35802_1036', '/senior-homecare-jasper-alabama-35501_1209', '/senior-homecare-mobile-alabama-36608_1082', '/senior-homecare-montgomery-alabama-36106_919', '/senior-homecare-northport-alabama-35473_748', '/senior-homecare-columbus-georgia-31901_1071']\n",
      "['/senior-homecare-bradenton-florida-34207_839', '/senior-homecare-cape-coral-florida-33904_1329', '/senior-homecare-clermont-florida-34711_882', '/senior-homecare-coral-springs-florida-33071_1097', '/senior-homecare-daytona-beach-florida-32119_441', '/senior-homecare-deerfield-beach-florida-33442_562', '/senior-homecare-delray-beach-florida-33484_40', '/senior-homecare-destin-florida-32541_807', '/senior-homecare-ft-myers-florida-33916_1179', '/senior-homecare-gainesville-florida-32606_687', '/senior-homecare-south-jacksonville-florida-32217_871', '/senior-homecare-north-jacksonville-florida-32210_577', '/senior-homecare-kissimmee-florida-34741_530', '/senior-homecare-lady-lake-florida-32159_888', '/senior-homecare-lutz-florida-33559_1200', '/senior-homecare-melbourne-florida-32935_627', '/senior-homecare-miami-florida-33183_338', '/senior-homecare-naples-florida-34108_1180', '/senior-homecare-new-port-richey-florida-34652_1201', '/senior-homecare-north-fort-myers-florida-33903_1229', '/senior-homecare-north-miami-florida-33181_666', '/senior-homecare-ocala-florida-34481_367', '/senior-homecare-orlando-florida-32809_397', '/senior-homecare-pace-florida-32571_1015', '/senior-homecare-palm-beach-gardens-florida-33410_692', '/senior-homecare-palm-coast-florida-32164_37', '/senior-homecare-palm-harbor-florida-34683_33', '/senior-homecare-panama-city-florida-32405_860', '/senior-homecare-port-st-lucie-florida-34952_1242', '/senior-homecare-punta-gorda-florida-33950_1226', '/senior-homecare-sanford-florida-32771_298', '/senior-homecare-sarasota-florida-34232_816', '/senior-homecare-spring-hill-florida-34606_1176', '/senior-homecare-st-petersburg-florida-33716_371', '/senior-homecare-sun-city-center-florida-33573_211', '/senior-homecare-tallahassee-florida-32309_1296', '/senior-homecare-tampa-florida-33617_287', '/senior-homecare-northwest-hillsborough-county-florida-33624_650', '/senior-homecare-tarpon-springs-florida-34689_724', '/senior-homecare-venice-florida-34285_1259', '/senior-homecare-winter-park-florida-32789_376']\n",
      "['/senior-homecare-aurora-colorado-80011_1086', '/senior-homecare-brighton-colorado-80601_1090', '/senior-homecare-broomfield-colorado-80021_1246', '/senior-homecare-colorado-springs-colorado-80907_711', '/senior-homecare-eagle-colorado-81631_778', '/senior-homecare-grand-junction-colorado-81501_1255', '/senior-homecare-littleton-colorado-80120_1239', '/senior-homecare-longmont-colorado-80501_1245', '/senior-homecare-loveland-colorado-80538_1272', '/senior-homecare-pagosa-springs-colorado-81147_658', '/senior-homecare-pueblo-colorado-81003_1041', '/senior-homecare-wheat-ridge-colorado-80033_1244']\n",
      "['/senior-homecare-huber-heights-ohio-45424_895', '/senior-homecare-berea-ohio-44017_716', '/senior-homecare-bowling-green-ohio-43402_1146', '/senior-homecare-cambridge-ohio-43725_1331', '/senior-homecare-canton-ohio-44708_311', '/senior-homecare-centerville-ohio-45459_1214', '/senior-homecare-eastern-cincinnati-ohio-45255_576', '/senior-homecare-west-side-cincinnati-ohio-45251_303', '/senior-homecare-cleveland-ohio-44120_81', '/senior-homecare-columbus-ohio-43220_1279', '/senior-homecare-edgerton-ohio-43517_1238', '/senior-homecare-elyria-ohio-44035_1256', '/senior-homecare-medina-ohio-44256_407', '/senior-homecare-mentor-ohio-44060_84', '/senior-homecare-portsmouth-ohio-45662_1303', '/senior-homecare-ravenna-ohio-44266_1230', '/senior-homecare-rocky-river-ohio-44116_86', '/senior-homecare-salem-ohio-44460_166', '/senior-homecare-tallmadge-ohio-44278_83', '/senior-homecare-toledo-ohio-43617_1145', '/senior-homecare-west-chester-ohio-45069_385', '/senior-homecare-westerville-ohio-43081_1299', '/senior-homecare-wilmington-ohio-45177_1066', '/senior-homecare-florence-kentucky-41042_50', '/senior-homecare-wheeling-west-virginia-26003_601']\n",
      "[]\n",
      "['/senior-homecare-bellevue-nebraska-68005_1063', '/senior-homecare-lincoln-nebraska-68510_1076', '/senior-homecare-norfolk-nebraska-68701_1251', '/senior-homecare-sioux-city-iowa-51108_945']\n",
      "['/senior-homecare-bellingham-washington-98226_122', '/senior-homecare-everett-washington-98201_295', '/senior-homecare-fall-city-washington-98024_984', '/senior-homecare-issaquah-washington-98027_1284', '/senior-homecare-kennewick-washington-99336_947', '/senior-homecare-kirkland-washington-98034_1148', '/senior-homecare-lacey-washington-98503_1305', '/senior-homecare-longview-washington-98632_852', '/senior-homecare-maple-valley-washington-98038_1271', '/senior-homecare-mount-vernon-washington-98273_788', '/senior-homecare-port-orchard-washington-98366_648', '/senior-homecare-puyallup-washington-98373_618', '/senior-homecare-renton-washington-98057_1285', '/senior-homecare-seattle-washington-98107_834', '/senior-homecare-west-seattle-washington-98101_1149', '/senior-homecare-spokane-valley-washington-99212_1289', '/senior-homecare-tacoma-washington-98405_121', '/senior-homecare-tukwila-washington-98188_411', '/senior-homecare-vancouver-washington-98661_364', '/senior-homecare-yakima-washington-98902_1219']\n"
     ]
    },
    {
     "ename": "KeyboardInterrupt",
     "evalue": "",
     "output_type": "error",
     "traceback": [
      "\u001b[1;31m---------------------------------------------------------------------------\u001b[0m",
      "\u001b[1;31mKeyboardInterrupt\u001b[0m                         Traceback (most recent call last)",
      "\u001b[1;32mc:\\Users\\Tito\\Desktop\\ETL-company-EEUU\\url.ipynb Cell 15\u001b[0m line \u001b[0;36m3\n\u001b[0;32m      <a href='vscode-notebook-cell:/c%3A/Users/Tito/Desktop/ETL-company-EEUU/url.ipynb#Y101sZmlsZQ%3D%3D?line=0'>1</a>\u001b[0m \u001b[39mfor\u001b[39;00m url \u001b[39min\u001b[39;00m url_all:\n\u001b[0;32m      <a href='vscode-notebook-cell:/c%3A/Users/Tito/Desktop/ETL-company-EEUU/url.ipynb#Y101sZmlsZQ%3D%3D?line=1'>2</a>\u001b[0m     \u001b[39m# Realizar solicitud HTTP\u001b[39;00m\n\u001b[1;32m----> <a href='vscode-notebook-cell:/c%3A/Users/Tito/Desktop/ETL-company-EEUU/url.ipynb#Y101sZmlsZQ%3D%3D?line=2'>3</a>\u001b[0m     response \u001b[39m=\u001b[39m requests\u001b[39m.\u001b[39;49mget(url)\n\u001b[0;32m      <a href='vscode-notebook-cell:/c%3A/Users/Tito/Desktop/ETL-company-EEUU/url.ipynb#Y101sZmlsZQ%3D%3D?line=4'>5</a>\u001b[0m     \u001b[39m# Verificar si la solicitud fue exitosa (código de estado 200)\u001b[39;00m\n\u001b[0;32m      <a href='vscode-notebook-cell:/c%3A/Users/Tito/Desktop/ETL-company-EEUU/url.ipynb#Y101sZmlsZQ%3D%3D?line=5'>6</a>\u001b[0m     \u001b[39mif\u001b[39;00m response\u001b[39m.\u001b[39mstatus_code \u001b[39m==\u001b[39m \u001b[39m200\u001b[39m:\n\u001b[0;32m      <a href='vscode-notebook-cell:/c%3A/Users/Tito/Desktop/ETL-company-EEUU/url.ipynb#Y101sZmlsZQ%3D%3D?line=6'>7</a>\u001b[0m         \u001b[39m# Parsear el contenido HTML\u001b[39;00m\n",
      "File \u001b[1;32mc:\\Users\\Tito\\AppData\\Local\\Programs\\Python\\Python311\\Lib\\site-packages\\requests\\api.py:73\u001b[0m, in \u001b[0;36mget\u001b[1;34m(url, params, **kwargs)\u001b[0m\n\u001b[0;32m     62\u001b[0m \u001b[39mdef\u001b[39;00m \u001b[39mget\u001b[39m(url, params\u001b[39m=\u001b[39m\u001b[39mNone\u001b[39;00m, \u001b[39m*\u001b[39m\u001b[39m*\u001b[39mkwargs):\n\u001b[0;32m     63\u001b[0m \u001b[39m    \u001b[39m\u001b[39mr\u001b[39m\u001b[39m\"\"\"Sends a GET request.\u001b[39;00m\n\u001b[0;32m     64\u001b[0m \n\u001b[0;32m     65\u001b[0m \u001b[39m    :param url: URL for the new :class:`Request` object.\u001b[39;00m\n\u001b[1;32m   (...)\u001b[0m\n\u001b[0;32m     70\u001b[0m \u001b[39m    :rtype: requests.Response\u001b[39;00m\n\u001b[0;32m     71\u001b[0m \u001b[39m    \"\"\"\u001b[39;00m\n\u001b[1;32m---> 73\u001b[0m     \u001b[39mreturn\u001b[39;00m request(\u001b[39m\"\u001b[39;49m\u001b[39mget\u001b[39;49m\u001b[39m\"\u001b[39;49m, url, params\u001b[39m=\u001b[39;49mparams, \u001b[39m*\u001b[39;49m\u001b[39m*\u001b[39;49mkwargs)\n",
      "File \u001b[1;32mc:\\Users\\Tito\\AppData\\Local\\Programs\\Python\\Python311\\Lib\\site-packages\\requests\\api.py:59\u001b[0m, in \u001b[0;36mrequest\u001b[1;34m(method, url, **kwargs)\u001b[0m\n\u001b[0;32m     55\u001b[0m \u001b[39m# By using the 'with' statement we are sure the session is closed, thus we\u001b[39;00m\n\u001b[0;32m     56\u001b[0m \u001b[39m# avoid leaving sockets open which can trigger a ResourceWarning in some\u001b[39;00m\n\u001b[0;32m     57\u001b[0m \u001b[39m# cases, and look like a memory leak in others.\u001b[39;00m\n\u001b[0;32m     58\u001b[0m \u001b[39mwith\u001b[39;00m sessions\u001b[39m.\u001b[39mSession() \u001b[39mas\u001b[39;00m session:\n\u001b[1;32m---> 59\u001b[0m     \u001b[39mreturn\u001b[39;00m session\u001b[39m.\u001b[39;49mrequest(method\u001b[39m=\u001b[39;49mmethod, url\u001b[39m=\u001b[39;49murl, \u001b[39m*\u001b[39;49m\u001b[39m*\u001b[39;49mkwargs)\n",
      "File \u001b[1;32mc:\\Users\\Tito\\AppData\\Local\\Programs\\Python\\Python311\\Lib\\site-packages\\requests\\sessions.py:589\u001b[0m, in \u001b[0;36mSession.request\u001b[1;34m(self, method, url, params, data, headers, cookies, files, auth, timeout, allow_redirects, proxies, hooks, stream, verify, cert, json)\u001b[0m\n\u001b[0;32m    584\u001b[0m send_kwargs \u001b[39m=\u001b[39m {\n\u001b[0;32m    585\u001b[0m     \u001b[39m\"\u001b[39m\u001b[39mtimeout\u001b[39m\u001b[39m\"\u001b[39m: timeout,\n\u001b[0;32m    586\u001b[0m     \u001b[39m\"\u001b[39m\u001b[39mallow_redirects\u001b[39m\u001b[39m\"\u001b[39m: allow_redirects,\n\u001b[0;32m    587\u001b[0m }\n\u001b[0;32m    588\u001b[0m send_kwargs\u001b[39m.\u001b[39mupdate(settings)\n\u001b[1;32m--> 589\u001b[0m resp \u001b[39m=\u001b[39m \u001b[39mself\u001b[39;49m\u001b[39m.\u001b[39;49msend(prep, \u001b[39m*\u001b[39;49m\u001b[39m*\u001b[39;49msend_kwargs)\n\u001b[0;32m    591\u001b[0m \u001b[39mreturn\u001b[39;00m resp\n",
      "File \u001b[1;32mc:\\Users\\Tito\\AppData\\Local\\Programs\\Python\\Python311\\Lib\\site-packages\\requests\\sessions.py:703\u001b[0m, in \u001b[0;36mSession.send\u001b[1;34m(self, request, **kwargs)\u001b[0m\n\u001b[0;32m    700\u001b[0m start \u001b[39m=\u001b[39m preferred_clock()\n\u001b[0;32m    702\u001b[0m \u001b[39m# Send the request\u001b[39;00m\n\u001b[1;32m--> 703\u001b[0m r \u001b[39m=\u001b[39m adapter\u001b[39m.\u001b[39;49msend(request, \u001b[39m*\u001b[39;49m\u001b[39m*\u001b[39;49mkwargs)\n\u001b[0;32m    705\u001b[0m \u001b[39m# Total elapsed time of the request (approximately)\u001b[39;00m\n\u001b[0;32m    706\u001b[0m elapsed \u001b[39m=\u001b[39m preferred_clock() \u001b[39m-\u001b[39m start\n",
      "File \u001b[1;32mc:\\Users\\Tito\\AppData\\Local\\Programs\\Python\\Python311\\Lib\\site-packages\\requests\\adapters.py:486\u001b[0m, in \u001b[0;36mHTTPAdapter.send\u001b[1;34m(self, request, stream, timeout, verify, cert, proxies)\u001b[0m\n\u001b[0;32m    483\u001b[0m     timeout \u001b[39m=\u001b[39m TimeoutSauce(connect\u001b[39m=\u001b[39mtimeout, read\u001b[39m=\u001b[39mtimeout)\n\u001b[0;32m    485\u001b[0m \u001b[39mtry\u001b[39;00m:\n\u001b[1;32m--> 486\u001b[0m     resp \u001b[39m=\u001b[39m conn\u001b[39m.\u001b[39;49murlopen(\n\u001b[0;32m    487\u001b[0m         method\u001b[39m=\u001b[39;49mrequest\u001b[39m.\u001b[39;49mmethod,\n\u001b[0;32m    488\u001b[0m         url\u001b[39m=\u001b[39;49murl,\n\u001b[0;32m    489\u001b[0m         body\u001b[39m=\u001b[39;49mrequest\u001b[39m.\u001b[39;49mbody,\n\u001b[0;32m    490\u001b[0m         headers\u001b[39m=\u001b[39;49mrequest\u001b[39m.\u001b[39;49mheaders,\n\u001b[0;32m    491\u001b[0m         redirect\u001b[39m=\u001b[39;49m\u001b[39mFalse\u001b[39;49;00m,\n\u001b[0;32m    492\u001b[0m         assert_same_host\u001b[39m=\u001b[39;49m\u001b[39mFalse\u001b[39;49;00m,\n\u001b[0;32m    493\u001b[0m         preload_content\u001b[39m=\u001b[39;49m\u001b[39mFalse\u001b[39;49;00m,\n\u001b[0;32m    494\u001b[0m         decode_content\u001b[39m=\u001b[39;49m\u001b[39mFalse\u001b[39;49;00m,\n\u001b[0;32m    495\u001b[0m         retries\u001b[39m=\u001b[39;49m\u001b[39mself\u001b[39;49m\u001b[39m.\u001b[39;49mmax_retries,\n\u001b[0;32m    496\u001b[0m         timeout\u001b[39m=\u001b[39;49mtimeout,\n\u001b[0;32m    497\u001b[0m         chunked\u001b[39m=\u001b[39;49mchunked,\n\u001b[0;32m    498\u001b[0m     )\n\u001b[0;32m    500\u001b[0m \u001b[39mexcept\u001b[39;00m (ProtocolError, \u001b[39mOSError\u001b[39;00m) \u001b[39mas\u001b[39;00m err:\n\u001b[0;32m    501\u001b[0m     \u001b[39mraise\u001b[39;00m \u001b[39mConnectionError\u001b[39;00m(err, request\u001b[39m=\u001b[39mrequest)\n",
      "File \u001b[1;32mc:\\Users\\Tito\\AppData\\Local\\Programs\\Python\\Python311\\Lib\\site-packages\\urllib3\\connectionpool.py:790\u001b[0m, in \u001b[0;36mHTTPConnectionPool.urlopen\u001b[1;34m(self, method, url, body, headers, retries, redirect, assert_same_host, timeout, pool_timeout, release_conn, chunked, body_pos, preload_content, decode_content, **response_kw)\u001b[0m\n\u001b[0;32m    787\u001b[0m response_conn \u001b[39m=\u001b[39m conn \u001b[39mif\u001b[39;00m \u001b[39mnot\u001b[39;00m release_conn \u001b[39melse\u001b[39;00m \u001b[39mNone\u001b[39;00m\n\u001b[0;32m    789\u001b[0m \u001b[39m# Make the request on the HTTPConnection object\u001b[39;00m\n\u001b[1;32m--> 790\u001b[0m response \u001b[39m=\u001b[39m \u001b[39mself\u001b[39;49m\u001b[39m.\u001b[39;49m_make_request(\n\u001b[0;32m    791\u001b[0m     conn,\n\u001b[0;32m    792\u001b[0m     method,\n\u001b[0;32m    793\u001b[0m     url,\n\u001b[0;32m    794\u001b[0m     timeout\u001b[39m=\u001b[39;49mtimeout_obj,\n\u001b[0;32m    795\u001b[0m     body\u001b[39m=\u001b[39;49mbody,\n\u001b[0;32m    796\u001b[0m     headers\u001b[39m=\u001b[39;49mheaders,\n\u001b[0;32m    797\u001b[0m     chunked\u001b[39m=\u001b[39;49mchunked,\n\u001b[0;32m    798\u001b[0m     retries\u001b[39m=\u001b[39;49mretries,\n\u001b[0;32m    799\u001b[0m     response_conn\u001b[39m=\u001b[39;49mresponse_conn,\n\u001b[0;32m    800\u001b[0m     preload_content\u001b[39m=\u001b[39;49mpreload_content,\n\u001b[0;32m    801\u001b[0m     decode_content\u001b[39m=\u001b[39;49mdecode_content,\n\u001b[0;32m    802\u001b[0m     \u001b[39m*\u001b[39;49m\u001b[39m*\u001b[39;49mresponse_kw,\n\u001b[0;32m    803\u001b[0m )\n\u001b[0;32m    805\u001b[0m \u001b[39m# Everything went great!\u001b[39;00m\n\u001b[0;32m    806\u001b[0m clean_exit \u001b[39m=\u001b[39m \u001b[39mTrue\u001b[39;00m\n",
      "File \u001b[1;32mc:\\Users\\Tito\\AppData\\Local\\Programs\\Python\\Python311\\Lib\\site-packages\\urllib3\\connectionpool.py:467\u001b[0m, in \u001b[0;36mHTTPConnectionPool._make_request\u001b[1;34m(self, conn, method, url, body, headers, retries, timeout, chunked, response_conn, preload_content, decode_content, enforce_content_length)\u001b[0m\n\u001b[0;32m    464\u001b[0m \u001b[39mtry\u001b[39;00m:\n\u001b[0;32m    465\u001b[0m     \u001b[39m# Trigger any extra validation we need to do.\u001b[39;00m\n\u001b[0;32m    466\u001b[0m     \u001b[39mtry\u001b[39;00m:\n\u001b[1;32m--> 467\u001b[0m         \u001b[39mself\u001b[39;49m\u001b[39m.\u001b[39;49m_validate_conn(conn)\n\u001b[0;32m    468\u001b[0m     \u001b[39mexcept\u001b[39;00m (SocketTimeout, BaseSSLError) \u001b[39mas\u001b[39;00m e:\n\u001b[0;32m    469\u001b[0m         \u001b[39mself\u001b[39m\u001b[39m.\u001b[39m_raise_timeout(err\u001b[39m=\u001b[39me, url\u001b[39m=\u001b[39murl, timeout_value\u001b[39m=\u001b[39mconn\u001b[39m.\u001b[39mtimeout)\n",
      "File \u001b[1;32mc:\\Users\\Tito\\AppData\\Local\\Programs\\Python\\Python311\\Lib\\site-packages\\urllib3\\connectionpool.py:1092\u001b[0m, in \u001b[0;36mHTTPSConnectionPool._validate_conn\u001b[1;34m(self, conn)\u001b[0m\n\u001b[0;32m   1090\u001b[0m \u001b[39m# Force connect early to allow us to validate the connection.\u001b[39;00m\n\u001b[0;32m   1091\u001b[0m \u001b[39mif\u001b[39;00m conn\u001b[39m.\u001b[39mis_closed:\n\u001b[1;32m-> 1092\u001b[0m     conn\u001b[39m.\u001b[39;49mconnect()\n\u001b[0;32m   1094\u001b[0m \u001b[39mif\u001b[39;00m \u001b[39mnot\u001b[39;00m conn\u001b[39m.\u001b[39mis_verified:\n\u001b[0;32m   1095\u001b[0m     warnings\u001b[39m.\u001b[39mwarn(\n\u001b[0;32m   1096\u001b[0m         (\n\u001b[0;32m   1097\u001b[0m             \u001b[39mf\u001b[39m\u001b[39m\"\u001b[39m\u001b[39mUnverified HTTPS request is being made to host \u001b[39m\u001b[39m'\u001b[39m\u001b[39m{\u001b[39;00mconn\u001b[39m.\u001b[39mhost\u001b[39m}\u001b[39;00m\u001b[39m'\u001b[39m\u001b[39m. \u001b[39m\u001b[39m\"\u001b[39m\n\u001b[1;32m   (...)\u001b[0m\n\u001b[0;32m   1102\u001b[0m         InsecureRequestWarning,\n\u001b[0;32m   1103\u001b[0m     )\n",
      "File \u001b[1;32mc:\\Users\\Tito\\AppData\\Local\\Programs\\Python\\Python311\\Lib\\site-packages\\urllib3\\connection.py:611\u001b[0m, in \u001b[0;36mHTTPSConnection.connect\u001b[1;34m(self)\u001b[0m\n\u001b[0;32m    609\u001b[0m \u001b[39mdef\u001b[39;00m \u001b[39mconnect\u001b[39m(\u001b[39mself\u001b[39m) \u001b[39m-\u001b[39m\u001b[39m>\u001b[39m \u001b[39mNone\u001b[39;00m:\n\u001b[0;32m    610\u001b[0m     sock: socket\u001b[39m.\u001b[39msocket \u001b[39m|\u001b[39m ssl\u001b[39m.\u001b[39mSSLSocket\n\u001b[1;32m--> 611\u001b[0m     \u001b[39mself\u001b[39m\u001b[39m.\u001b[39msock \u001b[39m=\u001b[39m sock \u001b[39m=\u001b[39m \u001b[39mself\u001b[39;49m\u001b[39m.\u001b[39;49m_new_conn()\n\u001b[0;32m    612\u001b[0m     server_hostname: \u001b[39mstr\u001b[39m \u001b[39m=\u001b[39m \u001b[39mself\u001b[39m\u001b[39m.\u001b[39mhost\n\u001b[0;32m    613\u001b[0m     tls_in_tls \u001b[39m=\u001b[39m \u001b[39mFalse\u001b[39;00m\n",
      "File \u001b[1;32mc:\\Users\\Tito\\AppData\\Local\\Programs\\Python\\Python311\\Lib\\site-packages\\urllib3\\connection.py:203\u001b[0m, in \u001b[0;36mHTTPConnection._new_conn\u001b[1;34m(self)\u001b[0m\n\u001b[0;32m    198\u001b[0m \u001b[39m\u001b[39m\u001b[39m\"\"\"Establish a socket connection and set nodelay settings on it.\u001b[39;00m\n\u001b[0;32m    199\u001b[0m \n\u001b[0;32m    200\u001b[0m \u001b[39m:return: New socket connection.\u001b[39;00m\n\u001b[0;32m    201\u001b[0m \u001b[39m\"\"\"\u001b[39;00m\n\u001b[0;32m    202\u001b[0m \u001b[39mtry\u001b[39;00m:\n\u001b[1;32m--> 203\u001b[0m     sock \u001b[39m=\u001b[39m connection\u001b[39m.\u001b[39;49mcreate_connection(\n\u001b[0;32m    204\u001b[0m         (\u001b[39mself\u001b[39;49m\u001b[39m.\u001b[39;49m_dns_host, \u001b[39mself\u001b[39;49m\u001b[39m.\u001b[39;49mport),\n\u001b[0;32m    205\u001b[0m         \u001b[39mself\u001b[39;49m\u001b[39m.\u001b[39;49mtimeout,\n\u001b[0;32m    206\u001b[0m         source_address\u001b[39m=\u001b[39;49m\u001b[39mself\u001b[39;49m\u001b[39m.\u001b[39;49msource_address,\n\u001b[0;32m    207\u001b[0m         socket_options\u001b[39m=\u001b[39;49m\u001b[39mself\u001b[39;49m\u001b[39m.\u001b[39;49msocket_options,\n\u001b[0;32m    208\u001b[0m     )\n\u001b[0;32m    209\u001b[0m \u001b[39mexcept\u001b[39;00m socket\u001b[39m.\u001b[39mgaierror \u001b[39mas\u001b[39;00m e:\n\u001b[0;32m    210\u001b[0m     \u001b[39mraise\u001b[39;00m NameResolutionError(\u001b[39mself\u001b[39m\u001b[39m.\u001b[39mhost, \u001b[39mself\u001b[39m, e) \u001b[39mfrom\u001b[39;00m \u001b[39me\u001b[39;00m\n",
      "File \u001b[1;32mc:\\Users\\Tito\\AppData\\Local\\Programs\\Python\\Python311\\Lib\\site-packages\\urllib3\\util\\connection.py:73\u001b[0m, in \u001b[0;36mcreate_connection\u001b[1;34m(address, timeout, source_address, socket_options)\u001b[0m\n\u001b[0;32m     71\u001b[0m \u001b[39mif\u001b[39;00m source_address:\n\u001b[0;32m     72\u001b[0m     sock\u001b[39m.\u001b[39mbind(source_address)\n\u001b[1;32m---> 73\u001b[0m sock\u001b[39m.\u001b[39mconnect(sa)\n\u001b[0;32m     74\u001b[0m \u001b[39m# Break explicitly a reference cycle\u001b[39;00m\n\u001b[0;32m     75\u001b[0m err \u001b[39m=\u001b[39m \u001b[39mNone\u001b[39;00m\n",
      "\u001b[1;31mKeyboardInterrupt\u001b[0m: "
     ]
    }
   ],
   "source": [
    "for url in url_all:\n",
    "    # Realizar solicitud HTTP\n",
    "    response = requests.get(url)\n",
    "\n",
    "    # Verificar si la solicitud fue exitosa (código de estado 200)\n",
    "    if response.status_code == 200:\n",
    "        # Parsear el contenido HTML\n",
    "        soup = etree.HTML(response.text)\n",
    "\n",
    "        \n",
    "        title = soup.xpath('//div[@class=\"franInfo\"]/a/@href')  # Puedes ajustar el XPath según tu necesidad\n",
    "        \n",
    "        # Imprimir el título\n",
    "        print(title)"
   ]
  },
  {
   "cell_type": "code",
   "execution_count": 479,
   "metadata": {},
   "outputs": [
    {
     "name": "stdout",
     "output_type": "stream",
     "text": [
      "['/senior-homecare-adrian-michigan-49221_1060', '/senior-homecare-ann-arbor-michigan-48108_749', '/senior-homecare-brighton-michigan-48116_63', '/senior-homecare-charlotte-michigan-48813_1131', '/senior-homecare-chelsea-michigan-48118_1202', '/senior-homecare-clarkston-michigan-48346_717', '/senior-homecare-dearborn-michigan-48120_1105', '/senior-homecare-east-lansing-michigan-48823_1252', '/senior-homecare-farmington-hills-michigan-48335_935', '/senior-homecare-ferndale-michigan-48820_1306', '/senior-homecare-frankenmuth-michigan-48734_61', '/senior-homecare-grand-rapids-michigan-49506_60', '/senior-homecare-grosse-pointe-woods-michigan-48236_1232', '/senior-homecare-livonia-michigan-48150_552', '/senior-homecare-monroe-michigan-48161_837', '/senior-homecare-novi-michigan-48377_1207', '/senior-homecare-okemos-michigan-48864_730', '/senior-homecare-owosso-michigan-48867_1250', '/senior-homecare-plainwell-michigan-49080_1137', '/senior-homecare-port-huron-michigan-48060_541', '/senior-homecare-portage-michigan-49002_1061', '/senior-homecare-rochester-hills-michigan-48309_832', '/senior-homecare-sterling-heights-michigan-48314_252', '/senior-homecare-mishawaka-indiana-46545_696']\n",
      "['/senior-homecare-anderson-indiana-46012_665', '/senior-homecare-bloomington-indiana-47404_737', '/senior-homecare-carmel-indiana-46032_1117', '/senior-homecare-columbus-indiana-47201_1254', '/senior-homecare-evansville-indiana-47708_1049', '/senior-homecare-frankfort-indiana-46041_814', '/senior-homecare-ft-wayne-indiana-46804_509', '/senior-homecare-greencastle-indiana-46135_636', '/senior-homecare-greenfield-indiana-46140_1269', '/senior-homecare-greenwood-indiana-46143_629', '/senior-homecare-indianapolis-indiana-46240_1012', '/senior-homecare-mishawaka-indiana-46545_696', '/senior-homecare-nappanee-indiana-46550_838', '/senior-homecare-new-albany-indiana-47150_1106', '/senior-homecare-schererville-indiana-46375_660', '/senior-homecare-scottsburg-indiana-47170_1236', '/senior-homecare-seymour-indiana-47274_1193', '/senior-homecare-terre-haute-indiana-47803_902']\n"
     ]
    },
    {
     "ename": "KeyboardInterrupt",
     "evalue": "",
     "output_type": "error",
     "traceback": [
      "\u001b[1;31m---------------------------------------------------------------------------\u001b[0m",
      "\u001b[1;31mKeyboardInterrupt\u001b[0m                         Traceback (most recent call last)",
      "\u001b[1;32mc:\\Users\\Tito\\Desktop\\ETL-company-EEUU\\url.ipynb Cell 16\u001b[0m line \u001b[0;36m6\n\u001b[0;32m      <a href='vscode-notebook-cell:/c%3A/Users/Tito/Desktop/ETL-company-EEUU/url.ipynb#Y104sZmlsZQ%3D%3D?line=3'>4</a>\u001b[0m \u001b[39m# Iterar sobre las URL y realizar solicitudes HTTP\u001b[39;00m\n\u001b[0;32m      <a href='vscode-notebook-cell:/c%3A/Users/Tito/Desktop/ETL-company-EEUU/url.ipynb#Y104sZmlsZQ%3D%3D?line=4'>5</a>\u001b[0m \u001b[39mfor\u001b[39;00m url \u001b[39min\u001b[39;00m url_all:\n\u001b[1;32m----> <a href='vscode-notebook-cell:/c%3A/Users/Tito/Desktop/ETL-company-EEUU/url.ipynb#Y104sZmlsZQ%3D%3D?line=5'>6</a>\u001b[0m     response \u001b[39m=\u001b[39m requests\u001b[39m.\u001b[39;49mget(url)\n\u001b[0;32m      <a href='vscode-notebook-cell:/c%3A/Users/Tito/Desktop/ETL-company-EEUU/url.ipynb#Y104sZmlsZQ%3D%3D?line=6'>7</a>\u001b[0m     status_codes\u001b[39m.\u001b[39mappend(response\u001b[39m.\u001b[39mstatus_code)  \u001b[39m# Almacenar el código de estado\u001b[39;00m\n\u001b[0;32m      <a href='vscode-notebook-cell:/c%3A/Users/Tito/Desktop/ETL-company-EEUU/url.ipynb#Y104sZmlsZQ%3D%3D?line=8'>9</a>\u001b[0m     \u001b[39m# Verificar si la solicitud fue exitosa (código de estado 200)\u001b[39;00m\n",
      "File \u001b[1;32mc:\\Users\\Tito\\AppData\\Local\\Programs\\Python\\Python311\\Lib\\site-packages\\requests\\api.py:73\u001b[0m, in \u001b[0;36mget\u001b[1;34m(url, params, **kwargs)\u001b[0m\n\u001b[0;32m     62\u001b[0m \u001b[39mdef\u001b[39;00m \u001b[39mget\u001b[39m(url, params\u001b[39m=\u001b[39m\u001b[39mNone\u001b[39;00m, \u001b[39m*\u001b[39m\u001b[39m*\u001b[39mkwargs):\n\u001b[0;32m     63\u001b[0m \u001b[39m    \u001b[39m\u001b[39mr\u001b[39m\u001b[39m\"\"\"Sends a GET request.\u001b[39;00m\n\u001b[0;32m     64\u001b[0m \n\u001b[0;32m     65\u001b[0m \u001b[39m    :param url: URL for the new :class:`Request` object.\u001b[39;00m\n\u001b[1;32m   (...)\u001b[0m\n\u001b[0;32m     70\u001b[0m \u001b[39m    :rtype: requests.Response\u001b[39;00m\n\u001b[0;32m     71\u001b[0m \u001b[39m    \"\"\"\u001b[39;00m\n\u001b[1;32m---> 73\u001b[0m     \u001b[39mreturn\u001b[39;00m request(\u001b[39m\"\u001b[39;49m\u001b[39mget\u001b[39;49m\u001b[39m\"\u001b[39;49m, url, params\u001b[39m=\u001b[39;49mparams, \u001b[39m*\u001b[39;49m\u001b[39m*\u001b[39;49mkwargs)\n",
      "File \u001b[1;32mc:\\Users\\Tito\\AppData\\Local\\Programs\\Python\\Python311\\Lib\\site-packages\\requests\\api.py:59\u001b[0m, in \u001b[0;36mrequest\u001b[1;34m(method, url, **kwargs)\u001b[0m\n\u001b[0;32m     55\u001b[0m \u001b[39m# By using the 'with' statement we are sure the session is closed, thus we\u001b[39;00m\n\u001b[0;32m     56\u001b[0m \u001b[39m# avoid leaving sockets open which can trigger a ResourceWarning in some\u001b[39;00m\n\u001b[0;32m     57\u001b[0m \u001b[39m# cases, and look like a memory leak in others.\u001b[39;00m\n\u001b[0;32m     58\u001b[0m \u001b[39mwith\u001b[39;00m sessions\u001b[39m.\u001b[39mSession() \u001b[39mas\u001b[39;00m session:\n\u001b[1;32m---> 59\u001b[0m     \u001b[39mreturn\u001b[39;00m session\u001b[39m.\u001b[39;49mrequest(method\u001b[39m=\u001b[39;49mmethod, url\u001b[39m=\u001b[39;49murl, \u001b[39m*\u001b[39;49m\u001b[39m*\u001b[39;49mkwargs)\n",
      "File \u001b[1;32mc:\\Users\\Tito\\AppData\\Local\\Programs\\Python\\Python311\\Lib\\site-packages\\requests\\sessions.py:589\u001b[0m, in \u001b[0;36mSession.request\u001b[1;34m(self, method, url, params, data, headers, cookies, files, auth, timeout, allow_redirects, proxies, hooks, stream, verify, cert, json)\u001b[0m\n\u001b[0;32m    584\u001b[0m send_kwargs \u001b[39m=\u001b[39m {\n\u001b[0;32m    585\u001b[0m     \u001b[39m\"\u001b[39m\u001b[39mtimeout\u001b[39m\u001b[39m\"\u001b[39m: timeout,\n\u001b[0;32m    586\u001b[0m     \u001b[39m\"\u001b[39m\u001b[39mallow_redirects\u001b[39m\u001b[39m\"\u001b[39m: allow_redirects,\n\u001b[0;32m    587\u001b[0m }\n\u001b[0;32m    588\u001b[0m send_kwargs\u001b[39m.\u001b[39mupdate(settings)\n\u001b[1;32m--> 589\u001b[0m resp \u001b[39m=\u001b[39m \u001b[39mself\u001b[39;49m\u001b[39m.\u001b[39;49msend(prep, \u001b[39m*\u001b[39;49m\u001b[39m*\u001b[39;49msend_kwargs)\n\u001b[0;32m    591\u001b[0m \u001b[39mreturn\u001b[39;00m resp\n",
      "File \u001b[1;32mc:\\Users\\Tito\\AppData\\Local\\Programs\\Python\\Python311\\Lib\\site-packages\\requests\\sessions.py:703\u001b[0m, in \u001b[0;36mSession.send\u001b[1;34m(self, request, **kwargs)\u001b[0m\n\u001b[0;32m    700\u001b[0m start \u001b[39m=\u001b[39m preferred_clock()\n\u001b[0;32m    702\u001b[0m \u001b[39m# Send the request\u001b[39;00m\n\u001b[1;32m--> 703\u001b[0m r \u001b[39m=\u001b[39m adapter\u001b[39m.\u001b[39;49msend(request, \u001b[39m*\u001b[39;49m\u001b[39m*\u001b[39;49mkwargs)\n\u001b[0;32m    705\u001b[0m \u001b[39m# Total elapsed time of the request (approximately)\u001b[39;00m\n\u001b[0;32m    706\u001b[0m elapsed \u001b[39m=\u001b[39m preferred_clock() \u001b[39m-\u001b[39m start\n",
      "File \u001b[1;32mc:\\Users\\Tito\\AppData\\Local\\Programs\\Python\\Python311\\Lib\\site-packages\\requests\\adapters.py:486\u001b[0m, in \u001b[0;36mHTTPAdapter.send\u001b[1;34m(self, request, stream, timeout, verify, cert, proxies)\u001b[0m\n\u001b[0;32m    483\u001b[0m     timeout \u001b[39m=\u001b[39m TimeoutSauce(connect\u001b[39m=\u001b[39mtimeout, read\u001b[39m=\u001b[39mtimeout)\n\u001b[0;32m    485\u001b[0m \u001b[39mtry\u001b[39;00m:\n\u001b[1;32m--> 486\u001b[0m     resp \u001b[39m=\u001b[39m conn\u001b[39m.\u001b[39;49murlopen(\n\u001b[0;32m    487\u001b[0m         method\u001b[39m=\u001b[39;49mrequest\u001b[39m.\u001b[39;49mmethod,\n\u001b[0;32m    488\u001b[0m         url\u001b[39m=\u001b[39;49murl,\n\u001b[0;32m    489\u001b[0m         body\u001b[39m=\u001b[39;49mrequest\u001b[39m.\u001b[39;49mbody,\n\u001b[0;32m    490\u001b[0m         headers\u001b[39m=\u001b[39;49mrequest\u001b[39m.\u001b[39;49mheaders,\n\u001b[0;32m    491\u001b[0m         redirect\u001b[39m=\u001b[39;49m\u001b[39mFalse\u001b[39;49;00m,\n\u001b[0;32m    492\u001b[0m         assert_same_host\u001b[39m=\u001b[39;49m\u001b[39mFalse\u001b[39;49;00m,\n\u001b[0;32m    493\u001b[0m         preload_content\u001b[39m=\u001b[39;49m\u001b[39mFalse\u001b[39;49;00m,\n\u001b[0;32m    494\u001b[0m         decode_content\u001b[39m=\u001b[39;49m\u001b[39mFalse\u001b[39;49;00m,\n\u001b[0;32m    495\u001b[0m         retries\u001b[39m=\u001b[39;49m\u001b[39mself\u001b[39;49m\u001b[39m.\u001b[39;49mmax_retries,\n\u001b[0;32m    496\u001b[0m         timeout\u001b[39m=\u001b[39;49mtimeout,\n\u001b[0;32m    497\u001b[0m         chunked\u001b[39m=\u001b[39;49mchunked,\n\u001b[0;32m    498\u001b[0m     )\n\u001b[0;32m    500\u001b[0m \u001b[39mexcept\u001b[39;00m (ProtocolError, \u001b[39mOSError\u001b[39;00m) \u001b[39mas\u001b[39;00m err:\n\u001b[0;32m    501\u001b[0m     \u001b[39mraise\u001b[39;00m \u001b[39mConnectionError\u001b[39;00m(err, request\u001b[39m=\u001b[39mrequest)\n",
      "File \u001b[1;32mc:\\Users\\Tito\\AppData\\Local\\Programs\\Python\\Python311\\Lib\\site-packages\\urllib3\\connectionpool.py:790\u001b[0m, in \u001b[0;36mHTTPConnectionPool.urlopen\u001b[1;34m(self, method, url, body, headers, retries, redirect, assert_same_host, timeout, pool_timeout, release_conn, chunked, body_pos, preload_content, decode_content, **response_kw)\u001b[0m\n\u001b[0;32m    787\u001b[0m response_conn \u001b[39m=\u001b[39m conn \u001b[39mif\u001b[39;00m \u001b[39mnot\u001b[39;00m release_conn \u001b[39melse\u001b[39;00m \u001b[39mNone\u001b[39;00m\n\u001b[0;32m    789\u001b[0m \u001b[39m# Make the request on the HTTPConnection object\u001b[39;00m\n\u001b[1;32m--> 790\u001b[0m response \u001b[39m=\u001b[39m \u001b[39mself\u001b[39;49m\u001b[39m.\u001b[39;49m_make_request(\n\u001b[0;32m    791\u001b[0m     conn,\n\u001b[0;32m    792\u001b[0m     method,\n\u001b[0;32m    793\u001b[0m     url,\n\u001b[0;32m    794\u001b[0m     timeout\u001b[39m=\u001b[39;49mtimeout_obj,\n\u001b[0;32m    795\u001b[0m     body\u001b[39m=\u001b[39;49mbody,\n\u001b[0;32m    796\u001b[0m     headers\u001b[39m=\u001b[39;49mheaders,\n\u001b[0;32m    797\u001b[0m     chunked\u001b[39m=\u001b[39;49mchunked,\n\u001b[0;32m    798\u001b[0m     retries\u001b[39m=\u001b[39;49mretries,\n\u001b[0;32m    799\u001b[0m     response_conn\u001b[39m=\u001b[39;49mresponse_conn,\n\u001b[0;32m    800\u001b[0m     preload_content\u001b[39m=\u001b[39;49mpreload_content,\n\u001b[0;32m    801\u001b[0m     decode_content\u001b[39m=\u001b[39;49mdecode_content,\n\u001b[0;32m    802\u001b[0m     \u001b[39m*\u001b[39;49m\u001b[39m*\u001b[39;49mresponse_kw,\n\u001b[0;32m    803\u001b[0m )\n\u001b[0;32m    805\u001b[0m \u001b[39m# Everything went great!\u001b[39;00m\n\u001b[0;32m    806\u001b[0m clean_exit \u001b[39m=\u001b[39m \u001b[39mTrue\u001b[39;00m\n",
      "File \u001b[1;32mc:\\Users\\Tito\\AppData\\Local\\Programs\\Python\\Python311\\Lib\\site-packages\\urllib3\\connectionpool.py:467\u001b[0m, in \u001b[0;36mHTTPConnectionPool._make_request\u001b[1;34m(self, conn, method, url, body, headers, retries, timeout, chunked, response_conn, preload_content, decode_content, enforce_content_length)\u001b[0m\n\u001b[0;32m    464\u001b[0m \u001b[39mtry\u001b[39;00m:\n\u001b[0;32m    465\u001b[0m     \u001b[39m# Trigger any extra validation we need to do.\u001b[39;00m\n\u001b[0;32m    466\u001b[0m     \u001b[39mtry\u001b[39;00m:\n\u001b[1;32m--> 467\u001b[0m         \u001b[39mself\u001b[39;49m\u001b[39m.\u001b[39;49m_validate_conn(conn)\n\u001b[0;32m    468\u001b[0m     \u001b[39mexcept\u001b[39;00m (SocketTimeout, BaseSSLError) \u001b[39mas\u001b[39;00m e:\n\u001b[0;32m    469\u001b[0m         \u001b[39mself\u001b[39m\u001b[39m.\u001b[39m_raise_timeout(err\u001b[39m=\u001b[39me, url\u001b[39m=\u001b[39murl, timeout_value\u001b[39m=\u001b[39mconn\u001b[39m.\u001b[39mtimeout)\n",
      "File \u001b[1;32mc:\\Users\\Tito\\AppData\\Local\\Programs\\Python\\Python311\\Lib\\site-packages\\urllib3\\connectionpool.py:1092\u001b[0m, in \u001b[0;36mHTTPSConnectionPool._validate_conn\u001b[1;34m(self, conn)\u001b[0m\n\u001b[0;32m   1090\u001b[0m \u001b[39m# Force connect early to allow us to validate the connection.\u001b[39;00m\n\u001b[0;32m   1091\u001b[0m \u001b[39mif\u001b[39;00m conn\u001b[39m.\u001b[39mis_closed:\n\u001b[1;32m-> 1092\u001b[0m     conn\u001b[39m.\u001b[39;49mconnect()\n\u001b[0;32m   1094\u001b[0m \u001b[39mif\u001b[39;00m \u001b[39mnot\u001b[39;00m conn\u001b[39m.\u001b[39mis_verified:\n\u001b[0;32m   1095\u001b[0m     warnings\u001b[39m.\u001b[39mwarn(\n\u001b[0;32m   1096\u001b[0m         (\n\u001b[0;32m   1097\u001b[0m             \u001b[39mf\u001b[39m\u001b[39m\"\u001b[39m\u001b[39mUnverified HTTPS request is being made to host \u001b[39m\u001b[39m'\u001b[39m\u001b[39m{\u001b[39;00mconn\u001b[39m.\u001b[39mhost\u001b[39m}\u001b[39;00m\u001b[39m'\u001b[39m\u001b[39m. \u001b[39m\u001b[39m\"\u001b[39m\n\u001b[1;32m   (...)\u001b[0m\n\u001b[0;32m   1102\u001b[0m         InsecureRequestWarning,\n\u001b[0;32m   1103\u001b[0m     )\n",
      "File \u001b[1;32mc:\\Users\\Tito\\AppData\\Local\\Programs\\Python\\Python311\\Lib\\site-packages\\urllib3\\connection.py:642\u001b[0m, in \u001b[0;36mHTTPSConnection.connect\u001b[1;34m(self)\u001b[0m\n\u001b[0;32m    633\u001b[0m \u001b[39mif\u001b[39;00m is_time_off:\n\u001b[0;32m    634\u001b[0m     warnings\u001b[39m.\u001b[39mwarn(\n\u001b[0;32m    635\u001b[0m         (\n\u001b[0;32m    636\u001b[0m             \u001b[39mf\u001b[39m\u001b[39m\"\u001b[39m\u001b[39mSystem time is way off (before \u001b[39m\u001b[39m{\u001b[39;00mRECENT_DATE\u001b[39m}\u001b[39;00m\u001b[39m). This will probably \u001b[39m\u001b[39m\"\u001b[39m\n\u001b[1;32m   (...)\u001b[0m\n\u001b[0;32m    639\u001b[0m         SystemTimeWarning,\n\u001b[0;32m    640\u001b[0m     )\n\u001b[1;32m--> 642\u001b[0m sock_and_verified \u001b[39m=\u001b[39m _ssl_wrap_socket_and_match_hostname(\n\u001b[0;32m    643\u001b[0m     sock\u001b[39m=\u001b[39;49msock,\n\u001b[0;32m    644\u001b[0m     cert_reqs\u001b[39m=\u001b[39;49m\u001b[39mself\u001b[39;49m\u001b[39m.\u001b[39;49mcert_reqs,\n\u001b[0;32m    645\u001b[0m     ssl_version\u001b[39m=\u001b[39;49m\u001b[39mself\u001b[39;49m\u001b[39m.\u001b[39;49mssl_version,\n\u001b[0;32m    646\u001b[0m     ssl_minimum_version\u001b[39m=\u001b[39;49m\u001b[39mself\u001b[39;49m\u001b[39m.\u001b[39;49mssl_minimum_version,\n\u001b[0;32m    647\u001b[0m     ssl_maximum_version\u001b[39m=\u001b[39;49m\u001b[39mself\u001b[39;49m\u001b[39m.\u001b[39;49mssl_maximum_version,\n\u001b[0;32m    648\u001b[0m     ca_certs\u001b[39m=\u001b[39;49m\u001b[39mself\u001b[39;49m\u001b[39m.\u001b[39;49mca_certs,\n\u001b[0;32m    649\u001b[0m     ca_cert_dir\u001b[39m=\u001b[39;49m\u001b[39mself\u001b[39;49m\u001b[39m.\u001b[39;49mca_cert_dir,\n\u001b[0;32m    650\u001b[0m     ca_cert_data\u001b[39m=\u001b[39;49m\u001b[39mself\u001b[39;49m\u001b[39m.\u001b[39;49mca_cert_data,\n\u001b[0;32m    651\u001b[0m     cert_file\u001b[39m=\u001b[39;49m\u001b[39mself\u001b[39;49m\u001b[39m.\u001b[39;49mcert_file,\n\u001b[0;32m    652\u001b[0m     key_file\u001b[39m=\u001b[39;49m\u001b[39mself\u001b[39;49m\u001b[39m.\u001b[39;49mkey_file,\n\u001b[0;32m    653\u001b[0m     key_password\u001b[39m=\u001b[39;49m\u001b[39mself\u001b[39;49m\u001b[39m.\u001b[39;49mkey_password,\n\u001b[0;32m    654\u001b[0m     server_hostname\u001b[39m=\u001b[39;49mserver_hostname,\n\u001b[0;32m    655\u001b[0m     ssl_context\u001b[39m=\u001b[39;49m\u001b[39mself\u001b[39;49m\u001b[39m.\u001b[39;49mssl_context,\n\u001b[0;32m    656\u001b[0m     tls_in_tls\u001b[39m=\u001b[39;49mtls_in_tls,\n\u001b[0;32m    657\u001b[0m     assert_hostname\u001b[39m=\u001b[39;49m\u001b[39mself\u001b[39;49m\u001b[39m.\u001b[39;49massert_hostname,\n\u001b[0;32m    658\u001b[0m     assert_fingerprint\u001b[39m=\u001b[39;49m\u001b[39mself\u001b[39;49m\u001b[39m.\u001b[39;49massert_fingerprint,\n\u001b[0;32m    659\u001b[0m )\n\u001b[0;32m    660\u001b[0m \u001b[39mself\u001b[39m\u001b[39m.\u001b[39msock \u001b[39m=\u001b[39m sock_and_verified\u001b[39m.\u001b[39msocket\n\u001b[0;32m    661\u001b[0m \u001b[39mself\u001b[39m\u001b[39m.\u001b[39mis_verified \u001b[39m=\u001b[39m sock_and_verified\u001b[39m.\u001b[39mis_verified\n",
      "File \u001b[1;32mc:\\Users\\Tito\\AppData\\Local\\Programs\\Python\\Python311\\Lib\\site-packages\\urllib3\\connection.py:783\u001b[0m, in \u001b[0;36m_ssl_wrap_socket_and_match_hostname\u001b[1;34m(sock, cert_reqs, ssl_version, ssl_minimum_version, ssl_maximum_version, cert_file, key_file, key_password, ca_certs, ca_cert_dir, ca_cert_data, assert_hostname, assert_fingerprint, server_hostname, ssl_context, tls_in_tls)\u001b[0m\n\u001b[0;32m    780\u001b[0m     \u001b[39mif\u001b[39;00m is_ipaddress(normalized):\n\u001b[0;32m    781\u001b[0m         server_hostname \u001b[39m=\u001b[39m normalized\n\u001b[1;32m--> 783\u001b[0m ssl_sock \u001b[39m=\u001b[39m ssl_wrap_socket(\n\u001b[0;32m    784\u001b[0m     sock\u001b[39m=\u001b[39;49msock,\n\u001b[0;32m    785\u001b[0m     keyfile\u001b[39m=\u001b[39;49mkey_file,\n\u001b[0;32m    786\u001b[0m     certfile\u001b[39m=\u001b[39;49mcert_file,\n\u001b[0;32m    787\u001b[0m     key_password\u001b[39m=\u001b[39;49mkey_password,\n\u001b[0;32m    788\u001b[0m     ca_certs\u001b[39m=\u001b[39;49mca_certs,\n\u001b[0;32m    789\u001b[0m     ca_cert_dir\u001b[39m=\u001b[39;49mca_cert_dir,\n\u001b[0;32m    790\u001b[0m     ca_cert_data\u001b[39m=\u001b[39;49mca_cert_data,\n\u001b[0;32m    791\u001b[0m     server_hostname\u001b[39m=\u001b[39;49mserver_hostname,\n\u001b[0;32m    792\u001b[0m     ssl_context\u001b[39m=\u001b[39;49mcontext,\n\u001b[0;32m    793\u001b[0m     tls_in_tls\u001b[39m=\u001b[39;49mtls_in_tls,\n\u001b[0;32m    794\u001b[0m )\n\u001b[0;32m    796\u001b[0m \u001b[39mtry\u001b[39;00m:\n\u001b[0;32m    797\u001b[0m     \u001b[39mif\u001b[39;00m assert_fingerprint:\n",
      "File \u001b[1;32mc:\\Users\\Tito\\AppData\\Local\\Programs\\Python\\Python311\\Lib\\site-packages\\urllib3\\util\\ssl_.py:469\u001b[0m, in \u001b[0;36mssl_wrap_socket\u001b[1;34m(sock, keyfile, certfile, cert_reqs, ca_certs, server_hostname, ssl_version, ciphers, ssl_context, ca_cert_dir, key_password, ca_cert_data, tls_in_tls)\u001b[0m\n\u001b[0;32m    466\u001b[0m \u001b[39mexcept\u001b[39;00m \u001b[39mNotImplementedError\u001b[39;00m:  \u001b[39m# Defensive: in CI, we always have set_alpn_protocols\u001b[39;00m\n\u001b[0;32m    467\u001b[0m     \u001b[39mpass\u001b[39;00m\n\u001b[1;32m--> 469\u001b[0m ssl_sock \u001b[39m=\u001b[39m _ssl_wrap_socket_impl(sock, context, tls_in_tls, server_hostname)\n\u001b[0;32m    470\u001b[0m \u001b[39mreturn\u001b[39;00m ssl_sock\n",
      "File \u001b[1;32mc:\\Users\\Tito\\AppData\\Local\\Programs\\Python\\Python311\\Lib\\site-packages\\urllib3\\util\\ssl_.py:513\u001b[0m, in \u001b[0;36m_ssl_wrap_socket_impl\u001b[1;34m(sock, ssl_context, tls_in_tls, server_hostname)\u001b[0m\n\u001b[0;32m    510\u001b[0m     SSLTransport\u001b[39m.\u001b[39m_validate_ssl_context_for_tls_in_tls(ssl_context)\n\u001b[0;32m    511\u001b[0m     \u001b[39mreturn\u001b[39;00m SSLTransport(sock, ssl_context, server_hostname)\n\u001b[1;32m--> 513\u001b[0m \u001b[39mreturn\u001b[39;00m ssl_context\u001b[39m.\u001b[39;49mwrap_socket(sock, server_hostname\u001b[39m=\u001b[39;49mserver_hostname)\n",
      "File \u001b[1;32mc:\\Users\\Tito\\AppData\\Local\\Programs\\Python\\Python311\\Lib\\ssl.py:517\u001b[0m, in \u001b[0;36mSSLContext.wrap_socket\u001b[1;34m(self, sock, server_side, do_handshake_on_connect, suppress_ragged_eofs, server_hostname, session)\u001b[0m\n\u001b[0;32m    511\u001b[0m \u001b[39mdef\u001b[39;00m \u001b[39mwrap_socket\u001b[39m(\u001b[39mself\u001b[39m, sock, server_side\u001b[39m=\u001b[39m\u001b[39mFalse\u001b[39;00m,\n\u001b[0;32m    512\u001b[0m                 do_handshake_on_connect\u001b[39m=\u001b[39m\u001b[39mTrue\u001b[39;00m,\n\u001b[0;32m    513\u001b[0m                 suppress_ragged_eofs\u001b[39m=\u001b[39m\u001b[39mTrue\u001b[39;00m,\n\u001b[0;32m    514\u001b[0m                 server_hostname\u001b[39m=\u001b[39m\u001b[39mNone\u001b[39;00m, session\u001b[39m=\u001b[39m\u001b[39mNone\u001b[39;00m):\n\u001b[0;32m    515\u001b[0m     \u001b[39m# SSLSocket class handles server_hostname encoding before it calls\u001b[39;00m\n\u001b[0;32m    516\u001b[0m     \u001b[39m# ctx._wrap_socket()\u001b[39;00m\n\u001b[1;32m--> 517\u001b[0m     \u001b[39mreturn\u001b[39;00m \u001b[39mself\u001b[39;49m\u001b[39m.\u001b[39;49msslsocket_class\u001b[39m.\u001b[39;49m_create(\n\u001b[0;32m    518\u001b[0m         sock\u001b[39m=\u001b[39;49msock,\n\u001b[0;32m    519\u001b[0m         server_side\u001b[39m=\u001b[39;49mserver_side,\n\u001b[0;32m    520\u001b[0m         do_handshake_on_connect\u001b[39m=\u001b[39;49mdo_handshake_on_connect,\n\u001b[0;32m    521\u001b[0m         suppress_ragged_eofs\u001b[39m=\u001b[39;49msuppress_ragged_eofs,\n\u001b[0;32m    522\u001b[0m         server_hostname\u001b[39m=\u001b[39;49mserver_hostname,\n\u001b[0;32m    523\u001b[0m         context\u001b[39m=\u001b[39;49m\u001b[39mself\u001b[39;49m,\n\u001b[0;32m    524\u001b[0m         session\u001b[39m=\u001b[39;49msession\n\u001b[0;32m    525\u001b[0m     )\n",
      "File \u001b[1;32mc:\\Users\\Tito\\AppData\\Local\\Programs\\Python\\Python311\\Lib\\ssl.py:1108\u001b[0m, in \u001b[0;36mSSLSocket._create\u001b[1;34m(cls, sock, server_side, do_handshake_on_connect, suppress_ragged_eofs, server_hostname, context, session)\u001b[0m\n\u001b[0;32m   1105\u001b[0m         \u001b[39mif\u001b[39;00m timeout \u001b[39m==\u001b[39m \u001b[39m0.0\u001b[39m:\n\u001b[0;32m   1106\u001b[0m             \u001b[39m# non-blocking\u001b[39;00m\n\u001b[0;32m   1107\u001b[0m             \u001b[39mraise\u001b[39;00m \u001b[39mValueError\u001b[39;00m(\u001b[39m\"\u001b[39m\u001b[39mdo_handshake_on_connect should not be specified for non-blocking sockets\u001b[39m\u001b[39m\"\u001b[39m)\n\u001b[1;32m-> 1108\u001b[0m         \u001b[39mself\u001b[39;49m\u001b[39m.\u001b[39;49mdo_handshake()\n\u001b[0;32m   1109\u001b[0m \u001b[39mexcept\u001b[39;00m (\u001b[39mOSError\u001b[39;00m, \u001b[39mValueError\u001b[39;00m):\n\u001b[0;32m   1110\u001b[0m     \u001b[39mself\u001b[39m\u001b[39m.\u001b[39mclose()\n",
      "File \u001b[1;32mc:\\Users\\Tito\\AppData\\Local\\Programs\\Python\\Python311\\Lib\\ssl.py:1379\u001b[0m, in \u001b[0;36mSSLSocket.do_handshake\u001b[1;34m(self, block)\u001b[0m\n\u001b[0;32m   1377\u001b[0m     \u001b[39mif\u001b[39;00m timeout \u001b[39m==\u001b[39m \u001b[39m0.0\u001b[39m \u001b[39mand\u001b[39;00m block:\n\u001b[0;32m   1378\u001b[0m         \u001b[39mself\u001b[39m\u001b[39m.\u001b[39msettimeout(\u001b[39mNone\u001b[39;00m)\n\u001b[1;32m-> 1379\u001b[0m     \u001b[39mself\u001b[39m\u001b[39m.\u001b[39m_sslobj\u001b[39m.\u001b[39mdo_handshake()\n\u001b[0;32m   1380\u001b[0m \u001b[39mfinally\u001b[39;00m:\n\u001b[0;32m   1381\u001b[0m     \u001b[39mself\u001b[39m\u001b[39m.\u001b[39msettimeout(timeout)\n",
      "\u001b[1;31mKeyboardInterrupt\u001b[0m: "
     ]
    }
   ],
   "source": [
    "# Inicializar una lista para almacenar los códigos de estado\n",
    "status_codes = []\n",
    "\n",
    "# Iterar sobre las URL y realizar solicitudes HTTP\n",
    "for url in url_all:\n",
    "    response = requests.get(url)\n",
    "    status_codes.append(response.status_code)  # Almacenar el código de estado\n",
    "    \n",
    "    # Verificar si la solicitud fue exitosa (código de estado 200)\n",
    "    if response.status_code == 200:\n",
    "        # Parsear el contenido HTML\n",
    "        soup = BeautifulSoup(response.content, 'html.parser')\n",
    "        dom = etree.HTML(str(soup))\n",
    "        \n",
    "        # Ejemplo: Extraer los enlaces dentro de franInfo\n",
    "        url_all_total = dom.xpath('//div[@class=\"franInfo\"]/a/@href')\n",
    "        print(url_all_total)\n",
    "# Imprimir los códigos de estado\n",
    "print(len(status_codes))\n"
   ]
  },
  {
   "cell_type": "code",
   "execution_count": 475,
   "metadata": {},
   "outputs": [
    {
     "name": "stdout",
     "output_type": "stream",
     "text": [
      "['https://www.visitingangels.com/senior-home-care-mississippi-mi', 'https://www.visitingangels.com/senior-home-care-indiana-in', 'https://www.visitingangels.com/senior-home-care-south-dakota-sd']\n"
     ]
    }
   ],
   "source": [
    "urls_con_resultados = []\n",
    "\n",
    "for url in url_all:\n",
    "    # Realizar solicitud HTTP\n",
    "    response = requests.get(url)\n",
    "\n",
    "    # Verificar si la solicitud fue exitosa (código de estado 200)\n",
    "    if response.status_code == 200:\n",
    "        # Parsear el contenido HTML\n",
    "        soup = etree.HTML(response.text)\n",
    "\n",
    "        # Utilizar XPath para obtener el título (puedes ajustar según tus necesidades)\n",
    "        title = soup.xpath('//div[@class=\"franInfo\"]/a/@href')\n",
    "        \n",
    "# Imprimir la lista de URLs con resultados\n",
    "print(urls_con_resultados)\n"
   ]
  }
 ],
 "metadata": {
  "kernelspec": {
   "display_name": "Python 3",
   "language": "python",
   "name": "python3"
  },
  "language_info": {
   "codemirror_mode": {
    "name": "ipython",
    "version": 3
   },
   "file_extension": ".py",
   "mimetype": "text/x-python",
   "name": "python",
   "nbconvert_exporter": "python",
   "pygments_lexer": "ipython3",
   "version": "3.11.5"
  }
 },
 "nbformat": 4,
 "nbformat_minor": 2
}
