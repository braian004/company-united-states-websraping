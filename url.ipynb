{
 "cells": [
  {
   "cell_type": "code",
   "execution_count": null,
   "metadata": {},
   "outputs": [],
   "source": [
    "stados =['Alabama',\n",
    " 'Alaska',\n",
    " 'Arizona',\n",
    " 'Arkansas',\n",
    " 'California',\n",
    " 'Colorado',\n",
    " 'Connecticut',\n",
    " 'Delaware',\n",
    " 'District of Columbia',\n",
    " 'Florida',\n",
    " 'Georgia',\n",
    " 'Hawaii',\n",
    " 'Idaho',\n",
    " 'Illinois',\n",
    " 'Indiana',\n",
    " 'Iowa',\n",
    " 'Kansas',\n",
    " 'Kentucky',\n",
    " 'Louisiana',\n",
    " 'Maine',\n",
    " 'Maryland',\n",
    " 'Massachusetts',\n",
    " 'Michigan',\n",
    " 'Minnesota',\n",
    " 'Mississippi',\n",
    " 'Missouri',\n",
    " 'Montana',\n",
    " 'Nebraska',\n",
    " 'Nevada',\n",
    " 'New Hampshire',\n",
    " 'New Jersey',\n",
    " 'New Mexico',\n",
    " 'New York',\n",
    " 'North Carolina',\n",
    " 'North Dakota',\n",
    " 'Ohio',\n",
    " 'Oklahoma',\n",
    " 'Oregon',\n",
    " 'Pennsylvania',\n",
    " 'Rhode Island',\n",
    " 'South Carolina',\n",
    " 'South Dakota',\n",
    " 'Tennessee',\n",
    " 'Texas',\n",
    " 'Utah',\n",
    " 'Vermont',\n",
    " 'Virginia',\n",
    " 'Washington',\n",
    " 'West Virginia',\n",
    " 'Wisconsin',\n",
    " 'Wyoming']\n"
   ]
  },
  {
   "cell_type": "code",
   "execution_count": null,
   "metadata": {},
   "outputs": [
    {
     "name": "stdout",
     "output_type": "stream",
     "text": [
      "51\n"
     ]
    }
   ],
   "source": [
    "print(len(stados))"
   ]
  },
  {
   "cell_type": "code",
   "execution_count": 316,
   "metadata": {},
   "outputs": [
    {
     "name": "stdout",
     "output_type": "stream",
     "text": [
      "['https://www.visitingangels.com/senior-home-care-Alabama-', 'https://www.visitingangels.com/senior-home-care-Alaska-', 'https://www.visitingangels.com/senior-home-care-Arizona-', 'https://www.visitingangels.com/senior-home-care-Arkansas-', 'https://www.visitingangels.com/senior-home-care-California-', 'https://www.visitingangels.com/senior-home-care-Colorado-', 'https://www.visitingangels.com/senior-home-care-Connecticut-', 'https://www.visitingangels.com/senior-home-care-Delaware-', 'https://www.visitingangels.com/senior-home-care-District of Columbia-', 'https://www.visitingangels.com/senior-home-care-Florida-', 'https://www.visitingangels.com/senior-home-care-Georgia-', 'https://www.visitingangels.com/senior-home-care-Hawaii-', 'https://www.visitingangels.com/senior-home-care-Idaho-', 'https://www.visitingangels.com/senior-home-care-Illinois-', 'https://www.visitingangels.com/senior-home-care-Indiana-', 'https://www.visitingangels.com/senior-home-care-Iowa-', 'https://www.visitingangels.com/senior-home-care-Kansas-', 'https://www.visitingangels.com/senior-home-care-Kentucky-', 'https://www.visitingangels.com/senior-home-care-Louisiana-', 'https://www.visitingangels.com/senior-home-care-Maine-', 'https://www.visitingangels.com/senior-home-care-Maryland-', 'https://www.visitingangels.com/senior-home-care-Massachusetts-', 'https://www.visitingangels.com/senior-home-care-Michigan-', 'https://www.visitingangels.com/senior-home-care-Minnesota-', 'https://www.visitingangels.com/senior-home-care-Mississippi-', 'https://www.visitingangels.com/senior-home-care-Missouri-', 'https://www.visitingangels.com/senior-home-care-Montana-', 'https://www.visitingangels.com/senior-home-care-Nebraska-', 'https://www.visitingangels.com/senior-home-care-Nevada-', 'https://www.visitingangels.com/senior-home-care-New Hampshire-', 'https://www.visitingangels.com/senior-home-care-New Jersey-', 'https://www.visitingangels.com/senior-home-care-New Mexico-', 'https://www.visitingangels.com/senior-home-care-New York-', 'https://www.visitingangels.com/senior-home-care-North Carolina-', 'https://www.visitingangels.com/senior-home-care-North Dakota-', 'https://www.visitingangels.com/senior-home-care-Ohio-', 'https://www.visitingangels.com/senior-home-care-Oklahoma-', 'https://www.visitingangels.com/senior-home-care-Oregon-', 'https://www.visitingangels.com/senior-home-care-Pennsylvania-', 'https://www.visitingangels.com/senior-home-care-Rhode Island-', 'https://www.visitingangels.com/senior-home-care-South Carolina-', 'https://www.visitingangels.com/senior-home-care-South Dakota-', 'https://www.visitingangels.com/senior-home-care-Tennessee-', 'https://www.visitingangels.com/senior-home-care-Texas-', 'https://www.visitingangels.com/senior-home-care-Utah-', 'https://www.visitingangels.com/senior-home-care-Vermont-', 'https://www.visitingangels.com/senior-home-care-Virginia-', 'https://www.visitingangels.com/senior-home-care-Washington-', 'https://www.visitingangels.com/senior-home-care-West Virginia-', 'https://www.visitingangels.com/senior-home-care-Wisconsin-', 'https://www.visitingangels.com/senior-home-care-Wyoming-']\n"
     ]
    }
   ],
   "source": [
    "url_base = 'https://www.visitingangels.com/senior-home-care-{}-'\n",
    "url_modificada = []\n",
    "for i in stados:\n",
    "    url_modificada.append(url_base.format(i))\n",
    "print(url_modificada)"
   ]
  },
  {
   "cell_type": "code",
   "execution_count": 317,
   "metadata": {},
   "outputs": [],
   "source": [
    "url_modificada1 = [url.lower().replace(' ', '-') for url in url_modificada]"
   ]
  },
  {
   "cell_type": "code",
   "execution_count": 318,
   "metadata": {},
   "outputs": [
    {
     "name": "stdout",
     "output_type": "stream",
     "text": [
      "['New Hampshire', 'New Jersey', 'New Mexico', 'New York', 'North Carolina', 'North Dakota', 'Rhode Island', 'South Carolina', 'South Dakota', 'West Virginia']\n",
      "['District of Columbia']\n"
     ]
    }
   ],
   "source": [
    "# Inicializar listas vacías para palabras con un espacio y dos espacios\n",
    "con_un_espacio = []\n",
    "con_dos_espacios = []\n",
    "\n",
    "# Dividir la lista en las dos categorías\n",
    "for palabra in stados:\n",
    "    if ' ' in palabra:\n",
    "        if palabra.count(' ') == 1:\n",
    "            con_un_espacio.append(palabra)\n",
    "        elif palabra.count(' ') == 2:\n",
    "            con_dos_espacios.append(palabra)\n",
    "       \n",
    "# Imprimir las listas resultantes\n",
    "print(con_un_espacio)\n",
    "print(con_dos_espacios)\n"
   ]
  },
  {
   "cell_type": "code",
   "execution_count": 319,
   "metadata": {},
   "outputs": [
    {
     "name": "stdout",
     "output_type": "stream",
     "text": [
      "['Mississippi', 'Indiana', 'Kentucky', 'Montana', 'Vermont', 'Oklahoma', 'Minnesota', 'Kansas', 'Missouri', 'Michigan', 'California', 'Pennsylvania', 'Tennessee', 'Wisconsin', 'Arizona', 'Alaska', 'Virginia', 'Maryland', 'Oregon', 'Maine', 'Hawaii', 'Utah', 'Nebraska', 'Delaware', 'Iowa', 'Texas', 'Colorado', 'Arkansas', 'Idaho', 'Louisiana', 'Massachusetts', 'Illinois', 'Alabama', 'Florida', 'Connecticut', 'Ohio', 'Wyoming', 'Nevada', 'Washington', 'Georgia']\n"
     ]
    }
   ],
   "source": [
    "set_stados = set(stados)\n",
    "set_con_un_espacio = set(con_un_espacio)\n",
    "set_con_dos_espacios = set(con_dos_espacios)\n",
    "\n",
    "# Obtener los datos distintos a con_un_espacio y con_dos_espacios\n",
    "sin_espacio = list(set_stados - set_con_un_espacio - set_con_dos_espacios)\n",
    "\n",
    "# Imprimir los datos finales\n",
    "print(sin_espacio)\n"
   ]
  },
  {
   "cell_type": "code",
   "execution_count": 339,
   "metadata": {},
   "outputs": [
    {
     "name": "stdout",
     "output_type": "stream",
     "text": [
      "40\n",
      "['new hampshire', 'new jersey', 'new mexico', 'new york', 'north carolina', 'north dakota', 'rhode island', 'south carolina', 'south dakota', 'west virginia']\n",
      "1\n"
     ]
    }
   ],
   "source": [
    "result_lower_sin_espacion = [i.lower() for i in sin_espacio]\n",
    "print(len(result_lower_sin_espacion))\n",
    "result_lower_con_un_espacio = [i.lower() for i in con_un_espacio]\n",
    "print(result_lower_con_un_espacio)\n",
    "result_lower_con_dos_espacios = [i.lower() for i in con_dos_espacios]\n",
    "print(len(result_lower_con_dos_espacios))"
   ]
  },
  {
   "cell_type": "code",
   "execution_count": 331,
   "metadata": {},
   "outputs": [
    {
     "name": "stdout",
     "output_type": "stream",
     "text": [
      "['nh', 'nj', 'nm', 'ny', 'nc', 'nd', 'ri', 'sc', 'sd', 'wv']\n"
     ]
    }
   ],
   "source": [
    "# Obtener la primera y la última letra de cada palabra en la lista\n",
    "result1 = [(i[0]+i[-1])for i in result_lower_sin_espacion]\n",
    "result2 = [(palabra.split()[0][0]+palabra.split()[1][0]) for palabra in result_lower_con_un_espacio]\n",
    "result3 = [(palabra.split()[0][0]+palabra.split()[2][0]) for palabra in result_lower_con_dos_espacios]\n",
    "print(result2)"
   ]
  },
  {
   "cell_type": "code",
   "execution_count": 350,
   "metadata": {},
   "outputs": [
    {
     "name": "stdout",
     "output_type": "stream",
     "text": [
      "40\n",
      "10\n",
      "1\n",
      "['https://www.visitingangels.com/senior-home-care-mississippi-mi', 'https://www.visitingangels.com/senior-home-care-indiana-ia', 'https://www.visitingangels.com/senior-home-care-kentucky-ky', 'https://www.visitingangels.com/senior-home-care-montana-ma', 'https://www.visitingangels.com/senior-home-care-vermont-vt', 'https://www.visitingangels.com/senior-home-care-oklahoma-oa', 'https://www.visitingangels.com/senior-home-care-minnesota-ma', 'https://www.visitingangels.com/senior-home-care-kansas-ks', 'https://www.visitingangels.com/senior-home-care-missouri-mi', 'https://www.visitingangels.com/senior-home-care-michigan-mn', 'https://www.visitingangels.com/senior-home-care-california-ca', 'https://www.visitingangels.com/senior-home-care-pennsylvania-pa', 'https://www.visitingangels.com/senior-home-care-tennessee-te', 'https://www.visitingangels.com/senior-home-care-wisconsin-wn', 'https://www.visitingangels.com/senior-home-care-arizona-aa', 'https://www.visitingangels.com/senior-home-care-alaska-aa', 'https://www.visitingangels.com/senior-home-care-virginia-va', 'https://www.visitingangels.com/senior-home-care-maryland-md', 'https://www.visitingangels.com/senior-home-care-oregon-on', 'https://www.visitingangels.com/senior-home-care-maine-me', 'https://www.visitingangels.com/senior-home-care-hawaii-hi', 'https://www.visitingangels.com/senior-home-care-utah-uh', 'https://www.visitingangels.com/senior-home-care-nebraska-na', 'https://www.visitingangels.com/senior-home-care-delaware-de', 'https://www.visitingangels.com/senior-home-care-iowa-ia', 'https://www.visitingangels.com/senior-home-care-texas-ts', 'https://www.visitingangels.com/senior-home-care-colorado-co', 'https://www.visitingangels.com/senior-home-care-arkansas-as', 'https://www.visitingangels.com/senior-home-care-idaho-io', 'https://www.visitingangels.com/senior-home-care-louisiana-la', 'https://www.visitingangels.com/senior-home-care-massachusetts-ms', 'https://www.visitingangels.com/senior-home-care-illinois-is', 'https://www.visitingangels.com/senior-home-care-alabama-aa', 'https://www.visitingangels.com/senior-home-care-florida-fa', 'https://www.visitingangels.com/senior-home-care-connecticut-ct', 'https://www.visitingangels.com/senior-home-care-ohio-oo', 'https://www.visitingangels.com/senior-home-care-wyoming-wg', 'https://www.visitingangels.com/senior-home-care-nevada-na', 'https://www.visitingangels.com/senior-home-care-washington-wn', 'https://www.visitingangels.com/senior-home-care-georgia-ga']\n"
     ]
    }
   ],
   "source": [
    "url2 = 'https://www.visitingangels.com/senior-home-care-{}-{}'\n",
    "urls_combinadas1 = [url2.format(lower.lower(), upper.lower()) for lower, upper in zip(sin_espacio, result1)]\n",
    "urls_combinadas2 = [url2.format(lower.lower(), upper.lower()) for lower, upper in zip(con_un_espacio, result2)]\n",
    "urls_combinadas3 = [url2.format(lower.lower(), upper.lower()) for lower, upper in zip(con_dos_espacios, result3)]\n",
    "\n",
    "# Imprimir las URLs combinadas\n",
    "print(len(urls_combinadas1))\n",
    "print(len(urls_combinadas2))\n",
    "print(len(urls_combinadas3))"
   ]
  },
  {
   "cell_type": "code",
   "execution_count": 363,
   "metadata": {},
   "outputs": [],
   "source": [
    "url_all = urls_combinadas1+urls_combinadas2+urls_combinadas3"
   ]
  },
  {
   "cell_type": "code",
   "execution_count": 365,
   "metadata": {},
   "outputs": [
    {
     "data": {
      "text/plain": [
       "['https://www.visitingangels.com/senior-home-care-mississippi-mi',\n",
       " 'https://www.visitingangels.com/senior-home-care-indiana-ia',\n",
       " 'https://www.visitingangels.com/senior-home-care-kentucky-ky',\n",
       " 'https://www.visitingangels.com/senior-home-care-montana-ma',\n",
       " 'https://www.visitingangels.com/senior-home-care-vermont-vt',\n",
       " 'https://www.visitingangels.com/senior-home-care-oklahoma-oa',\n",
       " 'https://www.visitingangels.com/senior-home-care-minnesota-ma',\n",
       " 'https://www.visitingangels.com/senior-home-care-kansas-ks',\n",
       " 'https://www.visitingangels.com/senior-home-care-missouri-mi',\n",
       " 'https://www.visitingangels.com/senior-home-care-michigan-mn',\n",
       " 'https://www.visitingangels.com/senior-home-care-california-ca',\n",
       " 'https://www.visitingangels.com/senior-home-care-pennsylvania-pa',\n",
       " 'https://www.visitingangels.com/senior-home-care-tennessee-te',\n",
       " 'https://www.visitingangels.com/senior-home-care-wisconsin-wn',\n",
       " 'https://www.visitingangels.com/senior-home-care-arizona-aa',\n",
       " 'https://www.visitingangels.com/senior-home-care-alaska-aa',\n",
       " 'https://www.visitingangels.com/senior-home-care-virginia-va',\n",
       " 'https://www.visitingangels.com/senior-home-care-maryland-md',\n",
       " 'https://www.visitingangels.com/senior-home-care-oregon-on',\n",
       " 'https://www.visitingangels.com/senior-home-care-maine-me',\n",
       " 'https://www.visitingangels.com/senior-home-care-hawaii-hi',\n",
       " 'https://www.visitingangels.com/senior-home-care-utah-uh',\n",
       " 'https://www.visitingangels.com/senior-home-care-nebraska-na',\n",
       " 'https://www.visitingangels.com/senior-home-care-delaware-de',\n",
       " 'https://www.visitingangels.com/senior-home-care-iowa-ia',\n",
       " 'https://www.visitingangels.com/senior-home-care-texas-ts',\n",
       " 'https://www.visitingangels.com/senior-home-care-colorado-co',\n",
       " 'https://www.visitingangels.com/senior-home-care-arkansas-as',\n",
       " 'https://www.visitingangels.com/senior-home-care-idaho-io',\n",
       " 'https://www.visitingangels.com/senior-home-care-louisiana-la',\n",
       " 'https://www.visitingangels.com/senior-home-care-massachusetts-ms',\n",
       " 'https://www.visitingangels.com/senior-home-care-illinois-is',\n",
       " 'https://www.visitingangels.com/senior-home-care-alabama-aa',\n",
       " 'https://www.visitingangels.com/senior-home-care-florida-fa',\n",
       " 'https://www.visitingangels.com/senior-home-care-connecticut-ct',\n",
       " 'https://www.visitingangels.com/senior-home-care-ohio-oo',\n",
       " 'https://www.visitingangels.com/senior-home-care-wyoming-wg',\n",
       " 'https://www.visitingangels.com/senior-home-care-nevada-na',\n",
       " 'https://www.visitingangels.com/senior-home-care-washington-wn',\n",
       " 'https://www.visitingangels.com/senior-home-care-georgia-ga',\n",
       " 'https://www.visitingangels.com/senior-home-care-new-hampshire-nh',\n",
       " 'https://www.visitingangels.com/senior-home-care-new-jersey-nj',\n",
       " 'https://www.visitingangels.com/senior-home-care-new-mexico-nm',\n",
       " 'https://www.visitingangels.com/senior-home-care-new-york-ny',\n",
       " 'https://www.visitingangels.com/senior-home-care-north-carolina-nc',\n",
       " 'https://www.visitingangels.com/senior-home-care-north-dakota-nd',\n",
       " 'https://www.visitingangels.com/senior-home-care-rhode-island-ri',\n",
       " 'https://www.visitingangels.com/senior-home-care-south-carolina-sc',\n",
       " 'https://www.visitingangels.com/senior-home-care-south-dakota-sd',\n",
       " 'https://www.visitingangels.com/senior-home-care-west-virginia-wv',\n",
       " 'https://www.visitingangels.com/senior-home-care-district-of-columbia-dc']"
      ]
     },
     "execution_count": 365,
     "metadata": {},
     "output_type": "execute_result"
    }
   ],
   "source": [
    "url_all = [i.replace(' ', '-') for i in url_all]\n",
    "url_all"
   ]
  }
 ],
 "metadata": {
  "kernelspec": {
   "display_name": "Python 3",
   "language": "python",
   "name": "python3"
  },
  "language_info": {
   "codemirror_mode": {
    "name": "ipython",
    "version": 3
   },
   "file_extension": ".py",
   "mimetype": "text/x-python",
   "name": "python",
   "nbconvert_exporter": "python",
   "pygments_lexer": "ipython3",
   "version": "3.11.5"
  }
 },
 "nbformat": 4,
 "nbformat_minor": 2
}
