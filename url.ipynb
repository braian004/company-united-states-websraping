{
 "cells": [
  {
   "cell_type": "code",
   "execution_count": null,
   "metadata": {},
   "outputs": [],
   "source": [
    "stados =['Alabama',\n",
    " 'Alaska',\n",
    " 'Arizona',\n",
    " 'Arkansas',\n",
    " 'California',\n",
    " 'Colorado',\n",
    " 'Connecticut',\n",
    " 'Delaware',\n",
    " 'District of Columbia',\n",
    " 'Florida',\n",
    " 'Georgia',\n",
    " 'Hawaii',\n",
    " 'Idaho',\n",
    " 'Illinois',\n",
    " 'Indiana',\n",
    " 'Iowa',\n",
    " 'Kansas',\n",
    " 'Kentucky',\n",
    " 'Louisiana',\n",
    " 'Maine',\n",
    " 'Maryland',\n",
    " 'Massachusetts',\n",
    " 'Michigan',\n",
    " 'Minnesota',\n",
    " 'Mississippi',\n",
    " 'Missouri',\n",
    " 'Montana',\n",
    " 'Nebraska',\n",
    " 'Nevada',\n",
    " 'New Hampshire',\n",
    " 'New Jersey',\n",
    " 'New Mexico',\n",
    " 'New York',\n",
    " 'North Carolina',\n",
    " 'North Dakota',\n",
    " 'Ohio',\n",
    " 'Oklahoma',\n",
    " 'Oregon',\n",
    " 'Pennsylvania',\n",
    " 'Rhode Island',\n",
    " 'South Carolina',\n",
    " 'South Dakota',\n",
    " 'Tennessee',\n",
    " 'Texas',\n",
    " 'Utah',\n",
    " 'Vermont',\n",
    " 'Virginia',\n",
    " 'Washington',\n",
    " 'West Virginia',\n",
    " 'Wisconsin',\n",
    " 'Wyoming']\n"
   ]
  },
  {
   "cell_type": "code",
   "execution_count": null,
   "metadata": {},
   "outputs": [
    {
     "name": "stdout",
     "output_type": "stream",
     "text": [
      "51\n"
     ]
    }
   ],
   "source": [
    "print(len(stados))"
   ]
  },
  {
   "cell_type": "code",
   "execution_count": null,
   "metadata": {},
   "outputs": [
    {
     "name": "stdout",
     "output_type": "stream",
     "text": [
      "['https://www.visitingangels.com/senior-home-care-Alabama-', 'https://www.visitingangels.com/senior-home-care-Alaska-', 'https://www.visitingangels.com/senior-home-care-Arizona-', 'https://www.visitingangels.com/senior-home-care-Arkansas-', 'https://www.visitingangels.com/senior-home-care-California-', 'https://www.visitingangels.com/senior-home-care-Colorado-', 'https://www.visitingangels.com/senior-home-care-Connecticut-', 'https://www.visitingangels.com/senior-home-care-Delaware-', 'https://www.visitingangels.com/senior-home-care-District of Columbia-', 'https://www.visitingangels.com/senior-home-care-Florida-', 'https://www.visitingangels.com/senior-home-care-Georgia-', 'https://www.visitingangels.com/senior-home-care-Hawaii-', 'https://www.visitingangels.com/senior-home-care-Idaho-', 'https://www.visitingangels.com/senior-home-care-Illinois-', 'https://www.visitingangels.com/senior-home-care-Indiana-', 'https://www.visitingangels.com/senior-home-care-Iowa-', 'https://www.visitingangels.com/senior-home-care-Kansas-', 'https://www.visitingangels.com/senior-home-care-Kentucky-', 'https://www.visitingangels.com/senior-home-care-Louisiana-', 'https://www.visitingangels.com/senior-home-care-Maine-', 'https://www.visitingangels.com/senior-home-care-Maryland-', 'https://www.visitingangels.com/senior-home-care-Massachusetts-', 'https://www.visitingangels.com/senior-home-care-Michigan-', 'https://www.visitingangels.com/senior-home-care-Minnesota-', 'https://www.visitingangels.com/senior-home-care-Mississippi-', 'https://www.visitingangels.com/senior-home-care-Missouri-', 'https://www.visitingangels.com/senior-home-care-Montana-', 'https://www.visitingangels.com/senior-home-care-Nebraska-', 'https://www.visitingangels.com/senior-home-care-Nevada-', 'https://www.visitingangels.com/senior-home-care-New Hampshire-', 'https://www.visitingangels.com/senior-home-care-New Jersey-', 'https://www.visitingangels.com/senior-home-care-New Mexico-', 'https://www.visitingangels.com/senior-home-care-New York-', 'https://www.visitingangels.com/senior-home-care-North Carolina-', 'https://www.visitingangels.com/senior-home-care-North Dakota-', 'https://www.visitingangels.com/senior-home-care-Ohio-', 'https://www.visitingangels.com/senior-home-care-Oklahoma-', 'https://www.visitingangels.com/senior-home-care-Oregon-', 'https://www.visitingangels.com/senior-home-care-Pennsylvania-', 'https://www.visitingangels.com/senior-home-care-Rhode Island-', 'https://www.visitingangels.com/senior-home-care-South Carolina-', 'https://www.visitingangels.com/senior-home-care-South Dakota-', 'https://www.visitingangels.com/senior-home-care-Tennessee-', 'https://www.visitingangels.com/senior-home-care-Texas-', 'https://www.visitingangels.com/senior-home-care-Utah-', 'https://www.visitingangels.com/senior-home-care-Vermont-', 'https://www.visitingangels.com/senior-home-care-Virginia-', 'https://www.visitingangels.com/senior-home-care-Washington-', 'https://www.visitingangels.com/senior-home-care-West Virginia-', 'https://www.visitingangels.com/senior-home-care-Wisconsin-', 'https://www.visitingangels.com/senior-home-care-Wyoming-']\n"
     ]
    }
   ],
   "source": [
    "url_base = 'https://www.visitingangels.com/senior-home-care-{}-'\n",
    "url_modificada = []\n",
    "for i in stados:\n",
    "    url_modificada.append(url_base.format(i))\n",
    "print(url_modificada)"
   ]
  },
  {
   "cell_type": "code",
   "execution_count": null,
   "metadata": {},
   "outputs": [
    {
     "data": {
      "text/plain": [
       "['https://www.visitingangels.com/senior-home-care-alabama-',\n",
       " 'https://www.visitingangels.com/senior-home-care-alaska-',\n",
       " 'https://www.visitingangels.com/senior-home-care-arizona-',\n",
       " 'https://www.visitingangels.com/senior-home-care-arkansas-',\n",
       " 'https://www.visitingangels.com/senior-home-care-california-',\n",
       " 'https://www.visitingangels.com/senior-home-care-colorado-',\n",
       " 'https://www.visitingangels.com/senior-home-care-connecticut-',\n",
       " 'https://www.visitingangels.com/senior-home-care-delaware-',\n",
       " 'https://www.visitingangels.com/senior-home-care-district-of-columbia-',\n",
       " 'https://www.visitingangels.com/senior-home-care-florida-',\n",
       " 'https://www.visitingangels.com/senior-home-care-georgia-',\n",
       " 'https://www.visitingangels.com/senior-home-care-hawaii-',\n",
       " 'https://www.visitingangels.com/senior-home-care-idaho-',\n",
       " 'https://www.visitingangels.com/senior-home-care-illinois-',\n",
       " 'https://www.visitingangels.com/senior-home-care-indiana-',\n",
       " 'https://www.visitingangels.com/senior-home-care-iowa-',\n",
       " 'https://www.visitingangels.com/senior-home-care-kansas-',\n",
       " 'https://www.visitingangels.com/senior-home-care-kentucky-',\n",
       " 'https://www.visitingangels.com/senior-home-care-louisiana-',\n",
       " 'https://www.visitingangels.com/senior-home-care-maine-',\n",
       " 'https://www.visitingangels.com/senior-home-care-maryland-',\n",
       " 'https://www.visitingangels.com/senior-home-care-massachusetts-',\n",
       " 'https://www.visitingangels.com/senior-home-care-michigan-',\n",
       " 'https://www.visitingangels.com/senior-home-care-minnesota-',\n",
       " 'https://www.visitingangels.com/senior-home-care-mississippi-',\n",
       " 'https://www.visitingangels.com/senior-home-care-missouri-',\n",
       " 'https://www.visitingangels.com/senior-home-care-montana-',\n",
       " 'https://www.visitingangels.com/senior-home-care-nebraska-',\n",
       " 'https://www.visitingangels.com/senior-home-care-nevada-',\n",
       " 'https://www.visitingangels.com/senior-home-care-new-hampshire-',\n",
       " 'https://www.visitingangels.com/senior-home-care-new-jersey-',\n",
       " 'https://www.visitingangels.com/senior-home-care-new-mexico-',\n",
       " 'https://www.visitingangels.com/senior-home-care-new-york-',\n",
       " 'https://www.visitingangels.com/senior-home-care-north-carolina-',\n",
       " 'https://www.visitingangels.com/senior-home-care-north-dakota-',\n",
       " 'https://www.visitingangels.com/senior-home-care-ohio-',\n",
       " 'https://www.visitingangels.com/senior-home-care-oklahoma-',\n",
       " 'https://www.visitingangels.com/senior-home-care-oregon-',\n",
       " 'https://www.visitingangels.com/senior-home-care-pennsylvania-',\n",
       " 'https://www.visitingangels.com/senior-home-care-rhode-island-',\n",
       " 'https://www.visitingangels.com/senior-home-care-south-carolina-',\n",
       " 'https://www.visitingangels.com/senior-home-care-south-dakota-',\n",
       " 'https://www.visitingangels.com/senior-home-care-tennessee-',\n",
       " 'https://www.visitingangels.com/senior-home-care-texas-',\n",
       " 'https://www.visitingangels.com/senior-home-care-utah-',\n",
       " 'https://www.visitingangels.com/senior-home-care-vermont-',\n",
       " 'https://www.visitingangels.com/senior-home-care-virginia-',\n",
       " 'https://www.visitingangels.com/senior-home-care-washington-',\n",
       " 'https://www.visitingangels.com/senior-home-care-west-virginia-',\n",
       " 'https://www.visitingangels.com/senior-home-care-wisconsin-',\n",
       " 'https://www.visitingangels.com/senior-home-care-wyoming-']"
      ]
     },
     "execution_count": 177,
     "metadata": {},
     "output_type": "execute_result"
    }
   ],
   "source": [
    "url_modificada1 = [url.lower().replace(' ', '-') for url in url_modificada]\n",
    "url_modificada1"
   ]
  },
  {
   "cell_type": "code",
   "execution_count": 243,
   "metadata": {},
   "outputs": [
    {
     "name": "stdout",
     "output_type": "stream",
     "text": [
      "['New Hampshire', 'New Jersey', 'New Mexico', 'New York', 'North Carolina', 'North Dakota', 'Rhode Island', 'South Carolina', 'South Dakota', 'West Virginia']\n",
      "['District of Columbia']\n"
     ]
    }
   ],
   "source": [
    "# Inicializar listas vacías para palabras con un espacio y dos espacios\n",
    "con_un_espacio = []\n",
    "con_dos_espacios = []\n",
    "\n",
    "# Dividir la lista en las dos categorías\n",
    "for palabra in stados:\n",
    "    if ' ' in palabra:\n",
    "        if palabra.count(' ') == 1:\n",
    "            con_un_espacio.append(palabra)\n",
    "        elif palabra.count(' ') == 2:\n",
    "            con_dos_espacios.append(palabra)\n",
    "       \n",
    "# Imprimir las listas resultantes\n",
    "print(con_un_espacio)\n",
    "print(con_dos_espacios)\n"
   ]
  },
  {
   "cell_type": "code",
   "execution_count": 249,
   "metadata": {},
   "outputs": [
    {
     "name": "stdout",
     "output_type": "stream",
     "text": [
      "['Mississippi', 'Indiana', 'Kentucky', 'Montana', 'Vermont', 'Oklahoma', 'Minnesota', 'Kansas', 'Missouri', 'Michigan', 'California', 'Pennsylvania', 'Tennessee', 'Wisconsin', 'Arizona', 'Alaska', 'Virginia', 'Maryland', 'Oregon', 'Maine', 'Hawaii', 'Utah', 'Nebraska', 'Delaware', 'Iowa', 'Texas', 'Colorado', 'Arkansas', 'Idaho', 'Louisiana', 'Massachusetts', 'Illinois', 'Alabama', 'Florida', 'Connecticut', 'Ohio', 'Wyoming', 'Nevada', 'Washington', 'Georgia']\n"
     ]
    }
   ],
   "source": [
    "set_stados = set(stados)\n",
    "set_con_un_espacio = set(con_un_espacio)\n",
    "set_con_dos_espacios = set(con_dos_espacios)\n",
    "\n",
    "# Obtener los datos distintos a con_un_espacio y con_dos_espacios\n",
    "sin_espacio = list(set_stados - set_con_un_espacio - set_con_dos_espacios)\n",
    "\n",
    "# Imprimir los datos finales\n",
    "print(sin_espacio)\n"
   ]
  },
  {
   "cell_type": "code",
   "execution_count": 251,
   "metadata": {},
   "outputs": [
    {
     "name": "stdout",
     "output_type": "stream",
     "text": [
      "40\n",
      "10\n",
      "1\n"
     ]
    }
   ],
   "source": [
    "result_lower_sin_espacion = [i.lower() for i in sin_espacio]\n",
    "print(len(result_lower_sin_espacion))\n",
    "result_lower_con_un_espacio = [i.lower() for i in con_un_espacio]\n",
    "print(len(result_lower_con_un_espacio))\n",
    "result_lower_con_dos_espacios = [i.lower() for i in con_dos_espacios]\n",
    "print(len(result_lower_con_dos_espacios))"
   ]
  },
  {
   "cell_type": "code",
   "execution_count": 262,
   "metadata": {},
   "outputs": [],
   "source": [
    "# Obtener la primera y la última letra de cada palabra en la lista\n",
    "result1 = [(i[0]+i[-1])for i in result_lower_sin_espacion]"
   ]
  },
  {
   "cell_type": "code",
   "execution_count": 268,
   "metadata": {},
   "outputs": [
    {
     "data": {
      "text/plain": [
       "(['nh', 'nj', 'nm', 'ny', 'nc', 'nd', 'ri', 'sc', 'sd', 'wv'],\n",
       " ['new hampshire',\n",
       "  'new jersey',\n",
       "  'new mexico',\n",
       "  'new york',\n",
       "  'north carolina',\n",
       "  'north dakota',\n",
       "  'rhode island',\n",
       "  'south carolina',\n",
       "  'south dakota',\n",
       "  'west virginia'])"
      ]
     },
     "execution_count": 268,
     "metadata": {},
     "output_type": "execute_result"
    }
   ],
   "source": [
    "result2 = [(palabra.split()[0][0]+palabra.split()[1][0]) for palabra in result_lower_con_un_espacio]"
   ]
  },
  {
   "cell_type": "code",
   "execution_count": 260,
   "metadata": {},
   "outputs": [
    {
     "data": {
      "text/plain": [
       "(['nn', 'nn', 'nn', 'nn', 'nn', 'nn', 'rr', 'ss', 'ss', 'ww'],\n",
       " ['new hampshire',\n",
       "  'new jersey',\n",
       "  'new mexico',\n",
       "  'new york',\n",
       "  'north carolina',\n",
       "  'north dakota',\n",
       "  'rhode island',\n",
       "  'south carolina',\n",
       "  'south dakota',\n",
       "  'west virginia'])"
      ]
     },
     "execution_count": 260,
     "metadata": {},
     "output_type": "execute_result"
    }
   ],
   "source": [
    "result2 = [(i[0]+i[0])for i in result_lower_con_un_espacio]\n",
    "result2,result_lower_con_un_espacio"
   ]
  }
 ],
 "metadata": {
  "kernelspec": {
   "display_name": "Python 3",
   "language": "python",
   "name": "python3"
  },
  "language_info": {
   "codemirror_mode": {
    "name": "ipython",
    "version": 3
   },
   "file_extension": ".py",
   "mimetype": "text/x-python",
   "name": "python",
   "nbconvert_exporter": "python",
   "pygments_lexer": "ipython3",
   "version": "3.11.5"
  }
 },
 "nbformat": 4,
 "nbformat_minor": 2
}
