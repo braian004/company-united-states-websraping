{
 "cells": [
  {
   "cell_type": "code",
   "execution_count": 160,
   "metadata": {},
   "outputs": [
    {
     "ename": "ValueError",
     "evalue": "Unknown format code 'k' for object of type 'str'",
     "output_type": "error",
     "traceback": [
      "\u001b[1;31m---------------------------------------------------------------------------\u001b[0m",
      "\u001b[1;31mValueError\u001b[0m                                Traceback (most recent call last)",
      "\u001b[1;32mc:\\Users\\Tito\\Desktop\\ETL-company-EEUU\\url.ipynb Cell 1\u001b[0m line \u001b[0;36m2\n\u001b[0;32m     <a href='vscode-notebook-cell:/c%3A/Users/Tito/Desktop/ETL-company-EEUU/url.ipynb#W0sZmlsZQ%3D%3D?line=22'>23</a>\u001b[0m     \u001b[39melse\u001b[39;00m:\n\u001b[0;32m     <a href='vscode-notebook-cell:/c%3A/Users/Tito/Desktop/ETL-company-EEUU/url.ipynb#W0sZmlsZQ%3D%3D?line=23'>24</a>\u001b[0m         iniciales \u001b[39m=\u001b[39m palabras[\u001b[39m0\u001b[39m][:\u001b[39m1\u001b[39m]\n\u001b[1;32m---> <a href='vscode-notebook-cell:/c%3A/Users/Tito/Desktop/ETL-company-EEUU/url.ipynb#W0sZmlsZQ%3D%3D?line=24'>25</a>\u001b[0m     url_all_estados\u001b[39m.\u001b[39mappend(\u001b[39mformat\u001b[39;49m(estado, iniciales))\n\u001b[0;32m     <a href='vscode-notebook-cell:/c%3A/Users/Tito/Desktop/ETL-company-EEUU/url.ipynb#W0sZmlsZQ%3D%3D?line=26'>27</a>\u001b[0m \u001b[39m# Crear un DataFrame con la lista de URLs\u001b[39;00m\n\u001b[0;32m     <a href='vscode-notebook-cell:/c%3A/Users/Tito/Desktop/ETL-company-EEUU/url.ipynb#W0sZmlsZQ%3D%3D?line=27'>28</a>\u001b[0m df \u001b[39m=\u001b[39m pd\u001b[39m.\u001b[39mDataFrame({\u001b[39m'\u001b[39m\u001b[39mURLs\u001b[39m\u001b[39m'\u001b[39m: url_all_estados})\n",
      "\u001b[1;31mValueError\u001b[0m: Unknown format code 'k' for object of type 'str'"
     ]
    }
   ],
   "source": [
    "import pandas as pd\n",
    "\n",
    "# Lista de palabras para agregar a la URL\n",
    "estados = ['kansas', 'district-of-columbia', 'california', 'alabama', 'alaska', 'arizona', 'arkansas',\n",
    "           'california', 'colorado', 'connecticut', 'delaware', 'district of columbia', 'florida', 'georgia',\n",
    "           'hawaii', 'idaho', 'illinois', 'indiana', 'iowa', 'kansas', 'kentucky', 'louisiana', 'maine', 'maryland',\n",
    "           'massachusetts', 'michigan', 'minnesota', 'mississippi', 'missouri', 'montana', 'nebraska', 'nevada',\n",
    "           'new hampshire', 'new jersey', 'new mexico', 'new york', 'north carolina', 'north dakota', 'ohio', 'oklahoma',\n",
    "           'oregon', 'pennsylvania', 'rhode island', 'south carolina', 'south dakota', 'tennessee', 'texas', 'utah',\n",
    "           'vermont', 'virginia', 'washington', 'west virginia', 'wisconsin', 'wyoming']\n",
    "\n",
    "# URL base\n",
    "url_base = 'https://www.visitingangels.com/senior-home-care-{}-{}'\n",
    "\n",
    "# Crear la variable url_all_estados\n",
    "url_all_estados = []\n",
    "\n",
    "# Agregar cada palabra de la lista a la URL base\n",
    "for estado in estados:\n",
    "    palabras = estado.split('-')\n",
    "    if len(palabras) > 1:\n",
    "        iniciales = palabras[0][0] + palabras[-1][-1]\n",
    "    else:\n",
    "        iniciales = palabras[0][:1]\n",
    "    url_all_estados.append(format(estado, iniciales))\n",
    "\n",
    "# Crear un DataFrame con la lista de URLs\n",
    "df = pd.DataFrame({'URLs': url_all_estados})\n",
    "df.to_csv('sfsdf',index=True)\n",
    "# Imprimir el DataFrame\n",
    "print(url_all_estados)\n"
   ]
  },
  {
   "cell_type": "code",
   "execution_count": 155,
   "metadata": {},
   "outputs": [],
   "source": [
    "stados =['Alabama',\n",
    " 'Alaska',\n",
    " 'Arizona',\n",
    " 'Arkansas',\n",
    " 'California',\n",
    " 'Colorado',\n",
    " 'Connecticut',\n",
    " 'Delaware',\n",
    " 'District of Columbia',\n",
    " 'Florida',\n",
    " 'Georgia',\n",
    " 'Hawaii',\n",
    " 'Idaho',\n",
    " 'Illinois',\n",
    " 'Indiana',\n",
    " 'Iowa',\n",
    " 'Kansas',\n",
    " 'Kentucky',\n",
    " 'Louisiana',\n",
    " 'Maine',\n",
    " 'Maryland',\n",
    " 'Massachusetts',\n",
    " 'Michigan',\n",
    " 'Minnesota',\n",
    " 'Mississippi',\n",
    " 'Missouri',\n",
    " 'Montana',\n",
    " 'Nebraska',\n",
    " 'Nevada',\n",
    " 'New Hampshire',\n",
    " 'New Jersey',\n",
    " 'New Mexico',\n",
    " 'New York',\n",
    " 'North Carolina',\n",
    " 'North Dakota',\n",
    " 'Ohio',\n",
    " 'Oklahoma',\n",
    " 'Oregon',\n",
    " 'Pennsylvania',\n",
    " 'Rhode Island',\n",
    " 'South Carolina',\n",
    " 'South Dakota',\n",
    " 'Tennessee',\n",
    " 'Texas',\n",
    " 'Utah',\n",
    " 'Vermont',\n",
    " 'Virginia',\n",
    " 'Washington',\n",
    " 'West Virginia',\n",
    " 'Wisconsin',\n",
    " 'Wyoming']\n"
   ]
  },
  {
   "cell_type": "code",
   "execution_count": 156,
   "metadata": {},
   "outputs": [
    {
     "name": "stdout",
     "output_type": "stream",
     "text": [
      "51\n"
     ]
    }
   ],
   "source": [
    "print(len(stados))"
   ]
  },
  {
   "cell_type": "code",
   "execution_count": 139,
   "metadata": {},
   "outputs": [
    {
     "name": "stdout",
     "output_type": "stream",
     "text": [
      "['https://www.visitingangels.com/senior-home-care-Alabama-', 'https://www.visitingangels.com/senior-home-care-Alaska-', 'https://www.visitingangels.com/senior-home-care-Arizona-', 'https://www.visitingangels.com/senior-home-care-Arkansas-', 'https://www.visitingangels.com/senior-home-care-California-', 'https://www.visitingangels.com/senior-home-care-Colorado-', 'https://www.visitingangels.com/senior-home-care-Connecticut-', 'https://www.visitingangels.com/senior-home-care-Delaware-', 'https://www.visitingangels.com/senior-home-care-District of Columbia-', 'https://www.visitingangels.com/senior-home-care-Florida-', 'https://www.visitingangels.com/senior-home-care-Georgia-', 'https://www.visitingangels.com/senior-home-care-Hawaii-', 'https://www.visitingangels.com/senior-home-care-Idaho-', 'https://www.visitingangels.com/senior-home-care-Illinois-', 'https://www.visitingangels.com/senior-home-care-Indiana-', 'https://www.visitingangels.com/senior-home-care-Iowa-', 'https://www.visitingangels.com/senior-home-care-Kansas-', 'https://www.visitingangels.com/senior-home-care-Kentucky-', 'https://www.visitingangels.com/senior-home-care-Louisiana-', 'https://www.visitingangels.com/senior-home-care-Maine-', 'https://www.visitingangels.com/senior-home-care-Maryland-', 'https://www.visitingangels.com/senior-home-care-Massachusetts-', 'https://www.visitingangels.com/senior-home-care-Michigan-', 'https://www.visitingangels.com/senior-home-care-Minnesota-', 'https://www.visitingangels.com/senior-home-care-Mississippi-', 'https://www.visitingangels.com/senior-home-care-Missouri-', 'https://www.visitingangels.com/senior-home-care-Montana-', 'https://www.visitingangels.com/senior-home-care-Nebraska-', 'https://www.visitingangels.com/senior-home-care-Nevada-', 'https://www.visitingangels.com/senior-home-care-New Hampshire-', 'https://www.visitingangels.com/senior-home-care-New Jersey-', 'https://www.visitingangels.com/senior-home-care-New Mexico-', 'https://www.visitingangels.com/senior-home-care-New York-', 'https://www.visitingangels.com/senior-home-care-North Carolina-', 'https://www.visitingangels.com/senior-home-care-North Dakota-', 'https://www.visitingangels.com/senior-home-care-Ohio-', 'https://www.visitingangels.com/senior-home-care-Oklahoma-', 'https://www.visitingangels.com/senior-home-care-Oregon-', 'https://www.visitingangels.com/senior-home-care-Pennsylvania-', 'https://www.visitingangels.com/senior-home-care-Rhode Island-', 'https://www.visitingangels.com/senior-home-care-South Carolina-', 'https://www.visitingangels.com/senior-home-care-South Dakota-', 'https://www.visitingangels.com/senior-home-care-Tennessee-', 'https://www.visitingangels.com/senior-home-care-Texas-', 'https://www.visitingangels.com/senior-home-care-Utah-', 'https://www.visitingangels.com/senior-home-care-Vermont-', 'https://www.visitingangels.com/senior-home-care-Virginia-', 'https://www.visitingangels.com/senior-home-care-Washington-', 'https://www.visitingangels.com/senior-home-care-West Virginia-', 'https://www.visitingangels.com/senior-home-care-Wisconsin-', 'https://www.visitingangels.com/senior-home-care-Wyoming-']\n"
     ]
    }
   ],
   "source": [
    "url_base = 'https://www.visitingangels.com/senior-home-care-{}-'\n",
    "url_modificada = []\n",
    "for i in stados:\n",
    "    url_modificada.append(url_base.format(i))\n",
    "print(url_modificada)"
   ]
  },
  {
   "cell_type": "code",
   "execution_count": 147,
   "metadata": {},
   "outputs": [],
   "source": [
    "url_modificada1 = [url.lower().replace(' ', '-') for url in url_modificada]"
   ]
  },
  {
   "cell_type": "code",
   "execution_count": 162,
   "metadata": {},
   "outputs": [
    {
     "ename": "SyntaxError",
     "evalue": "invalid syntax (1854178209.py, line 1)",
     "output_type": "error",
     "traceback": [
      "\u001b[1;36m  Cell \u001b[1;32mIn[162], line 1\u001b[1;36m\u001b[0m\n\u001b[1;33m    stados = [stados > 1 for i in iniciales = stados[0][0] + stados[-1][-1]]\u001b[0m\n\u001b[1;37m                                            ^\u001b[0m\n\u001b[1;31mSyntaxError\u001b[0m\u001b[1;31m:\u001b[0m invalid syntax\n"
     ]
    }
   ],
   "source": [
    "stados = [stados > 1 for i in iniciales = stados[0][0] + stados[-1][-1]]"
   ]
  }
 ],
 "metadata": {
  "kernelspec": {
   "display_name": "Python 3",
   "language": "python",
   "name": "python3"
  },
  "language_info": {
   "codemirror_mode": {
    "name": "ipython",
    "version": 3
   },
   "file_extension": ".py",
   "mimetype": "text/x-python",
   "name": "python",
   "nbconvert_exporter": "python",
   "pygments_lexer": "ipython3",
   "version": "3.11.5"
  }
 },
 "nbformat": 4,
 "nbformat_minor": 2
}
