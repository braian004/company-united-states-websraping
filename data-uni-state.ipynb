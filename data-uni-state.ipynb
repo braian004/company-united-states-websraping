{
 "cells": [
  {
   "cell_type": "code",
   "execution_count": 2,
   "metadata": {},
   "outputs": [],
   "source": [
    "import pandas as pd\n",
    "import requests\n",
    "from bs4 import BeautifulSoup \n",
    "from lxml import etree\n",
    "from selenium import webdriver\n",
    "from selenium.webdriver.edge.service import Service as EdgeService\n",
    "import time"
   ]
  },
  {
   "cell_type": "code",
   "execution_count": 3,
   "metadata": {},
   "outputs": [],
   "source": [
    "url = \" https://www.visitingangels.com/office-locator\""
   ]
  },
  {
   "cell_type": "code",
   "execution_count": 4,
   "metadata": {},
   "outputs": [
    {
     "name": "stdout",
     "output_type": "stream",
     "text": [
      "Ejecutando código de interacción...\n",
      "Cerrando el navegador...\n"
     ]
    }
   ],
   "source": [
    "from selenium import webdriver\n",
    "from selenium.webdriver.edge.service import Service as EdgeService\n",
    "# import time\n",
    "\n",
    "# Configurar el servicio del controlador de Edge\n",
    "edge_service = EdgeService(r\"C:\\Users\\Tito\\Desktop\\s\\msedgedriver.exe\")\n",
    "\n",
    "# Inicializar el controlador de Edge con el servicio configurado\n",
    "driver = webdriver.Edge(service=edge_service)\n",
    "\n",
    "# Navegar a la página\n",
    "driver.get(\"http://python.org\")\n",
    "\n",
    "# Tu código de interacción con la página va aquí\n",
    "\n",
    "# Agregar mensajes de registro para depurar\n",
    "print(\"Ejecutando código de interacción...\")\n",
    "\n",
    "# Esperar durante 10 segundos antes de cerrar el navegador\n",
    "# time.sleep(10000)\n",
    "\n",
    "# Agregar más mensajes de registro\n",
    "print(\"Cerrando el navegador...\")\n",
    "\n",
    "# Cerrar el navegador\n",
    "driver.quit()"
   ]
  },
  {
   "cell_type": "code",
   "execution_count": 5,
   "metadata": {},
   "outputs": [
    {
     "ename": "NoSuchWindowException",
     "evalue": "Message: no such window: target window already closed\nfrom unknown error: web view not found\n  (Session info: MicrosoftEdge=119.0.2151.72)\nStacktrace:\n\tGetHandleVerifier [0x00007FF780272602+60402]\n\tMicrosoft::Applications::Events::ILogConfiguration::operator* [0x00007FF7801F7352+253666]\n\t(No symbol) [0x00007FF77FFC9C99]\n\t(No symbol) [0x00007FF77FFA0C14]\n\t(No symbol) [0x00007FF78003FEAD]\n\t(No symbol) [0x00007FF780054A78]\n\t(No symbol) [0x00007FF78003B863]\n\t(No symbol) [0x00007FF78000C585]\n\t(No symbol) [0x00007FF78000B993]\n\t(No symbol) [0x00007FF78000CD14]\n\tMicrosoft::Applications::Events::EventProperty::to_string [0x00007FF7804534A4+1161924]\n\t(No symbol) [0x00007FF78008E5F6]\n\tMicrosoft::Applications::Events::EventProperty::~EventProperty [0x00007FF78014B083+37459]\n\tMicrosoft::Applications::Events::EventProperty::~EventProperty [0x00007FF780142C4D+3613]\n\tMicrosoft::Applications::Events::EventProperty::to_string [0x00007FF7804521E4+1157124]\n\tMicrosoft::Applications::Events::ILogConfiguration::operator* [0x00007FF7802016A8+295480]\n\tMicrosoft::Applications::Events::ILogConfiguration::operator* [0x00007FF7801FCB74+276228]\n\tMicrosoft::Applications::Events::ILogConfiguration::operator* [0x00007FF7801FCCA2+276530]\n\tMicrosoft::Applications::Events::ILogConfiguration::operator* [0x00007FF7801EFA91+222753]\n\tBaseThreadInitThunk [0x00007FFD04E87344+20]\n\tRtlUserThreadStart [0x00007FFD05AC26B1+33]\n",
     "output_type": "error",
     "traceback": [
      "\u001b[1;31m---------------------------------------------------------------------------\u001b[0m",
      "\u001b[1;31mNoSuchWindowException\u001b[0m                     Traceback (most recent call last)",
      "\u001b[1;32mc:\\Users\\Tito\\Desktop\\ETL-company-EEUU\\data-uni-state.ipynb Cell 4\u001b[0m line \u001b[0;36m1\n\u001b[0;32m      <a href='vscode-notebook-cell:/c%3A/Users/Tito/Desktop/ETL-company-EEUU/data-uni-state.ipynb#W3sZmlsZQ%3D%3D?line=8'>9</a>\u001b[0m driver \u001b[39m=\u001b[39m webdriver\u001b[39m.\u001b[39mEdge(service\u001b[39m=\u001b[39medge_service)\n\u001b[0;32m     <a href='vscode-notebook-cell:/c%3A/Users/Tito/Desktop/ETL-company-EEUU/data-uni-state.ipynb#W3sZmlsZQ%3D%3D?line=10'>11</a>\u001b[0m \u001b[39m# Abre la página web\u001b[39;00m\n\u001b[1;32m---> <a href='vscode-notebook-cell:/c%3A/Users/Tito/Desktop/ETL-company-EEUU/data-uni-state.ipynb#W3sZmlsZQ%3D%3D?line=11'>12</a>\u001b[0m driver\u001b[39m.\u001b[39;49mget(url)\n\u001b[0;32m     <a href='vscode-notebook-cell:/c%3A/Users/Tito/Desktop/ETL-company-EEUU/data-uni-state.ipynb#W3sZmlsZQ%3D%3D?line=13'>14</a>\u001b[0m \u001b[39mtry\u001b[39;00m:\n\u001b[0;32m     <a href='vscode-notebook-cell:/c%3A/Users/Tito/Desktop/ETL-company-EEUU/data-uni-state.ipynb#W3sZmlsZQ%3D%3D?line=14'>15</a>\u001b[0m     \u001b[39m# Encuentra el elemento del menú desplegable por su ID\u001b[39;00m\n\u001b[0;32m     <a href='vscode-notebook-cell:/c%3A/Users/Tito/Desktop/ETL-company-EEUU/data-uni-state.ipynb#W3sZmlsZQ%3D%3D?line=15'>16</a>\u001b[0m     state_dropdown \u001b[39m=\u001b[39m Select(driver\u001b[39m.\u001b[39mfind_element(By\u001b[39m.\u001b[39mID, \u001b[39m\"\u001b[39m\u001b[39mStateCode\u001b[39m\u001b[39m\"\u001b[39m))\n",
      "File \u001b[1;32mc:\\Users\\Tito\\AppData\\Local\\Programs\\Python\\Python311\\Lib\\site-packages\\selenium\\webdriver\\remote\\webdriver.py:356\u001b[0m, in \u001b[0;36mWebDriver.get\u001b[1;34m(self, url)\u001b[0m\n\u001b[0;32m    354\u001b[0m \u001b[39mdef\u001b[39;00m \u001b[39mget\u001b[39m(\u001b[39mself\u001b[39m, url: \u001b[39mstr\u001b[39m) \u001b[39m-\u001b[39m\u001b[39m>\u001b[39m \u001b[39mNone\u001b[39;00m:\n\u001b[0;32m    355\u001b[0m \u001b[39m    \u001b[39m\u001b[39m\"\"\"Loads a web page in the current browser session.\"\"\"\u001b[39;00m\n\u001b[1;32m--> 356\u001b[0m     \u001b[39mself\u001b[39;49m\u001b[39m.\u001b[39;49mexecute(Command\u001b[39m.\u001b[39;49mGET, {\u001b[39m\"\u001b[39;49m\u001b[39murl\u001b[39;49m\u001b[39m\"\u001b[39;49m: url})\n",
      "File \u001b[1;32mc:\\Users\\Tito\\AppData\\Local\\Programs\\Python\\Python311\\Lib\\site-packages\\selenium\\webdriver\\remote\\webdriver.py:347\u001b[0m, in \u001b[0;36mWebDriver.execute\u001b[1;34m(self, driver_command, params)\u001b[0m\n\u001b[0;32m    345\u001b[0m response \u001b[39m=\u001b[39m \u001b[39mself\u001b[39m\u001b[39m.\u001b[39mcommand_executor\u001b[39m.\u001b[39mexecute(driver_command, params)\n\u001b[0;32m    346\u001b[0m \u001b[39mif\u001b[39;00m response:\n\u001b[1;32m--> 347\u001b[0m     \u001b[39mself\u001b[39;49m\u001b[39m.\u001b[39;49merror_handler\u001b[39m.\u001b[39;49mcheck_response(response)\n\u001b[0;32m    348\u001b[0m     response[\u001b[39m\"\u001b[39m\u001b[39mvalue\u001b[39m\u001b[39m\"\u001b[39m] \u001b[39m=\u001b[39m \u001b[39mself\u001b[39m\u001b[39m.\u001b[39m_unwrap_value(response\u001b[39m.\u001b[39mget(\u001b[39m\"\u001b[39m\u001b[39mvalue\u001b[39m\u001b[39m\"\u001b[39m, \u001b[39mNone\u001b[39;00m))\n\u001b[0;32m    349\u001b[0m     \u001b[39mreturn\u001b[39;00m response\n",
      "File \u001b[1;32mc:\\Users\\Tito\\AppData\\Local\\Programs\\Python\\Python311\\Lib\\site-packages\\selenium\\webdriver\\remote\\errorhandler.py:229\u001b[0m, in \u001b[0;36mErrorHandler.check_response\u001b[1;34m(self, response)\u001b[0m\n\u001b[0;32m    227\u001b[0m         alert_text \u001b[39m=\u001b[39m value[\u001b[39m\"\u001b[39m\u001b[39malert\u001b[39m\u001b[39m\"\u001b[39m]\u001b[39m.\u001b[39mget(\u001b[39m\"\u001b[39m\u001b[39mtext\u001b[39m\u001b[39m\"\u001b[39m)\n\u001b[0;32m    228\u001b[0m     \u001b[39mraise\u001b[39;00m exception_class(message, screen, stacktrace, alert_text)  \u001b[39m# type: ignore[call-arg]  # mypy is not smart enough here\u001b[39;00m\n\u001b[1;32m--> 229\u001b[0m \u001b[39mraise\u001b[39;00m exception_class(message, screen, stacktrace)\n",
      "\u001b[1;31mNoSuchWindowException\u001b[0m: Message: no such window: target window already closed\nfrom unknown error: web view not found\n  (Session info: MicrosoftEdge=119.0.2151.72)\nStacktrace:\n\tGetHandleVerifier [0x00007FF780272602+60402]\n\tMicrosoft::Applications::Events::ILogConfiguration::operator* [0x00007FF7801F7352+253666]\n\t(No symbol) [0x00007FF77FFC9C99]\n\t(No symbol) [0x00007FF77FFA0C14]\n\t(No symbol) [0x00007FF78003FEAD]\n\t(No symbol) [0x00007FF780054A78]\n\t(No symbol) [0x00007FF78003B863]\n\t(No symbol) [0x00007FF78000C585]\n\t(No symbol) [0x00007FF78000B993]\n\t(No symbol) [0x00007FF78000CD14]\n\tMicrosoft::Applications::Events::EventProperty::to_string [0x00007FF7804534A4+1161924]\n\t(No symbol) [0x00007FF78008E5F6]\n\tMicrosoft::Applications::Events::EventProperty::~EventProperty [0x00007FF78014B083+37459]\n\tMicrosoft::Applications::Events::EventProperty::~EventProperty [0x00007FF780142C4D+3613]\n\tMicrosoft::Applications::Events::EventProperty::to_string [0x00007FF7804521E4+1157124]\n\tMicrosoft::Applications::Events::ILogConfiguration::operator* [0x00007FF7802016A8+295480]\n\tMicrosoft::Applications::Events::ILogConfiguration::operator* [0x00007FF7801FCB74+276228]\n\tMicrosoft::Applications::Events::ILogConfiguration::operator* [0x00007FF7801FCCA2+276530]\n\tMicrosoft::Applications::Events::ILogConfiguration::operator* [0x00007FF7801EFA91+222753]\n\tBaseThreadInitThunk [0x00007FFD04E87344+20]\n\tRtlUserThreadStart [0x00007FFD05AC26B1+33]\n"
     ]
    }
   ],
   "source": [
    "from selenium import webdriver\n",
    "from selenium.webdriver.common.by import By\n",
    "from selenium.webdriver.support.ui import Select\n",
    "\n",
    "# Configura el servicio del controlador de Edge\n",
    "edge_service = webdriver.EdgeService(r\"C:\\Users\\Tito\\Desktop\\s\\msedgedriver.exe\")\n",
    "\n",
    "# Inicializa el controlador de Edge con el servicio configurado\n",
    "driver = webdriver.Edge(service=edge_service)\n",
    "\n",
    "# Abre la página web\n",
    "driver.get(url)\n",
    "\n",
    "try:\n",
    "    # Encuentra el elemento del menú desplegable por su ID\n",
    "    state_dropdown = Select(driver.find_element(By.ID, \"StateCode\"))\n",
    "\n",
    "    # Obtén todas las opciones dentro del menú desplegable\n",
    "    options = state_dropdown.options\n",
    "\n",
    "    # Itera sobre cada opción e imprime el valor del atributo 'value'\n",
    "    for option in options:\n",
    "        option_value = option.get_attribute(\"value\")\n",
    "        if option_value:\n",
    "            # Puedes imprimir o almacenar el valor en una lista, base de datos, etc.\n",
    "            print(f\"Opción: {option.text}, Valor: {option_value}\")\n",
    "\n",
    "finally:\n",
    "    # Cierra el navegador al final, independientemente de lo que suceda\n",
    "    driver.quit()"
   ]
  },
  {
   "cell_type": "code",
   "execution_count": 12,
   "metadata": {},
   "outputs": [],
   "source": [
    "url = \" https://www.visitingangels.com/office-locator\""
   ]
  },
  {
   "cell_type": "markdown",
   "metadata": {},
   "source": []
  },
  {
   "cell_type": "code",
   "execution_count": 13,
   "metadata": {},
   "outputs": [],
   "source": [
    "r = requests.get(url)"
   ]
  },
  {
   "cell_type": "code",
   "execution_count": null,
   "metadata": {},
   "outputs": [
    {
     "data": {
      "text/plain": [
       "200"
      ]
     },
     "execution_count": 54,
     "metadata": {},
     "output_type": "execute_result"
    }
   ],
   "source": [
    "r.status_code"
   ]
  },
  {
   "cell_type": "code",
   "execution_count": 14,
   "metadata": {},
   "outputs": [],
   "source": [
    "soup = BeautifulSoup(r.content,'html.parser')"
   ]
  },
  {
   "cell_type": "code",
   "execution_count": 15,
   "metadata": {},
   "outputs": [],
   "source": [
    "stados = soup.find_all(\"select\" ,class_=\"ddl state-dropdown\")\n"
   ]
  },
  {
   "cell_type": "code",
   "execution_count": 16,
   "metadata": {},
   "outputs": [],
   "source": [
    "stados = [i.text for i in stados]"
   ]
  },
  {
   "cell_type": "code",
   "execution_count": 17,
   "metadata": {},
   "outputs": [
    {
     "data": {
      "text/plain": [
       "['Alabama',\n",
       " 'Alaska',\n",
       " 'Arizona',\n",
       " 'Arkansas',\n",
       " 'California',\n",
       " 'Colorado',\n",
       " 'Connecticut',\n",
       " 'Delaware',\n",
       " 'District of Columbia',\n",
       " 'Florida',\n",
       " 'Georgia',\n",
       " 'Hawaii',\n",
       " 'Idaho',\n",
       " 'Illinois',\n",
       " 'Indiana',\n",
       " 'Iowa',\n",
       " 'Kansas',\n",
       " 'Kentucky',\n",
       " 'Louisiana',\n",
       " 'Maine',\n",
       " 'Maryland',\n",
       " 'Massachusetts',\n",
       " 'Michigan',\n",
       " 'Minnesota',\n",
       " 'Mississippi',\n",
       " 'Missouri',\n",
       " 'Montana',\n",
       " 'Nebraska',\n",
       " 'Nevada',\n",
       " 'New Hampshire',\n",
       " 'New Jersey',\n",
       " 'New Mexico',\n",
       " 'New York',\n",
       " 'North Carolina',\n",
       " 'North Dakota',\n",
       " 'Ohio',\n",
       " 'Oklahoma',\n",
       " 'Oregon',\n",
       " 'Pennsylvania',\n",
       " 'Rhode Island',\n",
       " 'South Carolina',\n",
       " 'South Dakota',\n",
       " 'Tennessee',\n",
       " 'Texas',\n",
       " 'Utah',\n",
       " 'Vermont',\n",
       " 'Virginia',\n",
       " 'Washington',\n",
       " 'West Virginia',\n",
       " 'Wisconsin',\n",
       " 'Wyoming']"
      ]
     },
     "execution_count": 17,
     "metadata": {},
     "output_type": "execute_result"
    }
   ],
   "source": [
    "stados = [i.strip() for i in stados[0].split('\\n') if i.strip()]# eliminar \\n de una lista \n",
    "stados.pop(0)#eliminar first item\n",
    "stados"
   ]
  },
  {
   "cell_type": "code",
   "execution_count": null,
   "metadata": {},
   "outputs": [
    {
     "name": "stdout",
     "output_type": "stream",
     "text": [
      "51\n"
     ]
    }
   ],
   "source": [
    "print(len(stados))"
   ]
  },
  {
   "cell_type": "code",
   "execution_count": null,
   "metadata": {},
   "outputs": [],
   "source": [
    "# https://www.visitingangels.com/senior-home-care-kansas-ks\n",
    "# https://www.visitingangels.com/senior-home-care-district-of-columbia-dc\n",
    "# https://www.visitingangels.com/senior-home-care-california-ca"
   ]
  },
  {
   "cell_type": "code",
   "execution_count": null,
   "metadata": {},
   "outputs": [],
   "source": [
    "url_all_stados ='https://www.visitingangels.com/senior-home-care-{}-{}'"
   ]
  },
  {
   "cell_type": "code",
   "execution_count": 19,
   "metadata": {},
   "outputs": [
    {
     "name": "stdout",
     "output_type": "stream",
     "text": [
      "51\n"
     ]
    }
   ],
   "source": [
    "# URL base\n",
    "url_base = 'https://www.visitingangels.com/senior-home-care-{}-'\n",
    "\n",
    "# Crear la variable url_all_estados\n",
    "url_all_estados = []\n",
    "\n",
    "# Agregar cada palabra de la lista a la URL base\n",
    "for estado in stados:\n",
    "    url_all_estados.append(url_base.format(estado))\n",
    "\n",
    "# Imprimir la variable url_all_estados\n",
    "print(len(url_all_estados))\n"
   ]
  },
  {
   "cell_type": "code",
   "execution_count": 26,
   "metadata": {},
   "outputs": [],
   "source": [
    "url_georgia = \"https://www.visitingangels.com/senior-home-care-georgia-ga\""
   ]
  },
  {
   "cell_type": "code",
   "execution_count": 27,
   "metadata": {},
   "outputs": [],
   "source": [
    "r = requests.get(url_georgia)\n",
    "r.status_code\n",
    "soup = BeautifulSoup(r.content,'html.parser')"
   ]
  },
  {
   "cell_type": "code",
   "execution_count": 28,
   "metadata": {},
   "outputs": [],
   "source": [
    "georgia_name =soup.find_all(\"div\",class_=\"franInfo\")\n",
    "georgia_name = [i.text for i in georgia_name]"
   ]
  },
  {
   "cell_type": "code",
   "execution_count": 29,
   "metadata": {},
   "outputs": [
    {
     "data": {
      "text/plain": [
       "['\\n              Visiting Angels Living Assistance Services of Acworth\\n              Elizabeth Altimari\\n              3950 Cobb Parkway  #704 \\n              Acworth GA 30101\\n\\n                We offer senior care in  Kennesaw, Acworth, Emerson, Cartersville and the Surrounding Areas\\nContact office\\n',\n",
       " '\\n              Visiting Angels Living Assistance Services of Alpharetta\\n              Gary Stiefel\\n              11775 Northfall Ln #207 \\n              Alpharetta GA 30009\\n\\n                We offer senior care in  Alpharetta, Milton, Woodstock, Canton and the Surrounding Communities\\nContact office\\n',\n",
       " '\\n              Visiting Angels Living Assistance Services of Athens\\n               Jeff Ginn\\n              3700 Atlanta Hwy  #40 \\n              Athens GA 30606\\n\\n                We offer senior care in  the Athens Region including Barrow, Clarke, Oconee and Walton Counties\\nContact office\\n',\n",
       " '\\n              Visiting Angels Living Assistance Services of Atlanta\\n              Marcie Campbell\\n              309 E Paces Ferry Rd  NE  #400 \\n              Atlanta GA 30305\\n\\n                We offer senior care in  Atlanta, Buckhead, Decatur, Vinings, GA and the Surrounding Communities\\nContact office\\n',\n",
       " \"\\n              Visiting Angels Living Assistance Services of Atlanta\\n              Patricia Williams Goodgame\\n              1100 Peachtree St NE #200 \\n              Atlanta GA 30309\\n\\n                We offer senior care in  Metropolitan Atlanta, GA and it's Surrounding Areas\\nContact office\\n\",\n",
       " '\\n              Visiting Angels Living Assistance Services of Augusta\\n              Scott McIver & Beth Bandi\\n              119 Davis Road Suite #6B\\n              Augusta GA 30907\\n\\n                We offer senior care in  Augusta, Evans, Martinez, GA, and the Surrounding Area\\nContact office\\n',\n",
       " '\\n              Visiting Angels Living Assistance Services of Brunswick\\n              Catherine Ascher\\n              8 St Andrews Ct \\n              Brunswick GA 31520\\n\\n                We offer senior care in  Brunswick, the Golden Isles and Southeast Georgia\\nContact office\\n',\n",
       " '\\n              Visiting Angels Living Assistance Services of Cleveland\\n              Kevin & Susie Murray\\n              24 W Jarrard St \\n              Cleveland GA 30528\\n\\n                We offer senior care in  North Hall, East Lumpkin, White, Habersham, Stephens, and Rabun Counties\\nContact office\\n',\n",
       " '\\n              Visiting Angels Living Assistance Services of Columbus\\n              Matt Johnson \\n              1501  13th St #G \\n              Columbus GA 31901\\n\\n                We offer senior care in  Columbus, GA and the Surrounding Areas\\nContact office\\n',\n",
       " '\\n              Visiting Angels Living Assistance Services of Dallas\\n              Teresa Janiga\\n              110 Evans Mill Dr #801\\n              Dallas GA 30157\\n\\n                We offer senior care in  Marietta, Austell, Powder Springs, Dallas, GA and Surrounding Areas\\nContact office\\n',\n",
       " '\\n              Visiting Angels Living Assistance Services of Dawsonville\\n              Susan & Jim Sanfilippo\\n              135 Prominence Ct #120\\n              Dawsonville GA 30534\\n\\n                We offer senior care in  Gainesville and Communities in Hall, Forsyth, Dawson & Lumpkin Counties, GA\\nContact office\\n',\n",
       " '\\n              Visiting Angels Living Assistance Services of Douglasville\\n              Teresa Janiga\\n              3400 Chapel Hill Rd   #801 \\n              Douglasville GA 30135\\n\\n                We offer senior care in  Douglasville, Lithia Springs, Smyrna, Mableton and Surrounding Areas\\nContact office\\n',\n",
       " '\\n              Visiting Angels Living Assistance Services of Ellijay\\n              Camille Blott\\n              89 Hospital Circle  #3 \\n              Ellijay GA 39540\\n\\n                We offer senior care in  Blue Ridge, Ellijay, Blairsville, Hiawassee, Chatsworth, Morganton, GA & Surrounding Areas\\nContact office\\n',\n",
       " '\\n              Visiting Angels Living Assistance Services of Fayetteville\\n              David McIver\\n              110 Habersham Dr #132\\n              Fayetteville GA 30214\\n\\n                We offer senior care in  Fayetteville, Newnan, McDonough, Stockbridge, Peachtree City, and Communities in Fayette, Coweta, Henry, and Clayton Counties, GA\\nContact office\\n',\n",
       " '\\n              Visiting Angels Living Assistance Services of Griffin\\n              Gerald Milner\\n              229 E College St  #D \\n              Griffin GA 30224\\n\\n                We offer senior care in  the Communities in Butts, Spalding, Pike, Meriwether Counties\\nContact office\\n',\n",
       " '\\n              Visiting Angels Living Assistance Services of Hoschton\\n              Thomas Price & Michele Price\\n              165 Towne Center Pkwy \\n              Hoschton GA 30548\\n\\n                We offer senior care in  Oakwood, Hoschton, Winder, Jefferson, Commerce, Gainesville & the Surrounding Area\\nContact office\\n',\n",
       " '\\n              Visiting Angels Living Assistance Services of Lithonia\\n              Liliane Monthe\\n              7495 Covington Hwy \\n              Lithonia GA 30058\\n\\n                We offer senior care in  Lithonia, Snellville, Decatur, and Stone Mountain Areas\\nContact office\\n',\n",
       " '\\n              Visiting Angels Living Assistance Services of Marietta\\n              Teresa Janiga\\n              2470 Windy Hill Rd SE #300 \\n              Marietta GA 30067\\n\\n                We offer senior care in  Marietta and Smyrna, GA\\nContact office\\n',\n",
       " '\\n              Visiting Angels Living Assistance Services of Roswell\\n              Teresa Janiga & Scott McIver\\n              599 West Crossville Rd  \\n              Roswell GA 30075\\n\\n                We offer senior care in  Roswell and the Surrounding Areas\\nContact office\\n',\n",
       " '\\n              Visiting Angels Living Assistance Services of Savannah\\n              Kevin & Suzanne Hertzwig\\n              6205 Abercorn St #101\\n              Savannah GA 31405\\n\\n                We offer senior care in  Savannah, Richmond Hill, and Effingham County Georgia\\nContact office\\n',\n",
       " '\\n              Visiting Angels Living Assistance Services of Tifton\\n              David Milby & Bill Milby\\n              311 12th St West  #3 \\n              Tifton GA 31794\\n\\n                We offer senior care in  Tifton and the Surrounding Areas \\nContact office\\n',\n",
       " '\\n              Visiting Angels Living Assistance Services of Tucker\\n              Carolyn Easter & Susan Cooper\\n              4500 Hugh Howell Rd  #530 \\n              Tucker GA 30084\\n\\n                We offer senior care in  Lilburn, Stone Mountain, Lawrenceville, Tucker, GA, and the Surrounding Area\\nContact office\\n',\n",
       " '\\n              Visiting Angels Living Assistance Services of Warner Robins\\n              David Milby & Bill Milby\\n              335 Margie Dr \\n              Warner Robins GA 31088\\n\\n                We offer senior care in  Central GA, Greater Macon, Warner Robins, Perry, GA and the Surrounding Areas\\nContact office\\n']"
      ]
     },
     "execution_count": 29,
     "metadata": {},
     "output_type": "execute_result"
    }
   ],
   "source": [
    "georgia_name"
   ]
  },
  {
   "cell_type": "code",
   "execution_count": 31,
   "metadata": {},
   "outputs": [
    {
     "data": {
      "text/html": [
       "<div>\n",
       "<style scoped>\n",
       "    .dataframe tbody tr th:only-of-type {\n",
       "        vertical-align: middle;\n",
       "    }\n",
       "\n",
       "    .dataframe tbody tr th {\n",
       "        vertical-align: top;\n",
       "    }\n",
       "\n",
       "    .dataframe thead th {\n",
       "        text-align: right;\n",
       "    }\n",
       "</style>\n",
       "<table border=\"1\" class=\"dataframe\">\n",
       "  <thead>\n",
       "    <tr style=\"text-align: right;\">\n",
       "      <th></th>\n",
       "      <th>Title</th>\n",
       "      <th>Contact Person</th>\n",
       "      <th>Address</th>\n",
       "      <th>City</th>\n",
       "      <th>Services and Contact</th>\n",
       "    </tr>\n",
       "  </thead>\n",
       "  <tbody>\n",
       "    <tr>\n",
       "      <th>0</th>\n",
       "      <td>Acworth</td>\n",
       "      <td>Elizabeth Altimari</td>\n",
       "      <td>3950 Cobb Parkway  #704</td>\n",
       "      <td>Acworth GA 30101</td>\n",
       "      <td>We offer senior care in  Kennesaw, Acworth, Em...</td>\n",
       "    </tr>\n",
       "    <tr>\n",
       "      <th>1</th>\n",
       "      <td>Alpharetta</td>\n",
       "      <td>Gary Stiefel</td>\n",
       "      <td>11775 Northfall Ln #207</td>\n",
       "      <td>Alpharetta GA 30009</td>\n",
       "      <td>We offer senior care in  Alpharetta, Milton, W...</td>\n",
       "    </tr>\n",
       "    <tr>\n",
       "      <th>2</th>\n",
       "      <td>Athens</td>\n",
       "      <td>Jeff Ginn</td>\n",
       "      <td>3700 Atlanta Hwy  #40</td>\n",
       "      <td>Athens GA 30606</td>\n",
       "      <td>We offer senior care in  the Athens Region inc...</td>\n",
       "    </tr>\n",
       "    <tr>\n",
       "      <th>3</th>\n",
       "      <td>Atlanta</td>\n",
       "      <td>Marcie Campbell</td>\n",
       "      <td>309 E Paces Ferry Rd  NE  #400</td>\n",
       "      <td>Atlanta GA 30305</td>\n",
       "      <td>We offer senior care in  Atlanta, Buckhead, De...</td>\n",
       "    </tr>\n",
       "    <tr>\n",
       "      <th>4</th>\n",
       "      <td>Atlanta</td>\n",
       "      <td>Patricia Williams Goodgame</td>\n",
       "      <td>1100 Peachtree St NE #200</td>\n",
       "      <td>Atlanta GA 30309</td>\n",
       "      <td>We offer senior care in  Metropolitan Atlanta,...</td>\n",
       "    </tr>\n",
       "    <tr>\n",
       "      <th>5</th>\n",
       "      <td>Augusta</td>\n",
       "      <td>Scott McIver &amp; Beth Bandi</td>\n",
       "      <td>119 Davis Road Suite #6B</td>\n",
       "      <td>Augusta GA 30907</td>\n",
       "      <td>We offer senior care in  Augusta, Evans, Marti...</td>\n",
       "    </tr>\n",
       "    <tr>\n",
       "      <th>6</th>\n",
       "      <td>Brunswick</td>\n",
       "      <td>Catherine Ascher</td>\n",
       "      <td>8 St Andrews Ct</td>\n",
       "      <td>Brunswick GA 31520</td>\n",
       "      <td>We offer senior care in  Brunswick, the Golden...</td>\n",
       "    </tr>\n",
       "    <tr>\n",
       "      <th>7</th>\n",
       "      <td>Cleveland</td>\n",
       "      <td>Kevin &amp; Susie Murray</td>\n",
       "      <td>24 W Jarrard St</td>\n",
       "      <td>Cleveland GA 30528</td>\n",
       "      <td>We offer senior care in  North Hall, East Lump...</td>\n",
       "    </tr>\n",
       "    <tr>\n",
       "      <th>8</th>\n",
       "      <td>Columbus</td>\n",
       "      <td>Matt Johnson</td>\n",
       "      <td>1501  13th St #G</td>\n",
       "      <td>Columbus GA 31901</td>\n",
       "      <td>We offer senior care in  Columbus, GA and the ...</td>\n",
       "    </tr>\n",
       "    <tr>\n",
       "      <th>9</th>\n",
       "      <td>Dallas</td>\n",
       "      <td>Teresa Janiga</td>\n",
       "      <td>110 Evans Mill Dr #801</td>\n",
       "      <td>Dallas GA 30157</td>\n",
       "      <td>We offer senior care in  Marietta, Austell, Po...</td>\n",
       "    </tr>\n",
       "    <tr>\n",
       "      <th>10</th>\n",
       "      <td>Dawsonville</td>\n",
       "      <td>Susan &amp; Jim Sanfilippo</td>\n",
       "      <td>135 Prominence Ct #120</td>\n",
       "      <td>Dawsonville GA 30534</td>\n",
       "      <td>We offer senior care in  Gainesville and Commu...</td>\n",
       "    </tr>\n",
       "    <tr>\n",
       "      <th>11</th>\n",
       "      <td>Douglasville</td>\n",
       "      <td>Teresa Janiga</td>\n",
       "      <td>3400 Chapel Hill Rd   #801</td>\n",
       "      <td>Douglasville GA 30135</td>\n",
       "      <td>We offer senior care in  Douglasville, Lithia ...</td>\n",
       "    </tr>\n",
       "    <tr>\n",
       "      <th>12</th>\n",
       "      <td>Ellijay</td>\n",
       "      <td>Camille Blott</td>\n",
       "      <td>89 Hospital Circle  #3</td>\n",
       "      <td>Ellijay GA 39540</td>\n",
       "      <td>We offer senior care in  Blue Ridge, Ellijay, ...</td>\n",
       "    </tr>\n",
       "    <tr>\n",
       "      <th>13</th>\n",
       "      <td>Fayetteville</td>\n",
       "      <td>David McIver</td>\n",
       "      <td>110 Habersham Dr #132</td>\n",
       "      <td>Fayetteville GA 30214</td>\n",
       "      <td>We offer senior care in  Fayetteville, Newnan,...</td>\n",
       "    </tr>\n",
       "    <tr>\n",
       "      <th>14</th>\n",
       "      <td>Griffin</td>\n",
       "      <td>Gerald Milner</td>\n",
       "      <td>229 E College St  #D</td>\n",
       "      <td>Griffin GA 30224</td>\n",
       "      <td>We offer senior care in  the Communities in Bu...</td>\n",
       "    </tr>\n",
       "    <tr>\n",
       "      <th>15</th>\n",
       "      <td>Hoschton</td>\n",
       "      <td>Thomas Price &amp; Michele Price</td>\n",
       "      <td>165 Towne Center Pkwy</td>\n",
       "      <td>Hoschton GA 30548</td>\n",
       "      <td>We offer senior care in  Oakwood, Hoschton, Wi...</td>\n",
       "    </tr>\n",
       "    <tr>\n",
       "      <th>16</th>\n",
       "      <td>Lithonia</td>\n",
       "      <td>Liliane Monthe</td>\n",
       "      <td>7495 Covington Hwy</td>\n",
       "      <td>Lithonia GA 30058</td>\n",
       "      <td>We offer senior care in  Lithonia, Snellville,...</td>\n",
       "    </tr>\n",
       "    <tr>\n",
       "      <th>17</th>\n",
       "      <td>Marietta</td>\n",
       "      <td>Teresa Janiga</td>\n",
       "      <td>2470 Windy Hill Rd SE #300</td>\n",
       "      <td>Marietta GA 30067</td>\n",
       "      <td>We offer senior care in  Marietta and Smyrna, GA</td>\n",
       "    </tr>\n",
       "    <tr>\n",
       "      <th>18</th>\n",
       "      <td>Roswell</td>\n",
       "      <td>Teresa Janiga &amp; Scott McIver</td>\n",
       "      <td>599 West Crossville Rd</td>\n",
       "      <td>Roswell GA 30075</td>\n",
       "      <td>We offer senior care in  Roswell and the Surro...</td>\n",
       "    </tr>\n",
       "    <tr>\n",
       "      <th>19</th>\n",
       "      <td>Savannah</td>\n",
       "      <td>Kevin &amp; Suzanne Hertzwig</td>\n",
       "      <td>6205 Abercorn St #101</td>\n",
       "      <td>Savannah GA 31405</td>\n",
       "      <td>We offer senior care in  Savannah, Richmond Hi...</td>\n",
       "    </tr>\n",
       "    <tr>\n",
       "      <th>20</th>\n",
       "      <td>Tifton</td>\n",
       "      <td>David Milby &amp; Bill Milby</td>\n",
       "      <td>311 12th St West  #3</td>\n",
       "      <td>Tifton GA 31794</td>\n",
       "      <td>We offer senior care in  Tifton and the Surrou...</td>\n",
       "    </tr>\n",
       "    <tr>\n",
       "      <th>21</th>\n",
       "      <td>Tucker</td>\n",
       "      <td>Carolyn Easter &amp; Susan Cooper</td>\n",
       "      <td>4500 Hugh Howell Rd  #530</td>\n",
       "      <td>Tucker GA 30084</td>\n",
       "      <td>We offer senior care in  Lilburn, Stone Mounta...</td>\n",
       "    </tr>\n",
       "    <tr>\n",
       "      <th>22</th>\n",
       "      <td>Warner Robins</td>\n",
       "      <td>David Milby &amp; Bill Milby</td>\n",
       "      <td>335 Margie Dr</td>\n",
       "      <td>Warner Robins GA 31088</td>\n",
       "      <td>We offer senior care in  Central GA, Greater M...</td>\n",
       "    </tr>\n",
       "  </tbody>\n",
       "</table>\n",
       "</div>"
      ],
      "text/plain": [
       "            Title                 Contact Person  \\\n",
       "0         Acworth             Elizabeth Altimari   \n",
       "1      Alpharetta                   Gary Stiefel   \n",
       "2          Athens                      Jeff Ginn   \n",
       "3         Atlanta                Marcie Campbell   \n",
       "4         Atlanta     Patricia Williams Goodgame   \n",
       "5         Augusta      Scott McIver & Beth Bandi   \n",
       "6       Brunswick               Catherine Ascher   \n",
       "7       Cleveland           Kevin & Susie Murray   \n",
       "8        Columbus                   Matt Johnson   \n",
       "9          Dallas                  Teresa Janiga   \n",
       "10    Dawsonville         Susan & Jim Sanfilippo   \n",
       "11   Douglasville                  Teresa Janiga   \n",
       "12        Ellijay                  Camille Blott   \n",
       "13   Fayetteville                   David McIver   \n",
       "14        Griffin                  Gerald Milner   \n",
       "15       Hoschton   Thomas Price & Michele Price   \n",
       "16       Lithonia                 Liliane Monthe   \n",
       "17       Marietta                  Teresa Janiga   \n",
       "18        Roswell   Teresa Janiga & Scott McIver   \n",
       "19       Savannah       Kevin & Suzanne Hertzwig   \n",
       "20         Tifton       David Milby & Bill Milby   \n",
       "21         Tucker  Carolyn Easter & Susan Cooper   \n",
       "22  Warner Robins       David Milby & Bill Milby   \n",
       "\n",
       "                           Address                    City  \\\n",
       "0          3950 Cobb Parkway  #704        Acworth GA 30101   \n",
       "1          11775 Northfall Ln #207     Alpharetta GA 30009   \n",
       "2            3700 Atlanta Hwy  #40         Athens GA 30606   \n",
       "3   309 E Paces Ferry Rd  NE  #400        Atlanta GA 30305   \n",
       "4        1100 Peachtree St NE #200        Atlanta GA 30309   \n",
       "5         119 Davis Road Suite #6B        Augusta GA 30907   \n",
       "6                  8 St Andrews Ct      Brunswick GA 31520   \n",
       "7                  24 W Jarrard St      Cleveland GA 30528   \n",
       "8                 1501  13th St #G       Columbus GA 31901   \n",
       "9           110 Evans Mill Dr #801         Dallas GA 30157   \n",
       "10          135 Prominence Ct #120    Dawsonville GA 30534   \n",
       "11      3400 Chapel Hill Rd   #801   Douglasville GA 30135   \n",
       "12          89 Hospital Circle  #3        Ellijay GA 39540   \n",
       "13           110 Habersham Dr #132   Fayetteville GA 30214   \n",
       "14            229 E College St  #D        Griffin GA 30224   \n",
       "15           165 Towne Center Pkwy       Hoschton GA 30548   \n",
       "16              7495 Covington Hwy       Lithonia GA 30058   \n",
       "17      2470 Windy Hill Rd SE #300       Marietta GA 30067   \n",
       "18          599 West Crossville Rd        Roswell GA 30075   \n",
       "19           6205 Abercorn St #101       Savannah GA 31405   \n",
       "20            311 12th St West  #3         Tifton GA 31794   \n",
       "21       4500 Hugh Howell Rd  #530         Tucker GA 30084   \n",
       "22                   335 Margie Dr  Warner Robins GA 31088   \n",
       "\n",
       "                                 Services and Contact  \n",
       "0   We offer senior care in  Kennesaw, Acworth, Em...  \n",
       "1   We offer senior care in  Alpharetta, Milton, W...  \n",
       "2   We offer senior care in  the Athens Region inc...  \n",
       "3   We offer senior care in  Atlanta, Buckhead, De...  \n",
       "4   We offer senior care in  Metropolitan Atlanta,...  \n",
       "5   We offer senior care in  Augusta, Evans, Marti...  \n",
       "6   We offer senior care in  Brunswick, the Golden...  \n",
       "7   We offer senior care in  North Hall, East Lump...  \n",
       "8   We offer senior care in  Columbus, GA and the ...  \n",
       "9   We offer senior care in  Marietta, Austell, Po...  \n",
       "10  We offer senior care in  Gainesville and Commu...  \n",
       "11  We offer senior care in  Douglasville, Lithia ...  \n",
       "12  We offer senior care in  Blue Ridge, Ellijay, ...  \n",
       "13  We offer senior care in  Fayetteville, Newnan,...  \n",
       "14  We offer senior care in  the Communities in Bu...  \n",
       "15  We offer senior care in  Oakwood, Hoschton, Wi...  \n",
       "16  We offer senior care in  Lithonia, Snellville,...  \n",
       "17   We offer senior care in  Marietta and Smyrna, GA  \n",
       "18  We offer senior care in  Roswell and the Surro...  \n",
       "19  We offer senior care in  Savannah, Richmond Hi...  \n",
       "20  We offer senior care in  Tifton and the Surrou...  \n",
       "21  We offer senior care in  Lilburn, Stone Mounta...  \n",
       "22  We offer senior care in  Central GA, Greater M...  "
      ]
     },
     "execution_count": 31,
     "metadata": {},
     "output_type": "execute_result"
    }
   ],
   "source": [
    "import re\n",
    "\n",
    "# Lista original\n",
    "\n",
    "new_list = []\n",
    "for entry in georgia_name:\n",
    "    # Utilizar expresiones regulares para extraer la información necesaria\n",
    "    match = re.search(r'Visiting Angels Living Assistance Services of (.+?)\\n(.+?)\\n(.+?)\\n(.+?)\\n\\n(.+?)\\nContact office', entry)\n",
    "    if match:\n",
    "        title, contact_person, address, city, services_contact = match.groups()\n",
    "        new_list.append([title.strip(), contact_person.strip(), address.strip(), city.strip(), services_contact.strip()])\n",
    "\n",
    "# Crear un DataFrame de pandas con la nueva lista\n",
    "df = pd.DataFrame(new_list, columns=['Title', 'Contact Person', 'Address', 'City', 'Services and Contact'])\n",
    "\n",
    "# Mostrar el DataFrame\n",
    "df\n"
   ]
  },
  {
   "cell_type": "code",
   "execution_count": 32,
   "metadata": {},
   "outputs": [],
   "source": [
    "df.to_csv('company-EEuu.xlsx',index=True)"
   ]
  },
  {
   "cell_type": "code",
   "execution_count": null,
   "metadata": {},
   "outputs": [],
   "source": [
    "#https://www.visitingangels.com/senior-home-care-georgia-ga"
   ]
  },
  {
   "cell_type": "code",
   "execution_count": 33,
   "metadata": {},
   "outputs": [
    {
     "name": "stdout",
     "output_type": "stream",
     "text": [
      "51\n"
     ]
    }
   ],
   "source": [
    "print(len(stados))"
   ]
  },
  {
   "cell_type": "code",
   "execution_count": null,
   "metadata": {},
   "outputs": [],
   "source": [
    "# <a href=\"/senior-homecare-alpharetta-georgia-30009_1181\">Contact office</a>"
   ]
  },
  {
   "cell_type": "code",
   "execution_count": null,
   "metadata": {},
   "outputs": [
    {
     "data": {
      "text/plain": [
       "['/senior-homecare-alpharetta-georgia-30009_1181',\n",
       " '/senior-homecare-east-atlanta-georgia-30305_314',\n",
       " '/senior-homecare-augusta-georgia-30907_833',\n",
       " '/senior-homecare-cleveland-georgia-30528_773',\n",
       " '/senior-homecare-dallas-georgia-30157_151',\n",
       " '/senior-homecare-douglasville-georgia-30135_709',\n",
       " '/senior-homecare-fayetteville-georgia-30214_358',\n",
       " '/senior-homecare-hoschton-georgia-30548_995',\n",
       " '/senior-homecare-marietta-georgia-30067_1024',\n",
       " '/senior-homecare-savannah-georgia-31405_643',\n",
       " '/senior-homecare-tucker-georgia-30084_762']"
      ]
     },
     "execution_count": 52,
     "metadata": {},
     "output_type": "execute_result"
    }
   ],
   "source": [
    "dom = etree.HTML(str(soup))\n",
    "url_georgia2 = dom.xpath('//main[@class=\"col-sm-12\"]/div[@class=\"row clear_margin\"]/div[@class=\"col-xs-12 col-sm-6\"]/div[@class=\"franInfo\"]/a')\n",
    "url_georgia2 = [i.get('href')for i in url_georgia2]\n",
    "url_georgia2   \n"
   ]
  },
  {
   "cell_type": "code",
   "execution_count": null,
   "metadata": {},
   "outputs": [
    {
     "ename": "SyntaxError",
     "evalue": "invalid syntax (2010273803.py, line 1)",
     "output_type": "error",
     "traceback": [
      "\u001b[1;36m  Cell \u001b[1;32mIn[20], line 1\u001b[1;36m\u001b[0m\n\u001b[1;33m    a href=\"/senior-homecare-tucker-georgia-30084_762\"\u001b[0m\n\u001b[1;37m      ^\u001b[0m\n\u001b[1;31mSyntaxError\u001b[0m\u001b[1;31m:\u001b[0m invalid syntax\n"
     ]
    }
   ],
   "source": [
    "# a href=\"/senior-homecare-tucker-georgia-30084_762\""
   ]
  },
  {
   "cell_type": "code",
   "execution_count": null,
   "metadata": {},
   "outputs": [],
   "source": [
    "rodilleras_url = soup.find_all(\"a\",class_=\"ui-search-item__group__element ui-search-link\" )\n",
    "rodilleras_url = [i.get('href')for i in rodilleras_url]\n",
    "\n",
    "# cleaned_product_precios = extract_data(rodilleras_precios)\n",
    "# cleaned_product_titles = extract_data(rodilleras_titles)\n",
    "\n",
    "# print(cleaned_product_titles)\n",
    "lista_titulos = []\n",
    "lista_precios = []\n",
    "lista_urls=[]\n",
    "\n",
    "siguiente = \"https://listado.mercadolibre.com.ar/rodilleras-deportivas_Desde_1_NoIndex_True\"\n",
    "while True:\n",
    "    r = requests.get(siguiente)\n",
    "    if r.status_code == 200:\n",
    "        soup = BeautifulSoup(r.content, 'html.parser')\n",
    "\n",
    "        rodilleras_titles = soup.find_all(\"h2\",class_=\"ui-search-item__title\")\n",
    "        rodilleras_titles = [i.text for i in rodilleras_titles]\n",
    "        lista_titulos.extend(rodilleras_titles)\n",
    "        \n",
    "        dom = etree.HTML(str(soup))\n",
    "        rodilleras_urls = dom.xpath(\"//a[@class='ui-search-item__group__element ui-search-link']/@href\")    \n",
    "        lista_urls.extend(rodilleras_urls)\n",
    "        \n",
    "        rodilleras_precios = soup.find_all(\"span\",class_=\"andes-money-amount ui-search-price__part ui-search-price__part--medium andes-money-amount--cents-superscript\")\n",
    "        rodilleras_precios = [i.text for i in rodilleras_precios] \n",
    "        lista_precios.extend(rodilleras_precios)\n",
    "\n",
    "        ini = soup.find(\"li\",class_=\"andes-pagination__button andes-pagination__button--current\")\n",
    "        ini= int(ini.text)\n",
    "\n",
    "        can = soup.find(\"li\",class_=\"andes-pagination__page-count\")\n",
    "\n",
    "        can = can.text\n",
    "        can = int(can.replace(\"de \",\"\"))\n",
    "\n",
    "    else:\n",
    "        break\n",
    "    print(ini,can)    \n",
    "    if ini == can:\n",
    "        break\n",
    "\n",
    "    dom = etree.HTML(str(soup))\n",
    "    siguiente = dom.xpath(\"//li[@class='andes-pagination__button andes-pagination__button--next']/a\")[0].get('href')   \n"
   ]
  }
 ],
 "metadata": {
  "kernelspec": {
   "display_name": "Python 3",
   "language": "python",
   "name": "python3"
  },
  "language_info": {
   "codemirror_mode": {
    "name": "ipython",
    "version": 3
   },
   "file_extension": ".py",
   "mimetype": "text/x-python",
   "name": "python",
   "nbconvert_exporter": "python",
   "pygments_lexer": "ipython3",
   "version": "3.11.5"
  }
 },
 "nbformat": 4,
 "nbformat_minor": 2
}
