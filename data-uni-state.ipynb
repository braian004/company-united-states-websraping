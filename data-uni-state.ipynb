{
 "cells": [
  {
   "cell_type": "code",
   "execution_count": 63,
   "metadata": {},
   "outputs": [],
   "source": [
    "import pandas as pd\n",
    "import requests\n",
    "from bs4 import BeautifulSoup \n",
    "from lxml import etree"
   ]
  },
  {
   "cell_type": "code",
   "execution_count": 64,
   "metadata": {},
   "outputs": [],
   "source": [
    "url = 'https://www.visitingangels.com/office-locator'"
   ]
  },
  {
   "cell_type": "code",
   "execution_count": 65,
   "metadata": {},
   "outputs": [],
   "source": [
    "r = requests.get(url)"
   ]
  },
  {
   "cell_type": "code",
   "execution_count": 66,
   "metadata": {},
   "outputs": [
    {
     "data": {
      "text/plain": [
       "200"
      ]
     },
     "execution_count": 66,
     "metadata": {},
     "output_type": "execute_result"
    }
   ],
   "source": [
    "r.status_code"
   ]
  },
  {
   "cell_type": "code",
   "execution_count": 67,
   "metadata": {},
   "outputs": [],
   "source": [
    "soup = BeautifulSoup(r.content,'html.parser')"
   ]
  },
  {
   "cell_type": "code",
   "execution_count": 68,
   "metadata": {},
   "outputs": [],
   "source": [
    "stados = soup.find_all(\"select\" ,class_=\"ddl state-dropdown\")\n"
   ]
  },
  {
   "cell_type": "code",
   "execution_count": 69,
   "metadata": {},
   "outputs": [],
   "source": [
    "stados = [i.text for i in stados]"
   ]
  },
  {
   "cell_type": "code",
   "execution_count": 70,
   "metadata": {},
   "outputs": [
    {
     "data": {
      "text/plain": [
       "['Alabama',\n",
       " 'Alaska',\n",
       " 'Arizona',\n",
       " 'Arkansas',\n",
       " 'California',\n",
       " 'Colorado',\n",
       " 'Connecticut',\n",
       " 'Delaware',\n",
       " 'District of Columbia',\n",
       " 'Florida',\n",
       " 'Georgia',\n",
       " 'Hawaii',\n",
       " 'Idaho',\n",
       " 'Illinois',\n",
       " 'Indiana',\n",
       " 'Iowa',\n",
       " 'Kansas',\n",
       " 'Kentucky',\n",
       " 'Louisiana',\n",
       " 'Maine',\n",
       " 'Maryland',\n",
       " 'Massachusetts',\n",
       " 'Michigan',\n",
       " 'Minnesota',\n",
       " 'Mississippi',\n",
       " 'Missouri',\n",
       " 'Montana',\n",
       " 'Nebraska',\n",
       " 'Nevada',\n",
       " 'New Hampshire',\n",
       " 'New Jersey',\n",
       " 'New Mexico',\n",
       " 'New York',\n",
       " 'North Carolina',\n",
       " 'North Dakota',\n",
       " 'Ohio',\n",
       " 'Oklahoma',\n",
       " 'Oregon',\n",
       " 'Pennsylvania',\n",
       " 'Rhode Island',\n",
       " 'South Carolina',\n",
       " 'South Dakota',\n",
       " 'Tennessee',\n",
       " 'Texas',\n",
       " 'Utah',\n",
       " 'Vermont',\n",
       " 'Virginia',\n",
       " 'Washington',\n",
       " 'West Virginia',\n",
       " 'Wisconsin',\n",
       " 'Wyoming']"
      ]
     },
     "execution_count": 70,
     "metadata": {},
     "output_type": "execute_result"
    }
   ],
   "source": [
    "stados = [i.strip() for i in stados[0].split('\\n') if i.strip()]# eliminar \\n de una lista \n",
    "stados.pop(0)#eliminar first item\n",
    "stados"
   ]
  },
  {
   "cell_type": "code",
   "execution_count": 71,
   "metadata": {},
   "outputs": [
    {
     "name": "stdout",
     "output_type": "stream",
     "text": [
      "51\n"
     ]
    }
   ],
   "source": [
    "print(len(stados))"
   ]
  },
  {
   "cell_type": "code",
   "execution_count": 72,
   "metadata": {},
   "outputs": [],
   "source": [
    "url_georgia ='https://www.visitingangels.com/senior-home-care-georgia-ga'"
   ]
  },
  {
   "cell_type": "code",
   "execution_count": 73,
   "metadata": {},
   "outputs": [],
   "source": [
    "r = requests.get(url_georgia)\n",
    "r.status_code\n",
    "soup = BeautifulSoup(r.content,'html.parser')"
   ]
  },
  {
   "cell_type": "code",
   "execution_count": 85,
   "metadata": {},
   "outputs": [
    {
     "data": {
      "text/plain": [
       "['\\n              Visiting Angels Living Assistance Services of Acworth\\n              ',\n",
       " '\\n              Visiting Angels Living Assistance Services of Alpharetta\\n              ',\n",
       " '\\n              Visiting Angels Living Assistance Services of Athens\\n              ',\n",
       " '\\n              Visiting Angels Living Assistance Services of Atlanta\\n              ',\n",
       " '\\n              Visiting Angels Living Assistance Services of Atlanta\\n              ',\n",
       " '\\n              Visiting Angels Living Assistance Services of Augusta\\n              ',\n",
       " '\\n              Visiting Angels Living Assistance Services of Brunswick\\n              ',\n",
       " '\\n              Visiting Angels Living Assistance Services of Cleveland\\n              ',\n",
       " '\\n              Visiting Angels Living Assistance Services of Columbus\\n              ',\n",
       " '\\n              Visiting Angels Living Assistance Services of Dallas\\n              ',\n",
       " '\\n              Visiting Angels Living Assistance Services of Dawsonville\\n              ',\n",
       " '\\n              Visiting Angels Living Assistance Services of Douglasville\\n              ',\n",
       " '\\n              Visiting Angels Living Assistance Services of Ellijay\\n              ',\n",
       " '\\n              Visiting Angels Living Assistance Services of Fayetteville\\n              ',\n",
       " '\\n              Visiting Angels Living Assistance Services of Griffin\\n              ',\n",
       " '\\n              Visiting Angels Living Assistance Services of Hoschton\\n              ',\n",
       " '\\n              Visiting Angels Living Assistance Services of Lithonia\\n              ',\n",
       " '\\n              Visiting Angels Living Assistance Services of Marietta\\n              ',\n",
       " '\\n              Visiting Angels Living Assistance Services of Roswell\\n              ',\n",
       " '\\n              Visiting Angels Living Assistance Services of Savannah\\n              ',\n",
       " '\\n              Visiting Angels Living Assistance Services of Tifton\\n              ',\n",
       " '\\n              Visiting Angels Living Assistance Services of Tucker\\n              ',\n",
       " '\\n              Visiting Angels Living Assistance Services of Warner Robins\\n              ']"
      ]
     },
     "execution_count": 85,
     "metadata": {},
     "output_type": "execute_result"
    }
   ],
   "source": [
    "dom = etree.HTML(str(soup))\n",
    "precios = dom.xpath('//div[@class=\"franInfo\"]')\n",
    "precios = [i.text for i in precios]\n",
    "precios\n",
    "# <span class=\"andes-money-amount__fraction\" aria-hidden=\"true\">13.650</span>"
   ]
  },
  {
   "cell_type": "code",
   "execution_count": 104,
   "metadata": {},
   "outputs": [],
   "source": [
    "georgia_name =soup.find_all(\"div\",class_=\"franInfo\")\n",
    "georgia_name = [i.text for i in georgia_name]"
   ]
  },
  {
   "cell_type": "code",
   "execution_count": 98,
   "metadata": {},
   "outputs": [],
   "source": [
    "# georgia_name = [i.text for i in georgia_name]\n",
    "# georgia_name = [i.strip() for i in georgia_name[0].split('\\n') if i.strip()]\n",
    "# georgia_name "
   ]
  },
  {
   "cell_type": "code",
   "execution_count": 130,
   "metadata": {},
   "outputs": [
    {
     "data": {
      "text/plain": [
       "['VisitingAngelsLivingAssistanceServicesofAcworthElizabethAltimari3950CobbParkway#704AcworthGA30101WeofferseniorcareinKennesaw,Acworth,Emerson,CartersvilleandtheSurroundingAreasContactoffice',\n",
       " 'VisitingAngelsLivingAssistanceServicesofAlpharettaGaryStiefel11775NorthfallLn#207AlpharettaGA30009WeofferseniorcareinAlpharetta,Milton,Woodstock,CantonandtheSurroundingCommunitiesContactoffice',\n",
       " 'VisitingAngelsLivingAssistanceServicesofAthensJeffGinn3700AtlantaHwy#40AthensGA30606WeofferseniorcareintheAthensRegionincludingBarrow,Clarke,OconeeandWaltonCountiesContactoffice',\n",
       " 'VisitingAngelsLivingAssistanceServicesofAtlantaMarcieCampbell309EPacesFerryRdNE#400AtlantaGA30305WeofferseniorcareinAtlanta,Buckhead,Decatur,Vinings,GAandtheSurroundingCommunitiesContactoffice',\n",
       " \"VisitingAngelsLivingAssistanceServicesofAtlantaPatriciaWilliamsGoodgame1100PeachtreeStNE#200AtlantaGA30309WeofferseniorcareinMetropolitanAtlanta,GAandit'sSurroundingAreasContactoffice\",\n",
       " 'VisitingAngelsLivingAssistanceServicesofAugustaScottMcIver&BethBandi119DavisRoadSuite#6BAugustaGA30907WeofferseniorcareinAugusta,Evans,Martinez,GA,andtheSurroundingAreaContactoffice',\n",
       " 'VisitingAngelsLivingAssistanceServicesofBrunswickCatherineAscher8StAndrewsCtBrunswickGA31520WeofferseniorcareinBrunswick,theGoldenIslesandSoutheastGeorgiaContactoffice',\n",
       " 'VisitingAngelsLivingAssistanceServicesofClevelandKevin&SusieMurray24WJarrardStClevelandGA30528WeofferseniorcareinNorthHall,EastLumpkin,White,Habersham,Stephens,andRabunCountiesContactoffice',\n",
       " 'VisitingAngelsLivingAssistanceServicesofColumbusMattJohnson150113thSt#GColumbusGA31901WeofferseniorcareinColumbus,GAandtheSurroundingAreasContactoffice',\n",
       " 'VisitingAngelsLivingAssistanceServicesofDallasTeresaJaniga110EvansMillDr#801DallasGA30157WeofferseniorcareinMarietta,Austell,PowderSprings,Dallas,GAandSurroundingAreasContactoffice',\n",
       " 'VisitingAngelsLivingAssistanceServicesofDawsonvilleSusan&JimSanfilippo135ProminenceCt#120DawsonvilleGA30534WeofferseniorcareinGainesvilleandCommunitiesinHall,Forsyth,Dawson&LumpkinCounties,GAContactoffice',\n",
       " 'VisitingAngelsLivingAssistanceServicesofDouglasvilleTeresaJaniga3400ChapelHillRd#801DouglasvilleGA30135WeofferseniorcareinDouglasville,LithiaSprings,Smyrna,MabletonandSurroundingAreasContactoffice',\n",
       " 'VisitingAngelsLivingAssistanceServicesofEllijayCamilleBlott89HospitalCircle#3EllijayGA39540WeofferseniorcareinBlueRidge,Ellijay,Blairsville,Hiawassee,Chatsworth,Morganton,GA&SurroundingAreasContactoffice',\n",
       " 'VisitingAngelsLivingAssistanceServicesofFayettevilleDavidMcIver110HabershamDr#132FayettevilleGA30214WeofferseniorcareinFayetteville,Newnan,McDonough,Stockbridge,PeachtreeCity,andCommunitiesinFayette,Coweta,Henry,andClaytonCounties,GAContactoffice',\n",
       " 'VisitingAngelsLivingAssistanceServicesofGriffinGeraldMilner229ECollegeSt#DGriffinGA30224WeofferseniorcareintheCommunitiesinButts,Spalding,Pike,MeriwetherCountiesContactoffice',\n",
       " 'VisitingAngelsLivingAssistanceServicesofHoschtonThomasPrice&MichelePrice165TowneCenterPkwyHoschtonGA30548WeofferseniorcareinOakwood,Hoschton,Winder,Jefferson,Commerce,Gainesville&theSurroundingAreaContactoffice',\n",
       " 'VisitingAngelsLivingAssistanceServicesofLithoniaLilianeMonthe7495CovingtonHwyLithoniaGA30058WeofferseniorcareinLithonia,Snellville,Decatur,andStoneMountainAreasContactoffice',\n",
       " 'VisitingAngelsLivingAssistanceServicesofMariettaTeresaJaniga2470WindyHillRdSE#300MariettaGA30067WeofferseniorcareinMariettaandSmyrna,GAContactoffice',\n",
       " 'VisitingAngelsLivingAssistanceServicesofRoswellTeresaJaniga&ScottMcIver599WestCrossvilleRdRoswellGA30075WeofferseniorcareinRoswellandtheSurroundingAreasContactoffice',\n",
       " 'VisitingAngelsLivingAssistanceServicesofSavannahKevin&SuzanneHertzwig6205AbercornSt#101SavannahGA31405WeofferseniorcareinSavannah,RichmondHill,andEffinghamCountyGeorgiaContactoffice',\n",
       " 'VisitingAngelsLivingAssistanceServicesofTiftonDavidMilby&BillMilby31112thStWest#3TiftonGA31794WeofferseniorcareinTiftonandtheSurroundingAreasContactoffice',\n",
       " 'VisitingAngelsLivingAssistanceServicesofTuckerCarolynEaster&SusanCooper4500HughHowellRd#530TuckerGA30084WeofferseniorcareinLilburn,StoneMountain,Lawrenceville,Tucker,GA,andtheSurroundingAreaContactoffice',\n",
       " 'VisitingAngelsLivingAssistanceServicesofWarnerRobinsDavidMilby&BillMilby335MargieDrWarnerRobinsGA31088WeofferseniorcareinCentralGA,GreaterMacon,WarnerRobins,Perry,GAandtheSurroundingAreasContactoffice']"
      ]
     },
     "execution_count": 130,
     "metadata": {},
     "output_type": "execute_result"
    }
   ],
   "source": [
    "georgia_name =soup.find_all(\"div\",class_=\"franInfo\")\n",
    "georgia_name = [i.text for i in georgia_name]\n",
    "georgia_name = [i.replace('\\n', '') for i in georgia_name]\n",
    "georgia_name = [i.replace(' ', '') for i in georgia_name]\n",
    "georgia_name\n",
    "# for i in georgia_name:\n",
    "#     print(i)"
   ]
  },
  {
   "cell_type": "code",
   "execution_count": null,
   "metadata": {},
   "outputs": [],
   "source": [
    "df = pd.DataFrame({\"company\":georgia_name,\"location\":georgia_name})"
   ]
  },
  {
   "cell_type": "code",
   "execution_count": null,
   "metadata": {},
   "outputs": [],
   "source": [
    "j\""
   ]
  },
  {
   "cell_type": "code",
   "execution_count": null,
   "metadata": {},
   "outputs": [],
   "source": [
    "#https://www.visitingangels.com/senior-home-care-georgia-ga"
   ]
  }
 ],
 "metadata": {
  "kernelspec": {
   "display_name": "Python 3",
   "language": "python",
   "name": "python3"
  },
  "language_info": {
   "codemirror_mode": {
    "name": "ipython",
    "version": 3
   },
   "file_extension": ".py",
   "mimetype": "text/x-python",
   "name": "python",
   "nbconvert_exporter": "python",
   "pygments_lexer": "ipython3",
   "version": "3.11.5"
  }
 },
 "nbformat": 4,
 "nbformat_minor": 2
}
