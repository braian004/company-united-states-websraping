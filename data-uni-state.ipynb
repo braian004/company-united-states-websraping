{
 "cells": [
  {
   "cell_type": "code",
   "execution_count": 8,
   "metadata": {},
   "outputs": [],
   "source": [
    "import pandas as pd\n",
    "import requests\n",
    "from bs4 import BeautifulSoup \n",
    "from lxml import etree"
   ]
  },
  {
   "cell_type": "code",
   "execution_count": null,
   "metadata": {},
   "outputs": [],
   "source": [
    "url = 'https://www.visitingangels.com/office-locator'"
   ]
  },
  {
   "cell_type": "code",
   "execution_count": 9,
   "metadata": {},
   "outputs": [],
   "source": [
    "r = requests.get(url)"
   ]
  },
  {
   "cell_type": "code",
   "execution_count": 10,
   "metadata": {},
   "outputs": [
    {
     "data": {
      "text/plain": [
       "200"
      ]
     },
     "execution_count": 10,
     "metadata": {},
     "output_type": "execute_result"
    }
   ],
   "source": [
    "r.status_code"
   ]
  },
  {
   "cell_type": "code",
   "execution_count": 11,
   "metadata": {},
   "outputs": [],
   "source": [
    "soup = BeautifulSoup(r.content,'html.parser')"
   ]
  },
  {
   "cell_type": "code",
   "execution_count": 12,
   "metadata": {},
   "outputs": [],
   "source": [
    "stados = soup.find_all(\"select\" ,class_=\"ddl state-dropdown\")\n"
   ]
  },
  {
   "cell_type": "code",
   "execution_count": 13,
   "metadata": {},
   "outputs": [],
   "source": [
    "stados = [i.text for i in stados]"
   ]
  },
  {
   "cell_type": "code",
   "execution_count": 14,
   "metadata": {},
   "outputs": [
    {
     "data": {
      "text/plain": [
       "['Alabama',\n",
       " 'Alaska',\n",
       " 'Arizona',\n",
       " 'Arkansas',\n",
       " 'California',\n",
       " 'Colorado',\n",
       " 'Connecticut',\n",
       " 'Delaware',\n",
       " 'District of Columbia',\n",
       " 'Florida',\n",
       " 'Georgia',\n",
       " 'Hawaii',\n",
       " 'Idaho',\n",
       " 'Illinois',\n",
       " 'Indiana',\n",
       " 'Iowa',\n",
       " 'Kansas',\n",
       " 'Kentucky',\n",
       " 'Louisiana',\n",
       " 'Maine',\n",
       " 'Maryland',\n",
       " 'Massachusetts',\n",
       " 'Michigan',\n",
       " 'Minnesota',\n",
       " 'Mississippi',\n",
       " 'Missouri',\n",
       " 'Montana',\n",
       " 'Nebraska',\n",
       " 'Nevada',\n",
       " 'New Hampshire',\n",
       " 'New Jersey',\n",
       " 'New Mexico',\n",
       " 'New York',\n",
       " 'North Carolina',\n",
       " 'North Dakota',\n",
       " 'Ohio',\n",
       " 'Oklahoma',\n",
       " 'Oregon',\n",
       " 'Pennsylvania',\n",
       " 'Rhode Island',\n",
       " 'South Carolina',\n",
       " 'South Dakota',\n",
       " 'Tennessee',\n",
       " 'Texas',\n",
       " 'Utah',\n",
       " 'Vermont',\n",
       " 'Virginia',\n",
       " 'Washington',\n",
       " 'West Virginia',\n",
       " 'Wisconsin',\n",
       " 'Wyoming']"
      ]
     },
     "execution_count": 14,
     "metadata": {},
     "output_type": "execute_result"
    }
   ],
   "source": [
    "stados = [i.strip() for i in stados[0].split('\\n') if i.strip()]# eliminar \\n de una lista \n",
    "stados.pop(0)#eliminar first item\n",
    "stados"
   ]
  },
  {
   "cell_type": "code",
   "execution_count": 15,
   "metadata": {},
   "outputs": [
    {
     "name": "stdout",
     "output_type": "stream",
     "text": [
      "51\n"
     ]
    }
   ],
   "source": [
    "print(len(stados))"
   ]
  },
  {
   "cell_type": "code",
   "execution_count": 57,
   "metadata": {},
   "outputs": [],
   "source": [
    "url_georgia ='https://www.visitingangels.com/senior-home-care-georgia-ga'"
   ]
  },
  {
   "cell_type": "code",
   "execution_count": 58,
   "metadata": {},
   "outputs": [],
   "source": [
    "r = requests.get(url_georgia)\n",
    "r.status_code\n",
    "soup = BeautifulSoup(r.content,'html.parser')"
   ]
  },
  {
   "cell_type": "code",
   "execution_count": 59,
   "metadata": {},
   "outputs": [],
   "source": [
    "georgia_name =soup.find_all(\"div\",class_=\"franInfo\")"
   ]
  },
  {
   "cell_type": "code",
   "execution_count": 60,
   "metadata": {},
   "outputs": [],
   "source": [
    "georgia_name = [i.text for i in georgia_name]\n",
    "# georgia_name = [i.strip() for i in georgia_name[0].split('\\n') if i.strip()]\n",
    "# georgia_name "
   ]
  },
  {
   "cell_type": "code",
   "execution_count": 61,
   "metadata": {},
   "outputs": [
    {
     "data": {
      "text/plain": [
       "['              Visiting Angels Living Assistance Services of Acworth              Elizabeth Altimari              3950 Cobb Parkway  #704               Acworth GA 30101                We offer senior care in  Kennesaw, Acworth, Emerson, Cartersville and the Surrounding AreasContact office',\n",
       " '              Visiting Angels Living Assistance Services of Alpharetta              Gary Stiefel              11775 Northfall Ln #207               Alpharetta GA 30009                We offer senior care in  Alpharetta, Milton, Woodstock, Canton and the Surrounding CommunitiesContact office',\n",
       " '              Visiting Angels Living Assistance Services of Athens               Jeff Ginn              3700 Atlanta Hwy  #40               Athens GA 30606                We offer senior care in  the Athens Region including Barrow, Clarke, Oconee and Walton CountiesContact office',\n",
       " '              Visiting Angels Living Assistance Services of Atlanta              Marcie Campbell              309 E Paces Ferry Rd  NE  #400               Atlanta GA 30305                We offer senior care in  Atlanta, Buckhead, Decatur, Vinings, GA and the Surrounding CommunitiesContact office',\n",
       " \"              Visiting Angels Living Assistance Services of Atlanta              Patricia Williams Goodgame              1100 Peachtree St NE #200               Atlanta GA 30309                We offer senior care in  Metropolitan Atlanta, GA and it's Surrounding AreasContact office\",\n",
       " '              Visiting Angels Living Assistance Services of Augusta              Scott McIver & Beth Bandi              119 Davis Road Suite #6B              Augusta GA 30907                We offer senior care in  Augusta, Evans, Martinez, GA, and the Surrounding AreaContact office',\n",
       " '              Visiting Angels Living Assistance Services of Brunswick              Catherine Ascher              8 St Andrews Ct               Brunswick GA 31520                We offer senior care in  Brunswick, the Golden Isles and Southeast GeorgiaContact office',\n",
       " '              Visiting Angels Living Assistance Services of Cleveland              Kevin & Susie Murray              24 W Jarrard St               Cleveland GA 30528                We offer senior care in  North Hall, East Lumpkin, White, Habersham, Stephens, and Rabun CountiesContact office',\n",
       " '              Visiting Angels Living Assistance Services of Columbus              Matt Johnson               1501  13th St #G               Columbus GA 31901                We offer senior care in  Columbus, GA and the Surrounding AreasContact office',\n",
       " '              Visiting Angels Living Assistance Services of Dallas              Teresa Janiga              110 Evans Mill Dr #801              Dallas GA 30157                We offer senior care in  Marietta, Austell, Powder Springs, Dallas, GA and Surrounding AreasContact office',\n",
       " '              Visiting Angels Living Assistance Services of Dawsonville              Susan & Jim Sanfilippo              135 Prominence Ct #120              Dawsonville GA 30534                We offer senior care in  Gainesville and Communities in Hall, Forsyth, Dawson & Lumpkin Counties, GAContact office',\n",
       " '              Visiting Angels Living Assistance Services of Douglasville              Teresa Janiga              3400 Chapel Hill Rd   #801               Douglasville GA 30135                We offer senior care in  Douglasville, Lithia Springs, Smyrna, Mableton and Surrounding AreasContact office',\n",
       " '              Visiting Angels Living Assistance Services of Ellijay              Camille Blott              89 Hospital Circle  #3               Ellijay GA 39540                We offer senior care in  Blue Ridge, Ellijay, Blairsville, Hiawassee, Chatsworth, Morganton, GA & Surrounding AreasContact office',\n",
       " '              Visiting Angels Living Assistance Services of Fayetteville              David McIver              110 Habersham Dr #132              Fayetteville GA 30214                We offer senior care in  Fayetteville, Newnan, McDonough, Stockbridge, Peachtree City, and Communities in Fayette, Coweta, Henry, and Clayton Counties, GAContact office',\n",
       " '              Visiting Angels Living Assistance Services of Griffin              Gerald Milner              229 E College St  #D               Griffin GA 30224                We offer senior care in  the Communities in Butts, Spalding, Pike, Meriwether CountiesContact office',\n",
       " '              Visiting Angels Living Assistance Services of Hoschton              Thomas Price & Michele Price              165 Towne Center Pkwy               Hoschton GA 30548                We offer senior care in  Oakwood, Hoschton, Winder, Jefferson, Commerce, Gainesville & the Surrounding AreaContact office',\n",
       " '              Visiting Angels Living Assistance Services of Lithonia              Liliane Monthe              7495 Covington Hwy               Lithonia GA 30058                We offer senior care in  Lithonia, Snellville, Decatur, and Stone Mountain AreasContact office',\n",
       " '              Visiting Angels Living Assistance Services of Marietta              Teresa Janiga              2470 Windy Hill Rd SE #300               Marietta GA 30067                We offer senior care in  Marietta and Smyrna, GAContact office',\n",
       " '              Visiting Angels Living Assistance Services of Roswell              Teresa Janiga & Scott McIver              599 West Crossville Rd                Roswell GA 30075                We offer senior care in  Roswell and the Surrounding AreasContact office',\n",
       " '              Visiting Angels Living Assistance Services of Savannah              Kevin & Suzanne Hertzwig              6205 Abercorn St #101              Savannah GA 31405                We offer senior care in  Savannah, Richmond Hill, and Effingham County GeorgiaContact office',\n",
       " '              Visiting Angels Living Assistance Services of Tifton              David Milby & Bill Milby              311 12th St West  #3               Tifton GA 31794                We offer senior care in  Tifton and the Surrounding Areas Contact office',\n",
       " '              Visiting Angels Living Assistance Services of Tucker              Carolyn Easter & Susan Cooper              4500 Hugh Howell Rd  #530               Tucker GA 30084                We offer senior care in  Lilburn, Stone Mountain, Lawrenceville, Tucker, GA, and the Surrounding AreaContact office',\n",
       " '              Visiting Angels Living Assistance Services of Warner Robins              David Milby & Bill Milby              335 Margie Dr               Warner Robins GA 31088                We offer senior care in  Central GA, Greater Macon, Warner Robins, Perry, GA and the Surrounding AreasContact office']"
      ]
     },
     "execution_count": 61,
     "metadata": {},
     "output_type": "execute_result"
    }
   ],
   "source": [
    "georgia_name = [i.replace('\\n', '') for i in georgia_name]\n",
    "# georgia_name = [i.replace('', '') for i in georgia_name]\n",
    "georgia_name\n",
    "# for i in georgia_name:\n",
    "#     print(i)"
   ]
  },
  {
   "cell_type": "code",
   "execution_count": null,
   "metadata": {},
   "outputs": [],
   "source": [
    "dom = etree.HTML(str(soup))\n",
    "precios = dom.xpath(\"//span[@class='andes-"
   ]
  },
  {
   "cell_type": "code",
   "execution_count": null,
   "metadata": {},
   "outputs": [],
   "source": [
    "#https://www.visitingangels.com/senior-home-care-georgia-ga"
   ]
  }
 ],
 "metadata": {
  "kernelspec": {
   "display_name": "Python 3",
   "language": "python",
   "name": "python3"
  },
  "language_info": {
   "codemirror_mode": {
    "name": "ipython",
    "version": 3
   },
   "file_extension": ".py",
   "mimetype": "text/x-python",
   "name": "python",
   "nbconvert_exporter": "python",
   "pygments_lexer": "ipython3",
   "version": "3.11.5"
  }
 },
 "nbformat": 4,
 "nbformat_minor": 2
}
